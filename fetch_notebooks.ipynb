{
 "cells": [
  {
   "cell_type": "markdown",
   "metadata": {},
   "source": [
    "# Fetching computational notebooks of data journalists\n",
    "\n",
    "Many data journalism articles are published in conjunction with computational notebooks under source code management with git and published on GitHub. This Jupyter notebook details the methods used to search for and download these notebooks as git submodules."
   ]
  },
  {
   "cell_type": "markdown",
   "metadata": {},
   "source": [
    "## A quick search for data journalism repos on GitHub\n",
    "\n",
    "I initially use the GitHub Search API to see which users are adding \"journalism\" or \"data journalism\" tags to their repos. The code below will return search results that reflect the current collection of code repositories with these tags on GitHub. Results are written to `search_results.txt` in order to preserve the search results at the time of this analysis."
   ]
  },
  {
   "cell_type": "code",
   "execution_count": 1,
   "metadata": {},
   "outputs": [
    {
     "name": "stdout",
     "output_type": "stream",
     "text": [
      "54 Results\n",
      "https://github.com/BurdaMagazinOrg/thunder-distribution\n",
      "https://github.com/CJWorkbench/cjworkbench\n",
      "https://github.com/Caaddss/coda.br_workshop\n",
      "https://github.com/Enegnei/JacobAppelbaumLeavesTor\n",
      "https://github.com/IVMachiavelli/OSINT_Team_Links\n",
      "https://github.com/N2ITN/are-you-fake-news\n",
      "https://github.com/ONLPS/Datasets\n",
      "https://github.com/OpenRefine/OpenRefine\n",
      "https://github.com/Ph055a/OSINT-Collection\n",
      "https://github.com/TryGhost/Ghost\n",
      "https://github.com/TryGhost/Ghost-CLI\n",
      "https://github.com/alephdata/aleph\n",
      "https://github.com/alephdata/opensanctions\n",
      "https://github.com/brandonrobertz/autoscrape-py\n",
      "https://github.com/california-civic-data-coalition/django-calaccess-raw-data\n",
      "https://github.com/coralproject/talk\n",
      "https://github.com/dannguyen/journalism-syllabi\n",
      "https://github.com/datadesk/california-ccscore-analysis\n",
      "https://github.com/datadesk/california-crop-production-wages-analysis\n",
      "https://github.com/datadesk/california-electricity-capacity-analysis\n",
      "https://github.com/datadesk/california-fire-zone-analysis\n",
      "https://github.com/datadesk/california-h2a-visas-analysis\n",
      "https://github.com/datadesk/census-data-downloader\n",
      "https://github.com/datadesk/homeless-arrests-analysis\n",
      "https://github.com/datadesk/kobe-every-shot-ever\n",
      "https://github.com/datadesk/lapd-crime-classification-analysis\n",
      "https://github.com/datadesk/notebooks\n",
      "https://github.com/datadesk/python-documentcloud\n",
      "https://github.com/datadesk/street-racing-analysis\n",
      "https://github.com/datadesk/tutorials\n",
      "https://github.com/freedomofpress/securedrop\n",
      "https://github.com/globeandmail/startr\n",
      "https://github.com/guardian/frontend\n",
      "https://github.com/hrbrmstr/immigration\n",
      "https://github.com/idyll-lang/idyll\n",
      "https://github.com/infoculture/awesome-datajournalism\n",
      "https://github.com/jadianes/data-journalism\n",
      "https://github.com/joincivil/Civil\n",
      "https://github.com/letterpad/letterpad\n",
      "https://github.com/nemild/hack-the-media\n",
      "https://github.com/pastpages/pastpages.org\n",
      "https://github.com/pattrn-project/pattrn\n",
      "https://github.com/pippinlee/open-journalism-project\n",
      "https://github.com/pravj/inside-cricket\n",
      "https://github.com/rdmurphy/journalize\n",
      "https://github.com/rodolfo-viana/dailylog\n",
      "https://github.com/school-of-data/r-consortium-proposal\n",
      "https://github.com/securityfirst/Umbrella_android\n",
      "https://github.com/superdesk/web-publisher\n",
      "https://github.com/sytpp/rtbf\n",
      "https://github.com/tarbell-project/tarbell\n",
      "https://github.com/thomaspark/snowball\n",
      "https://github.com/wbkd/awesome-interactive-journalism\n",
      "https://github.com/wireservice/lookup\n"
     ]
    }
   ],
   "source": [
    "import requests\n",
    "\n",
    "# Fetch a sorted, unique list of GitHub repos with relevant tags\n",
    "repos = []\n",
    "for tag in ['data-journalism', 'journalism']:\n",
    "    url = 'https://api.github.com/search/repositories?q=topic:{}'.format(tag)\n",
    "    r = requests.get(url)\n",
    "    repos += [ item['html_url'] for item in r.json()['items'] ]\n",
    "repos = list(set(repos))  # deduplicate results\n",
    "repos.sort()\n",
    "\n",
    "# Save this stuff to a text file\n",
    "fn = 'search_results.txt'\n",
    "results = '{} Results\\n'.format(len(repos))\n",
    "results += '\\n'.join(repos)\n",
    "with open(fn, 'w') as f:\n",
    "    f.write(results)\n",
    "\n",
    "with open(fn, 'r') as f:\n",
    "    print(f.read())"
   ]
  },
  {
   "cell_type": "markdown",
   "metadata": {},
   "source": [
    "A manual inspection of each repo revealed that many of these are tools and tutorials for data journalism. However, I'm only interested in those computational notebooks that data workflows used in published articles. This search did turn up a handful interesting repos worth a closer work. I download notebooks from the *Los Angeles Times* later and include salient results from this search in the list of repos downloaded as individual numbers."
   ]
  },
  {
   "cell_type": "markdown",
   "metadata": {},
   "source": [
    "### Notebooks from the *Los Angles Times*\n",
    "\n",
    "While many relevant notebooks from the *Los Angeles Times* were returned in the search above, the *LA Times* Data Desk keeps a centeralized [repository of all their computational notebooks](https://github.com/datadesk/notebooks/tree/d0fea75950b7911d37cd5c2fc1995da498f3d494). This index includes notebooks hosted on journalist's personal GitHub profile, too. \n",
    "\n",
    "Including the latest commit ID in the raw URL to `notebooks.csv` ensures that results from the bash command below only return notebooks published at the time of my analysis, May 26, 2019. GitHub has a few [hidden features for permenant links](https://help.github.com/en/articles/getting-permanent-links-to-files)."
   ]
  },
  {
   "cell_type": "code",
   "execution_count": 2,
   "metadata": {
    "scrolled": true
   },
   "outputs": [
    {
     "name": "stdout",
     "output_type": "stream",
     "text": [
      "  % Total    % Received % Xferd  Average Speed   Time    Time     Time  Current\n",
      "                                 Dload  Upload   Total   Spent    Left  Speed\n",
      "100  3781  100  3781    0     0   6899      0 --:--:-- --:--:-- --:--:--  6887\n",
      "Cloning into '/home/jovyan/notebooks/la_times/census-hard-to-map-analysis'...\n",
      "remote: Enumerating objects: 39, done.\u001b[K\n",
      "remote: Counting objects: 100% (39/39), done.\u001b[K\n",
      "remote: Compressing objects: 100% (30/30), done.\u001b[K\n",
      "remote: Total 39 (delta 11), reused 28 (delta 6), pack-reused 0\u001b[K\n",
      "Unpacking objects: 100% (39/39), done.\n",
      "Cloning into '/home/jovyan/notebooks/la_times/hsr-document-analysis'...\n",
      "remote: Enumerating objects: 26, done.\u001b[K\n",
      "remote: Counting objects: 100% (26/26), done.\u001b[K\n",
      "remote: Compressing objects: 100% (22/22), done.\u001b[K\n",
      "remote: Total 26 (delta 11), reused 12 (delta 3), pack-reused 0\u001b[K\n",
      "Unpacking objects: 100% (26/26), done.\n",
      "Cloning into '/home/jovyan/notebooks/la_times/lawlers-law'...\n",
      "remote: Enumerating objects: 27948, done.\u001b[K\n",
      "remote: Total 27948 (delta 0), reused 0 (delta 0), pack-reused 27948\u001b[K\n",
      "Receiving objects: 100% (27948/27948), 477.58 MiB | 6.03 MiB/s, done.\n",
      "Resolving deltas: 100% (298/298), done.\n",
      "Cloning into '/home/jovyan/notebooks/la_times/swana-census-analysis'...\n",
      "remote: Enumerating objects: 37, done.\u001b[K\n",
      "remote: Counting objects: 100% (37/37), done.\u001b[K\n",
      "remote: Compressing objects: 100% (33/33), done.\u001b[K\n",
      "remote: Total 37 (delta 7), reused 25 (delta 3), pack-reused 0\u001b[K\n",
      "Unpacking objects: 100% (37/37), done.\n",
      "Cloning into '/home/jovyan/notebooks/la_times/la-me-ln-california-fire-aircraft-delay'...\n",
      "fatal: repository 'https://github.com/kyleykim/R_Scripts/tree/master/la-me-ln-california-fire-aircraft-delay.git/' not found\n",
      "fatal: clone of 'https://github.com/kyleykim/R_Scripts/tree/master/la-me-ln-california-fire-aircraft-delay.git' into submodule path '/home/jovyan/notebooks/la_times/la-me-ln-california-fire-aircraft-delay' failed\n",
      "Cloning into '/home/jovyan/notebooks/la_times/la-me-ln-hhh-unequal'...\n",
      "fatal: repository 'https://github.com/kyleykim/R_Scripts/tree/master/la-me-ln-hhh-unequal.git/' not found\n",
      "fatal: clone of 'https://github.com/kyleykim/R_Scripts/tree/master/la-me-ln-hhh-unequal.git' into submodule path '/home/jovyan/notebooks/la_times/la-me-ln-hhh-unequal' failed\n",
      "Cloning into '/home/jovyan/notebooks/la_times/highschool-homicide-analysis'...\n",
      "remote: Enumerating objects: 65, done.\u001b[K\n",
      "remote: Counting objects: 100% (65/65), done.\u001b[K\n",
      "remote: Compressing objects: 100% (43/43), done.\u001b[K\n",
      "remote: Total 65 (delta 19), reused 61 (delta 19), pack-reused 0\u001b[K\n",
      "Unpacking objects: 100% (65/65), done.\n",
      "Cloning into '/home/jovyan/notebooks/la_times/deleon-district-election-results-analysis'...\n",
      "remote: Enumerating objects: 42, done.\u001b[K\n",
      "remote: Counting objects: 100% (42/42), done.\u001b[K\n",
      "remote: Compressing objects: 100% (36/36), done.\u001b[K\n",
      "remote: Total 42 (delta 10), reused 29 (delta 3), pack-reused 0\u001b[K\n",
      "Unpacking objects: 100% (42/42), done.\n",
      "Cloning into '/home/jovyan/notebooks/la_times/nyrb-covers-analysis'...\n",
      "remote: Enumerating objects: 3, done.\u001b[K\n",
      "remote: Counting objects: 100% (3/3), done.\u001b[K\n",
      "remote: Compressing objects: 100% (3/3), done.\u001b[K\n",
      "remote: Total 3401 (delta 0), reused 0 (delta 0), pack-reused 3398\u001b[K\n",
      "Receiving objects: 100% (3401/3401), 225.44 MiB | 6.53 MiB/s, done.\n",
      "Resolving deltas: 100% (618/618), done.\n",
      "Cloning into '/home/jovyan/notebooks/la_times/california-fire-zone-analysis'...\n",
      "remote: Enumerating objects: 3, done.\u001b[K\n",
      "remote: Counting objects: 100% (3/3), done.\u001b[K\n",
      "remote: Compressing objects: 100% (3/3), done.\u001b[K\n",
      "fatal: error when closing sha1 file: Input/output error\n",
      "fatal: unpack-objects failed\n",
      "fatal: clone of 'https://github.com/datadesk/california-fire-zone-analysis.git' into submodule path '/home/jovyan/notebooks/la_times/california-fire-zone-analysis' failed\n",
      "Cloning into '/home/jovyan/notebooks/la_times/helicopter-accident-analysis'...\n",
      "remote: Enumerating objects: 61, done.\u001b[K\n",
      "remote: Total 61 (delta 0), reused 0 (delta 0), pack-reused 61\u001b[K\n",
      "Unpacking objects: 100% (61/61), done.\n",
      "Cloning into '/home/jovyan/notebooks/la_times/hollister-ranch-analysis'...\n",
      "remote: Enumerating objects: 505, done.\u001b[K\n",
      "remote: Total 505 (delta 0), reused 0 (delta 0), pack-reused 505\u001b[K\n",
      "Receiving objects: 100% (505/505), 75.95 MiB | 7.13 MiB/s, done.\n",
      "Resolving deltas: 100% (374/374), done.\n",
      "Cloning into '/home/jovyan/notebooks/la_times/la-settlements-analysis'...\n",
      "remote: Enumerating objects: 26, done.\u001b[K\n",
      "remote: Total 26 (delta 0), reused 0 (delta 0), pack-reused 26\u001b[K\n",
      "Unpacking objects: 100% (26/26), done.\n",
      "Cloning into '/home/jovyan/notebooks/la_times/california-k12-notebooks'...\n",
      "remote: Enumerating objects: 79, done.\u001b[K\n",
      "remote: Total 79 (delta 0), reused 0 (delta 0), pack-reused 79\u001b[K\n",
      "Unpacking objects: 100% (79/79), done.\n",
      "Cloning into '/home/jovyan/notebooks/la_times/street-racing-analysis'...\n",
      "remote: Enumerating objects: 36, done.\u001b[K\n",
      "remote: Total 36 (delta 0), reused 0 (delta 0), pack-reused 36\u001b[K\n",
      "Unpacking objects: 100% (36/36), done.\n",
      "Cloning into '/home/jovyan/notebooks/la_times/homeless-arrests-analysis'...\n",
      "remote: Enumerating objects: 19, done.\u001b[K\n",
      "remote: Total 19 (delta 0), reused 0 (delta 0), pack-reused 19\u001b[K\n",
      "Unpacking objects: 100% (19/19), done.\n",
      "Cloning into '/home/jovyan/notebooks/la_times/ferc-enforcement-analysis'...\n",
      "remote: Enumerating objects: 40, done.\u001b[K\n",
      "remote: Total 40 (delta 0), reused 0 (delta 0), pack-reused 40\u001b[K\n",
      "Unpacking objects: 100% (40/40), done.\n",
      "Cloning into '/home/jovyan/notebooks/la_times/houston-flood-zone-analysis'...\n",
      "remote: Enumerating objects: 53, done.\u001b[K\n",
      "remote: Total 53 (delta 0), reused 0 (delta 0), pack-reused 53\u001b[K\n",
      "Unpacking objects: 100% (53/53), done.\n",
      "Cloning into '/home/jovyan/notebooks/la_times/california-kindergarten-vaccination-analysis'...\n",
      "remote: Enumerating objects: 30, done.\u001b[K\n",
      "remote: Total 30 (delta 0), reused 0 (delta 0), pack-reused 30\u001b[K\n",
      "Unpacking objects: 100% (30/30), done.\n",
      "Cloning into '/home/jovyan/notebooks/la_times/california-h2a-visas-analysis'...\n",
      "remote: Enumerating objects: 82, done.\u001b[K\n",
      "remote: Total 82 (delta 0), reused 0 (delta 0), pack-reused 82\u001b[K\n",
      "Unpacking objects: 100% (82/82), done.\n",
      "Cloning into '/home/jovyan/notebooks/la_times/construction-jobs-analysis'...\n",
      "remote: Enumerating objects: 119, done.\u001b[K\n",
      "remote: Total 119 (delta 0), reused 0 (delta 0), pack-reused 119\u001b[K\n",
      "Receiving objects: 100% (119/119), 69.76 MiB | 6.83 MiB/s, done.\n",
      "Resolving deltas: 100% (44/44), done.\n",
      "Cloning into '/home/jovyan/notebooks/la_times/california-crop-production-wages-analysis'...\n",
      "remote: Enumerating objects: 94, done.\u001b[K\n",
      "remote: Total 94 (delta 0), reused 0 (delta 0), pack-reused 94\u001b[K\n",
      "Unpacking objects: 100% (94/94), done.\n",
      "Cloning into '/home/jovyan/notebooks/la_times/california-electricity-capacity-analysis'...\n",
      "remote: Enumerating objects: 267, done.\u001b[K\n",
      "remote: Total 267 (delta 0), reused 0 (delta 0), pack-reused 267\u001b[K\n",
      "Receiving objects: 100% (267/267), 501.37 MiB | 6.88 MiB/s, done.\n",
      "Resolving deltas: 100% (37/37), done.\n",
      "Cloning into '/home/jovyan/notebooks/la_times/california-ccscore-analysis'...\n",
      "remote: Enumerating objects: 34, done.\u001b[K\n",
      "remote: Total 34 (delta 0), reused 0 (delta 0), pack-reused 34\u001b[K\n",
      "Unpacking objects: 100% (34/34), done.\n",
      "Cloning into '/home/jovyan/notebooks/la_times/la-vacant-building-complaints-analysis'...\n",
      "remote: Enumerating objects: 26, done.\u001b[K\n",
      "remote: Total 26 (delta 0), reused 0 (delta 0), pack-reused 26\u001b[K\n",
      "Unpacking objects: 100% (26/26), done.\n",
      "Cloning into '/home/jovyan/notebooks/la_times/kobe-every-shot-ever'...\n",
      "remote: Enumerating objects: 40, done.\u001b[K\n",
      "remote: Total 40 (delta 0), reused 0 (delta 0), pack-reused 40\n",
      "Unpacking objects: 100% (40/40), done.\n",
      "Cloning into '/home/jovyan/notebooks/la_times/lapd-crime-classification-analysis'...\n",
      "remote: Enumerating objects: 26, done.\u001b[K\n",
      "remote: Total 26 (delta 0), reused 0 (delta 0), pack-reused 26\u001b[K\n",
      "Unpacking objects: 100% (26/26), done.\n"
     ]
    }
   ],
   "source": [
    "! mkdir -p notebooks/la_times \\\n",
    "&& cd notebooks/la_times \\\n",
    "&& curl \"https://raw.githubusercontent.com/datadesk/notebooks/d0fea75950b7911d37cd5c2fc1995da498f3d494/notebooks.csv\" \\\n",
    "| awk -F ',' '{print $4}' \\\n",
    "| tail -n +2 \\\n",
    "| xargs -I {} git submodule add \"{}.git\""
   ]
  },
  {
   "cell_type": "markdown",
   "metadata": {},
   "source": [
    "### Converting to PDF for coding"
   ]
  },
  {
   "cell_type": "code",
   "execution_count": 9,
   "metadata": {},
   "outputs": [
    {
     "name": "stderr",
     "output_type": "stream",
     "text": [
      "find: ‘**/*.ipynb’: No such file or directory\n"
     ]
    },
    {
     "ename": "CalledProcessError",
     "evalue": "Command 'b'\\ncd notebooks && find **/*.ipynb\\n'' returned non-zero exit status 1.",
     "output_type": "error",
     "traceback": [
      "\u001b[0;31m---------------------------------------------------------------------------\u001b[0m",
      "\u001b[0;31mCalledProcessError\u001b[0m                        Traceback (most recent call last)",
      "\u001b[0;32m<ipython-input-9-4bd33b1c6ee9>\u001b[0m in \u001b[0;36m<module>\u001b[0;34m\u001b[0m\n\u001b[0;32m----> 1\u001b[0;31m \u001b[0mget_ipython\u001b[0m\u001b[0;34m(\u001b[0m\u001b[0;34m)\u001b[0m\u001b[0;34m.\u001b[0m\u001b[0mrun_cell_magic\u001b[0m\u001b[0;34m(\u001b[0m\u001b[0;34m'bash'\u001b[0m\u001b[0;34m,\u001b[0m \u001b[0;34m''\u001b[0m\u001b[0;34m,\u001b[0m \u001b[0;34m'\\ncd notebooks && find **/*.ipynb\\n'\u001b[0m\u001b[0;34m)\u001b[0m\u001b[0;34m\u001b[0m\u001b[0;34m\u001b[0m\u001b[0m\n\u001b[0m",
      "\u001b[0;32m/opt/conda/lib/python3.7/site-packages/IPython/core/interactiveshell.py\u001b[0m in \u001b[0;36mrun_cell_magic\u001b[0;34m(self, magic_name, line, cell)\u001b[0m\n\u001b[1;32m   2350\u001b[0m             \u001b[0;32mwith\u001b[0m \u001b[0mself\u001b[0m\u001b[0;34m.\u001b[0m\u001b[0mbuiltin_trap\u001b[0m\u001b[0;34m:\u001b[0m\u001b[0;34m\u001b[0m\u001b[0;34m\u001b[0m\u001b[0m\n\u001b[1;32m   2351\u001b[0m                 \u001b[0margs\u001b[0m \u001b[0;34m=\u001b[0m \u001b[0;34m(\u001b[0m\u001b[0mmagic_arg_s\u001b[0m\u001b[0;34m,\u001b[0m \u001b[0mcell\u001b[0m\u001b[0;34m)\u001b[0m\u001b[0;34m\u001b[0m\u001b[0;34m\u001b[0m\u001b[0m\n\u001b[0;32m-> 2352\u001b[0;31m                 \u001b[0mresult\u001b[0m \u001b[0;34m=\u001b[0m \u001b[0mfn\u001b[0m\u001b[0;34m(\u001b[0m\u001b[0;34m*\u001b[0m\u001b[0margs\u001b[0m\u001b[0;34m,\u001b[0m \u001b[0;34m**\u001b[0m\u001b[0mkwargs\u001b[0m\u001b[0;34m)\u001b[0m\u001b[0;34m\u001b[0m\u001b[0;34m\u001b[0m\u001b[0m\n\u001b[0m\u001b[1;32m   2353\u001b[0m             \u001b[0;32mreturn\u001b[0m \u001b[0mresult\u001b[0m\u001b[0;34m\u001b[0m\u001b[0;34m\u001b[0m\u001b[0m\n\u001b[1;32m   2354\u001b[0m \u001b[0;34m\u001b[0m\u001b[0m\n",
      "\u001b[0;32m/opt/conda/lib/python3.7/site-packages/IPython/core/magics/script.py\u001b[0m in \u001b[0;36mnamed_script_magic\u001b[0;34m(line, cell)\u001b[0m\n\u001b[1;32m    140\u001b[0m             \u001b[0;32melse\u001b[0m\u001b[0;34m:\u001b[0m\u001b[0;34m\u001b[0m\u001b[0;34m\u001b[0m\u001b[0m\n\u001b[1;32m    141\u001b[0m                 \u001b[0mline\u001b[0m \u001b[0;34m=\u001b[0m \u001b[0mscript\u001b[0m\u001b[0;34m\u001b[0m\u001b[0;34m\u001b[0m\u001b[0m\n\u001b[0;32m--> 142\u001b[0;31m             \u001b[0;32mreturn\u001b[0m \u001b[0mself\u001b[0m\u001b[0;34m.\u001b[0m\u001b[0mshebang\u001b[0m\u001b[0;34m(\u001b[0m\u001b[0mline\u001b[0m\u001b[0;34m,\u001b[0m \u001b[0mcell\u001b[0m\u001b[0;34m)\u001b[0m\u001b[0;34m\u001b[0m\u001b[0;34m\u001b[0m\u001b[0m\n\u001b[0m\u001b[1;32m    143\u001b[0m \u001b[0;34m\u001b[0m\u001b[0m\n\u001b[1;32m    144\u001b[0m         \u001b[0;31m# write a basic docstring:\u001b[0m\u001b[0;34m\u001b[0m\u001b[0;34m\u001b[0m\u001b[0;34m\u001b[0m\u001b[0m\n",
      "\u001b[0;32m</opt/conda/lib/python3.7/site-packages/decorator.py:decorator-gen-110>\u001b[0m in \u001b[0;36mshebang\u001b[0;34m(self, line, cell)\u001b[0m\n",
      "\u001b[0;32m/opt/conda/lib/python3.7/site-packages/IPython/core/magic.py\u001b[0m in \u001b[0;36m<lambda>\u001b[0;34m(f, *a, **k)\u001b[0m\n\u001b[1;32m    185\u001b[0m     \u001b[0;31m# but it's overkill for just that one bit of state.\u001b[0m\u001b[0;34m\u001b[0m\u001b[0;34m\u001b[0m\u001b[0;34m\u001b[0m\u001b[0m\n\u001b[1;32m    186\u001b[0m     \u001b[0;32mdef\u001b[0m \u001b[0mmagic_deco\u001b[0m\u001b[0;34m(\u001b[0m\u001b[0marg\u001b[0m\u001b[0;34m)\u001b[0m\u001b[0;34m:\u001b[0m\u001b[0;34m\u001b[0m\u001b[0;34m\u001b[0m\u001b[0m\n\u001b[0;32m--> 187\u001b[0;31m         \u001b[0mcall\u001b[0m \u001b[0;34m=\u001b[0m \u001b[0;32mlambda\u001b[0m \u001b[0mf\u001b[0m\u001b[0;34m,\u001b[0m \u001b[0;34m*\u001b[0m\u001b[0ma\u001b[0m\u001b[0;34m,\u001b[0m \u001b[0;34m**\u001b[0m\u001b[0mk\u001b[0m\u001b[0;34m:\u001b[0m \u001b[0mf\u001b[0m\u001b[0;34m(\u001b[0m\u001b[0;34m*\u001b[0m\u001b[0ma\u001b[0m\u001b[0;34m,\u001b[0m \u001b[0;34m**\u001b[0m\u001b[0mk\u001b[0m\u001b[0;34m)\u001b[0m\u001b[0;34m\u001b[0m\u001b[0;34m\u001b[0m\u001b[0m\n\u001b[0m\u001b[1;32m    188\u001b[0m \u001b[0;34m\u001b[0m\u001b[0m\n\u001b[1;32m    189\u001b[0m         \u001b[0;32mif\u001b[0m \u001b[0mcallable\u001b[0m\u001b[0;34m(\u001b[0m\u001b[0marg\u001b[0m\u001b[0;34m)\u001b[0m\u001b[0;34m:\u001b[0m\u001b[0;34m\u001b[0m\u001b[0;34m\u001b[0m\u001b[0m\n",
      "\u001b[0;32m/opt/conda/lib/python3.7/site-packages/IPython/core/magics/script.py\u001b[0m in \u001b[0;36mshebang\u001b[0;34m(self, line, cell)\u001b[0m\n\u001b[1;32m    243\u001b[0m             \u001b[0msys\u001b[0m\u001b[0;34m.\u001b[0m\u001b[0mstderr\u001b[0m\u001b[0;34m.\u001b[0m\u001b[0mflush\u001b[0m\u001b[0;34m(\u001b[0m\u001b[0;34m)\u001b[0m\u001b[0;34m\u001b[0m\u001b[0;34m\u001b[0m\u001b[0m\n\u001b[1;32m    244\u001b[0m         \u001b[0;32mif\u001b[0m \u001b[0margs\u001b[0m\u001b[0;34m.\u001b[0m\u001b[0mraise_error\u001b[0m \u001b[0;32mand\u001b[0m \u001b[0mp\u001b[0m\u001b[0;34m.\u001b[0m\u001b[0mreturncode\u001b[0m\u001b[0;34m!=\u001b[0m\u001b[0;36m0\u001b[0m\u001b[0;34m:\u001b[0m\u001b[0;34m\u001b[0m\u001b[0;34m\u001b[0m\u001b[0m\n\u001b[0;32m--> 245\u001b[0;31m             \u001b[0;32mraise\u001b[0m \u001b[0mCalledProcessError\u001b[0m\u001b[0;34m(\u001b[0m\u001b[0mp\u001b[0m\u001b[0;34m.\u001b[0m\u001b[0mreturncode\u001b[0m\u001b[0;34m,\u001b[0m \u001b[0mcell\u001b[0m\u001b[0;34m,\u001b[0m \u001b[0moutput\u001b[0m\u001b[0;34m=\u001b[0m\u001b[0mout\u001b[0m\u001b[0;34m,\u001b[0m \u001b[0mstderr\u001b[0m\u001b[0;34m=\u001b[0m\u001b[0merr\u001b[0m\u001b[0;34m)\u001b[0m\u001b[0;34m\u001b[0m\u001b[0;34m\u001b[0m\u001b[0m\n\u001b[0m\u001b[1;32m    246\u001b[0m \u001b[0;34m\u001b[0m\u001b[0m\n\u001b[1;32m    247\u001b[0m     \u001b[0;32mdef\u001b[0m \u001b[0m_run_script\u001b[0m\u001b[0;34m(\u001b[0m\u001b[0mself\u001b[0m\u001b[0;34m,\u001b[0m \u001b[0mp\u001b[0m\u001b[0;34m,\u001b[0m \u001b[0mcell\u001b[0m\u001b[0;34m,\u001b[0m \u001b[0mto_close\u001b[0m\u001b[0;34m)\u001b[0m\u001b[0;34m:\u001b[0m\u001b[0;34m\u001b[0m\u001b[0;34m\u001b[0m\u001b[0m\n",
      "\u001b[0;31mCalledProcessError\u001b[0m: Command 'b'\\ncd notebooks && find **/*.ipynb\\n'' returned non-zero exit status 1."
     ]
    }
   ],
   "source": [
    "%%bash\n",
    "\n",
    "cd notebooks\n",
    "\n",
    "notebooks=(california-ccscore-analysis )\n",
    "\n",
    "for notebook in \"${notebooks[@]}\"\n",
    "do\n",
    "\n",
    "done"
   ]
  },
  {
   "cell_type": "code",
   "execution_count": null,
   "metadata": {},
   "outputs": [],
   "source": []
  }
 ],
 "metadata": {
  "kernelspec": {
   "display_name": "Python 3",
   "language": "python",
   "name": "python3"
  },
  "language_info": {
   "codemirror_mode": {
    "name": "ipython",
    "version": 3
   },
   "file_extension": ".py",
   "mimetype": "text/x-python",
   "name": "python",
   "nbconvert_exporter": "python",
   "pygments_lexer": "ipython3",
   "version": "3.7.3"
  }
 },
 "nbformat": 4,
 "nbformat_minor": 2
}

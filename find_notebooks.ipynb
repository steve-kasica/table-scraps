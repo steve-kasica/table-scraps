{
 "cells": [
  {
   "cell_type": "markdown",
   "metadata": {},
   "source": [
    "# Finding computational notebooks of data journalists\n",
    "\n",
    "Many data journalism articles are published in conjunction with computational notebooks under source code management with git and published on GitHub. This Jupyter notebook details the methods used to search for and download these notebooks as git submodules."
   ]
  },
  {
   "cell_type": "markdown",
   "metadata": {},
   "source": [
    "## A quick search for data journalism repos on GitHub\n",
    "\n",
    "I initially use the GitHub Search API to see which users are adding \"journalism\" or \"data journalism\" tags to their repos. The code below will return search results that reflect the current collection of code repositories with these tags on GitHub. Results are written to `search_results.txt` in order to preserve the search results at the time of this analysis."
   ]
  },
  {
   "cell_type": "code",
   "execution_count": 1,
   "metadata": {},
   "outputs": [
    {
     "name": "stdout",
     "output_type": "stream",
     "text": [
      "54 Results\n",
      "https://github.com/BurdaMagazinOrg/thunder-distribution\n",
      "https://github.com/CJWorkbench/cjworkbench\n",
      "https://github.com/Caaddss/coda.br_workshop\n",
      "https://github.com/Enegnei/JacobAppelbaumLeavesTor\n",
      "https://github.com/IVMachiavelli/OSINT_Team_Links\n",
      "https://github.com/N2ITN/are-you-fake-news\n",
      "https://github.com/ONLPS/Datasets\n",
      "https://github.com/OpenRefine/OpenRefine\n",
      "https://github.com/Ph055a/OSINT-Collection\n",
      "https://github.com/TryGhost/Ghost\n",
      "https://github.com/TryGhost/Ghost-CLI\n",
      "https://github.com/alephdata/aleph\n",
      "https://github.com/alephdata/opensanctions\n",
      "https://github.com/brandonrobertz/autoscrape-py\n",
      "https://github.com/california-civic-data-coalition/django-calaccess-raw-data\n",
      "https://github.com/coralproject/talk\n",
      "https://github.com/dannguyen/journalism-syllabi\n",
      "https://github.com/datadesk/california-ccscore-analysis\n",
      "https://github.com/datadesk/california-crop-production-wages-analysis\n",
      "https://github.com/datadesk/california-electricity-capacity-analysis\n",
      "https://github.com/datadesk/california-fire-zone-analysis\n",
      "https://github.com/datadesk/california-h2a-visas-analysis\n",
      "https://github.com/datadesk/census-data-downloader\n",
      "https://github.com/datadesk/homeless-arrests-analysis\n",
      "https://github.com/datadesk/kobe-every-shot-ever\n",
      "https://github.com/datadesk/lapd-crime-classification-analysis\n",
      "https://github.com/datadesk/notebooks\n",
      "https://github.com/datadesk/python-documentcloud\n",
      "https://github.com/datadesk/street-racing-analysis\n",
      "https://github.com/datadesk/tutorials\n",
      "https://github.com/freedomofpress/securedrop\n",
      "https://github.com/globeandmail/startr\n",
      "https://github.com/guardian/frontend\n",
      "https://github.com/hrbrmstr/immigration\n",
      "https://github.com/idyll-lang/idyll\n",
      "https://github.com/infoculture/awesome-datajournalism\n",
      "https://github.com/jadianes/data-journalism\n",
      "https://github.com/joincivil/Civil\n",
      "https://github.com/letterpad/letterpad\n",
      "https://github.com/nemild/hack-the-media\n",
      "https://github.com/pastpages/pastpages.org\n",
      "https://github.com/pattrn-project/pattrn\n",
      "https://github.com/pippinlee/open-journalism-project\n",
      "https://github.com/pravj/inside-cricket\n",
      "https://github.com/rdmurphy/journalize\n",
      "https://github.com/rodolfo-viana/dailylog\n",
      "https://github.com/school-of-data/r-consortium-proposal\n",
      "https://github.com/securityfirst/Umbrella_android\n",
      "https://github.com/superdesk/web-publisher\n",
      "https://github.com/sytpp/rtbf\n",
      "https://github.com/tarbell-project/tarbell\n",
      "https://github.com/thomaspark/snowball\n",
      "https://github.com/wbkd/awesome-interactive-journalism\n",
      "https://github.com/wireservice/lookup\n"
     ]
    }
   ],
   "source": [
    "import requests\n",
    "\n",
    "# Fetch a sorted, unique list of GitHub repos with relevant tags\n",
    "repos = []\n",
    "for tag in ['data-journalism', 'journalism']:\n",
    "    url = 'https://api.github.com/search/repositories?q=topic:{}'.format(tag)\n",
    "    r = requests.get(url)\n",
    "    repos += [ item['html_url'] for item in r.json()['items'] ]\n",
    "repos = list(set(repos))  # deduplicate results\n",
    "repos.sort()\n",
    "\n",
    "# Save this stuff to a text file\n",
    "fn = 'search_results.txt'\n",
    "results = '{} Results\\n'.format(len(repos))\n",
    "results += '\\n'.join(repos)\n",
    "with open(fn, 'w') as f:\n",
    "    f.write(results)\n",
    "\n",
    "with open(fn, 'r') as f:\n",
    "    print(f.read())"
   ]
  },
  {
   "cell_type": "markdown",
   "metadata": {},
   "source": [
    "A manual inspection of each repo revealed that many of these are tools and tutorials for data journalism. However, I'm only interested in those computational notebooks that data workflows used in published articles. This search did turn up a handful interesting repos worth a closer work. I download notebooks from the *Los Angeles Times* later and include salient results from this search in the list of repos downloaded as individual numbers."
   ]
  },
  {
   "cell_type": "markdown",
   "metadata": {},
   "source": [
    "### Notebooks from the *Los Angles Times*\n",
    "\n",
    "While many relevant notebooks from the *Los Angeles Times* were returned in the search above, the *LA Times* Data Desk keeps a centeralized [repository of all their computational notebooks](https://github.com/datadesk/notebooks/tree/d0fea75950b7911d37cd5c2fc1995da498f3d494). This index includes notebooks hosted on journalist's personal GitHub profile, too. \n",
    "\n",
    "Including the latest commit ID in the raw URL to `notebooks.csv` ensures that results from the bash command below only return notebooks published at the time of my analysis, May 26, 2019. GitHub has a few [hidden features for permenant links](https://help.github.com/en/articles/getting-permanent-links-to-files)."
   ]
  },
  {
   "cell_type": "code",
   "execution_count": 1,
   "metadata": {
    "scrolled": false
   },
   "outputs": [
    {
     "name": "stdout",
     "output_type": "stream",
     "text": [
      "  % Total    % Received % Xferd  Average Speed   Time    Time     Time  Current\n",
      "                                 Dload  Upload   Total   Spent    Left  Speed\n",
      "100  3781  100  3781    0     0  15063      0 --:--:-- --:--:-- --:--:-- 15063\n",
      "https://github.com/datadesk/census-hard-to-map-analysis\n",
      "https://github.com/datadesk/hsr-document-analysis\n",
      "https://github.com/ryanvmenezes/lawlers-law\n",
      "https://github.com/datadesk/swana-census-analysis\n",
      "https://github.com/kyleykim/R_Scripts/tree/master/la-me-ln-california-fire-aircraft-delay\n",
      "https://github.com/kyleykim/R_Scripts/tree/master/la-me-ln-hhh-unequal\n",
      "https://github.com/datadesk/highschool-homicide-analysis\n",
      "https://github.com/datadesk/deleon-district-election-results-analysis\n",
      "https://github.com/datadesk/nyrb-covers-analysis\n",
      "https://github.com/datadesk/california-fire-zone-analysis\n",
      "https://github.com/datadesk/helicopter-accident-analysis\n",
      "https://github.com/datadesk/hollister-ranch-analysis\n",
      "https://github.com/datadesk/la-settlements-analysis\n",
      "https://github.com/datadesk/california-k12-notebooks\n",
      "https://github.com/datadesk/street-racing-analysis\n",
      "https://github.com/datadesk/homeless-arrests-analysis\n",
      "https://github.com/datadesk/ferc-enforcement-analysis\n",
      "https://github.com/datadesk/houston-flood-zone-analysis\n",
      "https://github.com/datadesk/california-kindergarten-vaccination-analysis\n",
      "https://github.com/datadesk/california-h2a-visas-analysis\n",
      "https://github.com/datadesk/construction-jobs-analysis\n",
      "https://github.com/datadesk/california-crop-production-wages-analysis\n",
      "https://github.com/datadesk/california-electricity-capacity-analysis\n",
      "https://github.com/datadesk/california-ccscore-analysis\n",
      "https://github.com/datadesk/la-vacant-building-complaints-analysis\n",
      "https://github.com/datadesk/kobe-every-shot-ever\n",
      "https://github.com/datadesk/lapd-crime-classification-analysis\n"
     ]
    }
   ],
   "source": [
    "! mkdir -p notebooks/la_times \\\n",
    "&& cd notebooks/la_times \\\n",
    "&& curl \"https://raw.githubusercontent.com/datadesk/notebooks/d0fea75950b7911d37cd5c2fc1995da498f3d494/notebooks.csv\" \\\n",
    "| awk -F ',' '{print $4}' \\\n",
    "| tail -n +2"
   ]
  },
  {
   "cell_type": "markdown",
   "metadata": {},
   "source": [
    "### Adding notebooks from *BuzzFeed News*\n",
    "\n",
    "*BuzzFeed News* doesn't tag [their repos on GitHub](https://github.com/buzzfeed) so they didn't show up in the initial search. However, I know they publish lots of their code in their data journalism work. Like the *LA Times*, *BuzzFeed News* has [a central repository](https://github.com/BuzzFeedNews/everything) containing a single markdown document that serves as an index for all their projects on GitHub, including data and analysis."
   ]
  },
  {
   "cell_type": "code",
   "execution_count": 2,
   "metadata": {},
   "outputs": [
    {
     "name": "stdout",
     "output_type": "stream",
     "text": [
      "https://github.com/BuzzFeedNews/2019-04-democratic-candidate-codonors\r\n",
      "https://github.com/BuzzFeedNews/2018-12-fake-news-top-50\r\n",
      "https://github.com/BuzzFeedNews/2018-12-wechat-pence/\r\n",
      "https://github.com/BuzzFeedNews/2018-10-russian-troll-tweets\r\n",
      "https://github.com/BuzzFeedNews/2018-10-midterm-demographics\r\n",
      "https://github.com/BuzzFeedNews/2018-09-ftc-analysis\r\n",
      "https://github.com/BuzzFeedNews/2018-08-charlottesville-twitter-trolls\r\n",
      "https://github.com/BuzzFeedNews/2018-07-ofsted-inspections\r\n",
      "https://github.com/BuzzFeedNews/2018-06-nyc-311-complaints-and-gentrification\r\n",
      "https://github.com/BuzzFeedNews/2018-05-fentanyl-and-cocaine-overdose-deaths\r\n",
      "https://github.com/BuzzFeedNews/2018-03-oscars-script-diversity-analysis\r\n",
      "https://github.com/BuzzFeedNews/2018-02-olympic-figure-skating-analysis\r\n",
      "https://github.com/BuzzFeedNews/2018-02-figure-skating-analysis\r\n",
      "https://github.com/BuzzFeedNews/2018-01-trump-state-of-the-union\r\n",
      "https://github.com/BuzzFeedNews/2018-01-twitter-withheld-accounts\r\n",
      "https://github.com/BuzzFeedNews/2018-01-trump-twitter-wars\r\n",
      "https://github.com/BuzzFeedNews/2017-12-fake-news-top-50\r\n",
      "https://github.com/BuzzFeedNews/2017-12-sexual-misconduct-cable-news-coverage\r\n",
      "https://github.com/BuzzFeedNews/2017-12-eeoc-harassment-charges/\r\n",
      "https://github.com/BuzzFeedNews/2017-11-federal-employee-diversity\r\n",
      "https://github.com/BuzzFeedNews/2017-11-gun-sales-estimates\r\n",
      "https://github.com/BuzzFeedNews/2017-09-harvey-emissions-update\r\n",
      "https://github.com/BuzzFeedNews/2017-09-federal-employee-departure-rates\r\n",
      "https://github.com/BuzzFeedNews/2017-09-science-foia\r\n",
      "https://github.com/BuzzFeedNews/2017-08-harvey-emissions-reports\r\n",
      "https://github.com/BuzzFeedNews/2017-08-partisan-sites-and-facebook-pages\r\n",
      "https://github.com/BuzzFeedNews/2017-08-spy-plane-finder\r\n",
      "https://github.com/BuzzFeedNews/2017-07-doj-gs-15\r\n",
      "https://github.com/BuzzFeedNews/2017-05-us-health-care\r\n",
      "https://github.com/BuzzFeedNews/2017-04-fake-news-ad-trackers\r\n",
      "https://github.com/BuzzFeedNews/2017-01-immigration-and-science\r\n",
      "https://github.com/BuzzFeedNews/2017-01-media-platform-and-news-trust-survey\r\n",
      "https://github.com/BuzzFeedNews/2017-01-causes-of-warming\r\n",
      "https://github.com/BuzzFeedNews/2016-12-transgender-rights-survey\r\n",
      "https://github.com/BuzzFeedNews/2016-12-warmest-year\r\n",
      "https://github.com/BuzzFeedNews/2016-12-medicare-claims-analysis\r\n",
      "https://github.com/BuzzFeedNews/2016-12-inpatient-discharge-analysis\r\n",
      "https://github.com/BuzzFeedNews/2016-12-river-point-involuntary-commitment-petitions\r\n",
      "https://github.com/BuzzFeedNews/2016-12-fake-news-survey\r\n",
      "https://github.com/BuzzFeedNews/2016-11-grading-the-election-forecasts\r\n",
      "https://github.com/BuzzFeedNews/2016-11-voter-power-by-demographic\r\n",
      "https://github.com/BuzzFeedNews/2016-11-bellwether-counties\r\n",
      "https://github.com/BuzzFeedNews/2016-10-tech-campaign-contributions\r\n",
      "https://github.com/BuzzFeedNews/2016-10-facebook-fact-check\r\n",
      "https://github.com/BuzzFeedNews/2016-10-white-ancestry-and-trump-support\r\n",
      "https://github.com/BuzzFeedNews/2016-09-shy-trumpers\r\n",
      "https://github.com/BuzzFeedNews/2016-09-ucr-analysis\r\n",
      "https://github.com/BuzzFeedNews/2016-08-sports-gender-gaps\r\n",
      "https://github.com/BuzzFeedNews/2016-07-athletic-performances\r\n",
      "https://github.com/BuzzFeedNews/2016-07-rnc-dnc-surveillance-planes\r\n",
      "https://github.com/BuzzFeedNews/2016-05-H-2-debarments-and-violations\r\n",
      "https://github.com/BuzzFeedNews/2016-04-republican-donor-movements\r\n",
      "https://github.com/BuzzFeedNews/2016-04-bernie-sanders-donors\r\n",
      "https://github.com/BuzzFeedNews/2016-04-federal-surveillance-planes\r\n",
      "https://github.com/BuzzFeedNews/2016-02-republican-donor-movements\r\n",
      "https://github.com/BuzzFeedNews/2016-01-immigrant-detention-india\r\n",
      "https://github.com/BuzzFeedNews/2016-01-port-arthur-arrests\r\n",
      "https://github.com/BuzzFeedNews/2016-01-texas-municipal-courts\r\n",
      "https://github.com/BuzzFeedNews/2016-01-tennis-betting-analysis\r\n",
      "https://github.com/BuzzFeedNews/2015-12-the-coyote\r\n",
      "https://github.com/BuzzFeedNews/2015-12-fatal-police-shootings\r\n",
      "https://github.com/BuzzFeedNews/2015-12-mass-shooting-intervals\r\n",
      "https://github.com/BuzzFeedNews/2015-12-H-2-visas-and-experience-requirements\r\n",
      "https://github.com/BuzzFeedNews/2015-11-lottery-simulations\r\n",
      "https://github.com/BuzzFeedNews/2015-11-refugees-in-the-united-states\r\n",
      "https://github.com/BuzzFeedNews/2015-10-walker-donors\r\n",
      "https://github.com/BuzzFeedNews/2015-08-immigrant-detention\r\n",
      "https://github.com/BuzzFeedNews/2015-07-h2-visas-and-enforcement\r\n",
      "https://github.com/BuzzFeedNews/2015-07-primates\r\n",
      "https://github.com/BuzzFeedNews/2015-06-ssm-and-abortion-poll\r\n",
      "https://github.com/BuzzFeedNews/2015-05-talkpay-tweets\r\n",
      "https://github.com/BuzzFeedNews/2015-03-earthquake-maps\r\n",
      "https://github.com/BuzzFeedNews/2015-02-texas-cpa-deficiencies\r\n",
      "https://github.com/BuzzFeedNews/2015-02-georgia-cpa-scores\r\n",
      "https://github.com/BuzzFeedNews/presidential-language-notebooks\r\n",
      "https://github.com/BuzzFeedNews/2014-09-rising-sunday-show-guests\r\n",
      "https://github.com/BuzzFeedNews/2014-09-tuition-and-minimum-wage\r\n",
      "https://github.com/BuzzFeedNews/2014-08-st-louis-county-segregation\r\n",
      "https://github.com/BuzzFeedNews/2014-08-irs-scams\r\n",
      "https://github.com/BuzzFeedNews/2014-06-firework-injuries\r\n",
      "https://github.com/BuzzFeedNews/2014-06-bikeshare-gender-maps\r\n"
     ]
    }
   ],
   "source": [
    "! mkdir -p notebooks/buzzfeednews \\\n",
    "&& cd notebooks/buzzfeednews \\\n",
    "&& curl -s \"https://raw.githubusercontent.com/BuzzFeedNews/everything/a2cbcc78ef67322a8443553645f85e6b310e658c/README.md\" \\\n",
    "| grep \"\\[:link:\\]\" \\\n",
    "| grep -E -o \"https:\\/\\/github\\.com\\/BuzzFeedNews\\/[^\\)]+\""
   ]
  }
 ],
 "metadata": {
  "kernelspec": {
   "display_name": "Python 3",
   "language": "python",
   "name": "python3"
  },
  "language_info": {
   "codemirror_mode": {
    "name": "ipython",
    "version": 3
   },
   "file_extension": ".py",
   "mimetype": "text/x-python",
   "name": "python",
   "nbconvert_exporter": "python",
   "pygments_lexer": "ipython3",
   "version": "3.7.3"
  }
 },
 "nbformat": 4,
 "nbformat_minor": 2
}

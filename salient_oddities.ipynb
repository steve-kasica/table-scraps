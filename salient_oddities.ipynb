{
 "cells": [
  {
   "cell_type": "markdown",
   "metadata": {},
   "source": [
    "# Salient Oddities"
   ]
  },
  {
   "cell_type": "markdown",
   "metadata": {},
   "source": [
    "### Wrangling for percent change\n",
    "\n",
    "When you think of this R code in the context of table transformations, it does some pretty interesting things to calculate percent change between years. The `lag` function in R kind of \"shifts\" a vector in order to compute what is an inter-column calculation.\n",
    "\n",
    "```{r}\n",
    "totals.pch <- totals %>% mutate(other_perc = grn_perc + lib_perc + oth_perc, \n",
    "                                other = grn + lib + oth) %>% \n",
    "                         select(-grn_perc, -lib_perc, -oth_perc) %>%\n",
    "                         group_by(county) %>% \n",
    "                         filter(date == '2014-09-30' | \n",
    "                                date == '2016-09-30' | \n",
    "                                date == '2018-09-30') %>% \n",
    "                         arrange(county, date) %>% \n",
    "                         mutate(pch_16_dem = (dem/lag(dem) - 1) * 100, \n",
    "                                pch_16_rep = (rep/lag(rep) - 1) * 100, \n",
    "                                pch_16_unaf = (unaf/lag(unaf) - 1) * 100,\n",
    "                                pch_16_other = (other/lag(other) - 1) * 100,\n",
    "                                pch_14_dem = (dem/lag(dem, 2) - 1) * 100, \n",
    "                                pch_14_rep = (rep/lag(rep, 2) - 1) * 100, \n",
    "                                pch_14_unaf = (unaf/lag(unaf, 2) - 1) * 100,\n",
    "                                pch_14_other = (other/lag(other, 2) - 1) * 100) %>% \n",
    "  filter(date == '2018-09-30') %>%\n",
    "  ungroup() %>%\n",
    "  select(-conf.mailing, -inactive)\n",
    "```"
   ]
  },
  {
   "cell_type": "markdown",
   "metadata": {},
   "source": [
    "# Reshaping via self-joins\n",
    "\n",
    "```\n",
    "candidate_pairs = (\n",
    "    contributor_totals\n",
    "    .rename(columns = {\n",
    "        \"Candidate Name\": \"candidate\"\n",
    "    })\n",
    "    [[\n",
    "        \"donor_id\",\n",
    "        \"candidate\"\n",
    "    ]]\n",
    "    .pipe(lambda df: (\n",
    "        df\n",
    "        .merge(\n",
    "            df,\n",
    "            how = \"left\",\n",
    "            on = \"donor_id\",\n",
    "            suffixes = [ \"_x\", \"_y\" ],\n",
    "        )\n",
    "    ))\n",
    "    # This filter prevents us from double-counting candidate-combinations\n",
    "    .loc[lambda df: df[\"candidate_x\"] < df[\"candidate_y\"]]\n",
    "    .sort_values([\n",
    "        \"candidate_x\",\n",
    "        \"candidate_y\",\n",
    "        \"donor_id\"\n",
    "    ])\n",
    ")\n",
    "\n",
    "candidate_pairs.head(10)\n",
    "```"
   ]
  },
  {
   "cell_type": "markdown",
   "metadata": {},
   "source": [
    "## Main tables and auxilary tables"
   ]
  },
  {
   "cell_type": "code",
   "execution_count": null,
   "metadata": {},
   "outputs": [],
   "source": []
  }
 ],
 "metadata": {
  "kernelspec": {
   "display_name": "Python 3",
   "language": "python",
   "name": "python3"
  },
  "language_info": {
   "codemirror_mode": {
    "name": "ipython",
    "version": 3
   },
   "file_extension": ".py",
   "mimetype": "text/x-python",
   "name": "python",
   "nbconvert_exporter": "python",
   "pygments_lexer": "ipython3",
   "version": "3.7.3"
  }
 },
 "nbformat": 4,
 "nbformat_minor": 2
}

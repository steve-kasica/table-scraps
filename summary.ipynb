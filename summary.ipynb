{
 "cells": [
  {
   "cell_type": "markdown",
   "metadata": {},
   "source": [
    "# Analysis Summary\n",
    "\n",
    "This notebook provides answers to questions about the open-coding analysis process itself."
   ]
  },
  {
   "cell_type": "code",
   "execution_count": 1,
   "metadata": {},
   "outputs": [],
   "source": [
    "import pandas as pd\n",
    "import seaborn as sns\n",
    "import matplotlib.pyplot as plt\n",
    "import re\n",
    "from IPython.display import display, Markdown\n",
    "from lib.util import getCodes"
   ]
  },
  {
   "cell_type": "markdown",
   "metadata": {},
   "source": [
    "Import all codes from the open coding process"
   ]
  },
  {
   "cell_type": "code",
   "execution_count": 2,
   "metadata": {},
   "outputs": [
    {
     "name": "stdout",
     "output_type": "stream",
     "text": [
      "CPU times: user 31.9 s, sys: 120 ms, total: 32 s\n",
      "Wall time: 32.8 s\n"
     ]
    }
   ],
   "source": [
    "%%time\n",
    "codes = getCodes()"
   ]
  },
  {
   "cell_type": "markdown",
   "metadata": {},
   "source": [
    "Parse works cited section of the `README.md` document for more analysis information."
   ]
  },
  {
   "cell_type": "code",
   "execution_count": 7,
   "metadata": {},
   "outputs": [
    {
     "data": {
      "text/html": [
       "<div>\n",
       "<style scoped>\n",
       "    .dataframe tbody tr th:only-of-type {\n",
       "        vertical-align: middle;\n",
       "    }\n",
       "\n",
       "    .dataframe tbody tr th {\n",
       "        vertical-align: top;\n",
       "    }\n",
       "\n",
       "    .dataframe thead th {\n",
       "        text-align: right;\n",
       "    }\n",
       "</style>\n",
       "<table border=\"1\" class=\"dataframe\">\n",
       "  <thead>\n",
       "    <tr style=\"text-align: right;\">\n",
       "      <th></th>\n",
       "      <th>journalist</th>\n",
       "      <th>year</th>\n",
       "      <th>month</th>\n",
       "      <th>date</th>\n",
       "      <th>article</th>\n",
       "      <th>organization</th>\n",
       "      <th>url</th>\n",
       "    </tr>\n",
       "  </thead>\n",
       "  <tbody>\n",
       "    <tr>\n",
       "      <th>0</th>\n",
       "      <td>Aldhous, Peter</td>\n",
       "      <td>2016</td>\n",
       "      <td>September</td>\n",
       "      <td>16</td>\n",
       "      <td>\"Shy Trumpers\" polling analysis.</td>\n",
       "      <td>BuzzFeed News</td>\n",
       "      <td>https://github.com/BuzzFeedNews/2016-09-shy-tr...</td>\n",
       "    </tr>\n",
       "    <tr>\n",
       "      <th>1</th>\n",
       "      <td>Arthur, Rob</td>\n",
       "      <td>2015</td>\n",
       "      <td>July</td>\n",
       "      <td>30</td>\n",
       "      <td>Buster Posey MVP.</td>\n",
       "      <td>FiveThirtyEight</td>\n",
       "      <td>https://github.com/fivethirtyeight/data</td>\n",
       "    </tr>\n",
       "    <tr>\n",
       "      <th>2</th>\n",
       "      <td>Bi, Frank</td>\n",
       "      <td>2016</td>\n",
       "      <td>Jan</td>\n",
       "      <td>13</td>\n",
       "      <td>Uber launch cities and date.</td>\n",
       "      <td>Forbes</td>\n",
       "      <td>https://github.com/voxmedia/data-projects</td>\n",
       "    </tr>\n",
       "    <tr>\n",
       "      <th>3</th>\n",
       "      <td>Bradshaw, Paul</td>\n",
       "      <td>2019</td>\n",
       "      <td>April</td>\n",
       "      <td>6</td>\n",
       "      <td>Lack of electric car charging points 'putting ...</td>\n",
       "      <td>BBC</td>\n",
       "      <td>https://github.com/BBC-Data-Unit/electric-car-...</td>\n",
       "    </tr>\n",
       "    <tr>\n",
       "      <th>4</th>\n",
       "      <td>Bradshaw, Paul</td>\n",
       "      <td>2019</td>\n",
       "      <td>March</td>\n",
       "      <td>8</td>\n",
       "      <td>Birmingham remains top destination for Londoners.</td>\n",
       "      <td>BBC</td>\n",
       "      <td>https://github.com/BBC-Data-Unit/internal-migr...</td>\n",
       "    </tr>\n",
       "  </tbody>\n",
       "</table>\n",
       "</div>"
      ],
      "text/plain": [
       "       journalist  year      month date  \\\n",
       "0  Aldhous, Peter  2016  September   16   \n",
       "1     Arthur, Rob  2015       July   30   \n",
       "2       Bi, Frank  2016        Jan   13   \n",
       "3  Bradshaw, Paul  2019      April    6   \n",
       "4  Bradshaw, Paul  2019      March    8   \n",
       "\n",
       "                                             article     organization  \\\n",
       "0                   \"Shy Trumpers\" polling analysis.    BuzzFeed News   \n",
       "1                                  Buster Posey MVP.  FiveThirtyEight   \n",
       "2                       Uber launch cities and date.           Forbes   \n",
       "3  Lack of electric car charging points 'putting ...              BBC   \n",
       "4  Birmingham remains top destination for Londoners.              BBC   \n",
       "\n",
       "                                                 url  \n",
       "0  https://github.com/BuzzFeedNews/2016-09-shy-tr...  \n",
       "1            https://github.com/fivethirtyeight/data  \n",
       "2          https://github.com/voxmedia/data-projects  \n",
       "3  https://github.com/BBC-Data-Unit/electric-car-...  \n",
       "4  https://github.com/BBC-Data-Unit/internal-migr...  "
      ]
     },
     "execution_count": 7,
     "metadata": {},
     "output_type": "execute_result"
    }
   ],
   "source": [
    "# See regular expression at regexr.com/4htcn\n",
    "regxp = r'\\n([^\\n\\.\\#]+)\\.\\s\\((\\d{4}),\\s(\\w+)\\s(\\d+)\\)\\.\\s([^\\.]+\\.)\\s\\*([\\w\\d\\s]+)\\*\\.\\sRetrieved from (.*)\\n'\n",
    "with open('README.md') as readme:\n",
    "    content = readme.read();\n",
    "\n",
    "citations = re.findall(regxp,content)\n",
    "citations = pd.DataFrame(citations, columns=['journalist', 'year', 'month', 'date', 'article', 'organization', 'url'])\n",
    "citations.head()"
   ]
  },
  {
   "cell_type": "markdown",
   "metadata": {},
   "source": [
    "Also get the list of data journalism repos identified in `find_notebooks.ipynb`. "
   ]
  },
  {
   "cell_type": "code",
   "execution_count": 9,
   "metadata": {},
   "outputs": [],
   "source": [
    "repos = pd.read_csv('potential_notebooks.csv')\n",
    "keepers = repos[repos.is_keeper == True]"
   ]
  },
  {
   "cell_type": "markdown",
   "metadata": {},
   "source": [
    "## Analysis by the numbers"
   ]
  },
  {
   "cell_type": "code",
   "execution_count": 13,
   "metadata": {},
   "outputs": [
    {
     "data": {
      "text/html": [
       "<div>\n",
       "<style scoped>\n",
       "    .dataframe tbody tr th:only-of-type {\n",
       "        vertical-align: middle;\n",
       "    }\n",
       "\n",
       "    .dataframe tbody tr th {\n",
       "        vertical-align: top;\n",
       "    }\n",
       "\n",
       "    .dataframe thead th {\n",
       "        text-align: right;\n",
       "    }\n",
       "</style>\n",
       "<table border=\"1\" class=\"dataframe\">\n",
       "  <thead>\n",
       "    <tr style=\"text-align: right;\">\n",
       "      <th></th>\n",
       "      <th>count</th>\n",
       "    </tr>\n",
       "  </thead>\n",
       "  <tbody>\n",
       "    <tr>\n",
       "      <th>journalist</th>\n",
       "      <td>21</td>\n",
       "    </tr>\n",
       "    <tr>\n",
       "      <th>organization</th>\n",
       "      <td>17</td>\n",
       "    </tr>\n",
       "    <tr>\n",
       "      <th>article</th>\n",
       "      <td>34</td>\n",
       "    </tr>\n",
       "    <tr>\n",
       "      <th>codes</th>\n",
       "      <td>159</td>\n",
       "    </tr>\n",
       "    <tr>\n",
       "      <th>repos</th>\n",
       "      <td>1295</td>\n",
       "    </tr>\n",
       "    <tr>\n",
       "      <th>relevant repos</th>\n",
       "      <td>225</td>\n",
       "    </tr>\n",
       "    <tr>\n",
       "      <th>total organizations</th>\n",
       "      <td>50</td>\n",
       "    </tr>\n",
       "  </tbody>\n",
       "</table>\n",
       "</div>"
      ],
      "text/plain": [
       "                    count\n",
       "journalist             21\n",
       "organization           17\n",
       "article                34\n",
       "codes                 159\n",
       "repos                1295\n",
       "relevant repos        225\n",
       "total organizations    50"
      ]
     },
     "execution_count": 13,
     "metadata": {},
     "output_type": "execute_result"
    }
   ],
   "source": [
    "byTheNumbers = citations.loc[:,['journalist', 'organization', 'article']].describe().loc['unique',:].to_frame('count')\n",
    "byTheNumbers = byTheNumbers.append(pd.DataFrame({\n",
    "        'count': [ codes.code.nunique(), \n",
    "                   repos.shape[0],\n",
    "                   keepers.shape[0],\n",
    "                   keepers.org.nunique(),\n",
    "                 ],\n",
    "    }, index=['codes', 'repos', 'relevant repos', 'total organizations']))\n",
    "\n",
    "byTheNumbers"
   ]
  },
  {
   "cell_type": "markdown",
   "metadata": {},
   "source": [
    "## Progress towards convergence"
   ]
  },
  {
   "cell_type": "code",
   "execution_count": 3,
   "metadata": {},
   "outputs": [],
   "source": [
    "codingOrder = pd.DataFrame({'article': [\n",
    "    'federal_employees_trump_2017', \n",
    "    'infrastructure-jobs',\n",
    "    'librarians',\n",
    "    'midwife-led-units',\n",
    "    'internal-migration-london',\n",
    "    'electric-car-charging-points',\n",
    "    'school-star-ratings-2018',\n",
    "    'prison-admissions',\n",
    "    'vox-central-line-infections',\n",
    "    'verge-uber-launch-dates',\n",
    "    'buster-posey-mvp',\n",
    "    'work-from-home',\n",
    "    'nyc-trips',\n",
    "    'bob-ross',\n",
    "    'bechdel',\n",
    "    'employment-discrimination',\n",
    "    '2015-11-refugees-in-the-united-states',\n",
    "    'babyname_politics',\n",
    "    'wikipedia-rankings',\n",
    "    'Power_of_Irma',\n",
    "    'Endangered-Species-Act-Louisiana',\n",
    "    'california-h2a-visas-analysis',\n",
    "    '2016-04-republican-donor-movements',\n",
    "    'cube_root_law',\n",
    "    '2016-09-shy-trumpers',\n",
    "    '2018-05-31-crime-and-heat-analysis',\n",
    "    '2016-11-bellwether-counties',\n",
    "    'heat_and_humidity',\n",
    "    '2018-voter-registration',\n",
    "    'long-term-care-db',\n",
    "    'census-hard-to-map-analysis',\n",
    "    'california-crop-production-wages-analysis',\n",
    "    'california-cc-score-analysis',\n",
    "    '2019-04-democratic-candidate-codonors',\n",
    "    'california-ccscore-analysis'\n",
    "][::-1] }).reset_index().rename(columns={'index': 'coding order'})"
   ]
  },
  {
   "cell_type": "markdown",
   "metadata": {},
   "source": [
    "Create a data frame of codes grouped by article."
   ]
  },
  {
   "cell_type": "code",
   "execution_count": 4,
   "metadata": {},
   "outputs": [
    {
     "data": {
      "text/html": [
       "<div>\n",
       "<style scoped>\n",
       "    .dataframe tbody tr th:only-of-type {\n",
       "        vertical-align: middle;\n",
       "    }\n",
       "\n",
       "    .dataframe tbody tr th {\n",
       "        vertical-align: top;\n",
       "    }\n",
       "\n",
       "    .dataframe thead th {\n",
       "        text-align: right;\n",
       "    }\n",
       "</style>\n",
       "<table border=\"1\" class=\"dataframe\">\n",
       "  <thead>\n",
       "    <tr style=\"text-align: right;\">\n",
       "      <th></th>\n",
       "      <th>index</th>\n",
       "      <th>article</th>\n",
       "      <th>codes</th>\n",
       "      <th>coding order</th>\n",
       "      <th>cumulative count</th>\n",
       "      <th>new codes</th>\n",
       "    </tr>\n",
       "  </thead>\n",
       "  <tbody>\n",
       "    <tr>\n",
       "      <th>0</th>\n",
       "      <td>13</td>\n",
       "      <td>california-ccscore-analysis</td>\n",
       "      <td>[use public disclosure data, format table disp...</td>\n",
       "      <td>0</td>\n",
       "      <td>24</td>\n",
       "      <td>count number of records, plot histogram, peek ...</td>\n",
       "    </tr>\n",
       "    <tr>\n",
       "      <th>1</th>\n",
       "      <td>6</td>\n",
       "      <td>2019-04-democratic-candidate-codonors</td>\n",
       "      <td>[use public disclosure data, use tabular data,...</td>\n",
       "      <td>1</td>\n",
       "      <td>44</td>\n",
       "      <td>calculate scaled ratio, export intermediate re...</td>\n",
       "    </tr>\n",
       "    <tr>\n",
       "      <th>2</th>\n",
       "      <td>14</td>\n",
       "      <td>california-crop-production-wages-analysis</td>\n",
       "      <td>[use public disclosure data, format table disp...</td>\n",
       "      <td>3</td>\n",
       "      <td>47</td>\n",
       "      <td>adjust for inflation, construct table manually...</td>\n",
       "    </tr>\n",
       "    <tr>\n",
       "      <th>3</th>\n",
       "      <td>16</td>\n",
       "      <td>census-hard-to-map-analysis</td>\n",
       "      <td>[wrangle data for graphics, use public data, c...</td>\n",
       "      <td>4</td>\n",
       "      <td>51</td>\n",
       "      <td>use public data, slice column values, use geos...</td>\n",
       "    </tr>\n",
       "    <tr>\n",
       "      <th>4</th>\n",
       "      <td>25</td>\n",
       "      <td>long-term-care-db</td>\n",
       "      <td>[count value frequency, calculate scaled ratio...</td>\n",
       "      <td>5</td>\n",
       "      <td>61</td>\n",
       "      <td>left join tables, scrape web for data, join wi...</td>\n",
       "    </tr>\n",
       "  </tbody>\n",
       "</table>\n",
       "</div>"
      ],
      "text/plain": [
       "   index                                    article  \\\n",
       "0     13                california-ccscore-analysis   \n",
       "1      6      2019-04-democratic-candidate-codonors   \n",
       "2     14  california-crop-production-wages-analysis   \n",
       "3     16                census-hard-to-map-analysis   \n",
       "4     25                          long-term-care-db   \n",
       "\n",
       "                                               codes  coding order  \\\n",
       "0  [use public disclosure data, format table disp...             0   \n",
       "1  [use public disclosure data, use tabular data,...             1   \n",
       "2  [use public disclosure data, format table disp...             3   \n",
       "3  [wrangle data for graphics, use public data, c...             4   \n",
       "4  [count value frequency, calculate scaled ratio...             5   \n",
       "\n",
       "   cumulative count                                          new codes  \n",
       "0                24  count number of records, plot histogram, peek ...  \n",
       "1                44  calculate scaled ratio, export intermediate re...  \n",
       "2                47  adjust for inflation, construct table manually...  \n",
       "3                51  use public data, slice column values, use geos...  \n",
       "4                61  left join tables, scrape web for data, join wi...  "
      ]
     },
     "execution_count": 4,
     "metadata": {},
     "output_type": "execute_result"
    }
   ],
   "source": [
    "codesByArticle = codes.groupby(['article']).code \\\n",
    "    .unique() \\\n",
    "    .to_frame('codes') \\\n",
    "    .reset_index() \\\n",
    "    .merge(codingOrder, on='article') \\\n",
    "    .sort_values('coding order') \\\n",
    "    .reset_index()\n",
    "\n",
    "codesByArticle['cumulative count'] = 0\n",
    "#codesByArticle['cumulative codeset'] = None\n",
    "\n",
    "codeset = set()\n",
    "for i, row in codesByArticle.iterrows():\n",
    "    setDiff = set(row.codes).difference(codeset)\n",
    "    codeset = codeset.union(setDiff)\n",
    "    codesByArticle.loc[i, 'cumulative count'] = len(codeset)\n",
    "    codesByArticle.loc[i, 'new codes'] = ', '.join(setDiff)\n",
    "\n",
    "codesByArticle.head()"
   ]
  },
  {
   "cell_type": "markdown",
   "metadata": {},
   "source": [
    "Plot the size of the code set as more computational notebooks are analyzed."
   ]
  },
  {
   "cell_type": "code",
   "execution_count": 14,
   "metadata": {},
   "outputs": [
    {
     "data": {
      "image/png": "[encoded data removed]",
      "text/plain": [
       "<Figure size 432x288 with 1 Axes>"
      ]
     },
     "metadata": {
      "needs_background": "light"
     },
     "output_type": "display_data"
    }
   ],
   "source": [
    "ax = sns.lineplot(x='coding order', y='cumulative count', markers=True, dashes=False, data=codesByArticle)\n",
    "ax.set(xlabel='Computational Notebooks Coded', ylabel='Total Unique Codes', title='Code Set Growth')\n",
    "plt.show()"
   ]
  },
  {
   "cell_type": "markdown",
   "metadata": {},
   "source": [
    "Map codes back to the article where they were introduced to the code set."
   ]
  },
  {
   "cell_type": "code",
   "execution_count": 15,
   "metadata": {
    "scrolled": true
   },
   "outputs": [
    {
     "data": {
      "text/markdown": [
       "1. **california-ccscore-analysis**: count number of records, plot histogram, peek at data, change column data type, use tabular data, inner join tables, count value frequency, calculate mean, remove incomplete data, drop entirely duplicate rows, use public disclosure data, repetitive code, drop columns, calculate difference, inspect table schema, sort table, export results, split, compute, and merge, adjust for season, group by single column, calculate z-score, format table display, calculate percentage difference, filter rows"
      ],
      "text/plain": [
       "<IPython.core.display.Markdown object>"
      ]
     },
     "metadata": {},
     "output_type": "display_data"
    },
    {
     "data": {
      "text/markdown": [
       "2. **2019-04-democratic-candidate-codonors**: calculate scaled ratio, export intermediate results, change case, prevent double-counting, union tables, canonicalize column names, annotate workflow, strip whitespace, self join table, use structured ascii, sum column values, architect a subroutine, create a semi-unique key, merge metadata, count unique values in column, group by multiple columns, remove with regular expression, right join tables, calculate ratio, gather table"
      ],
      "text/plain": [
       "<IPython.core.display.Markdown object>"
      ]
     },
     "metadata": {},
     "output_type": "display_data"
    },
    {
     "data": {
      "text/markdown": [
       "3. **california-crop-production-wages-analysis**: adjust for inflation, construct table manually, architect repeating process"
      ],
      "text/plain": [
       "<IPython.core.display.Markdown object>"
      ]
     },
     "metadata": {},
     "output_type": "display_data"
    },
    {
     "data": {
      "text/markdown": [
       "4. **census-hard-to-map-analysis**: use public data, slice column values, use geospatial data, wrangle data for graphics"
      ],
      "text/plain": [
       "<IPython.core.display.Markdown object>"
      ]
     },
     "metadata": {},
     "output_type": "display_data"
    },
    {
     "data": {
      "text/markdown": [
       "5. **long-term-care-db**: left join tables, scrape web for data, join with lookup table, drop rows with duplicate value in one column, drop erroneous rows, construct pivot table, perform name entity resolution manually, use non-public, provided data, fix data errors manually, encode table identification in row"
      ],
      "text/plain": [
       "<IPython.core.display.Markdown object>"
      ]
     },
     "metadata": {},
     "output_type": "display_data"
    },
    {
     "data": {
      "text/markdown": [
       "6. **2018-voter-registration**: plot stacked bar chart, pull tables out of pdf, plot stacked column chart, extract single value"
      ],
      "text/plain": [
       "<IPython.core.display.Markdown object>"
      ]
     },
     "metadata": {},
     "output_type": "display_data"
    },
    {
     "data": {
      "text/markdown": [
       "7. **heat_and_humidity**: generate data computationally, compute index number, cartesian product"
      ],
      "text/plain": [
       "<IPython.core.display.Markdown object>"
      ]
     },
     "metadata": {},
     "output_type": "display_data"
    },
    {
     "data": {
      "text/markdown": [
       "8. **2016-11-bellwether-counties**: calculate spread, spread table, get max value, create rolling window, use academic data"
      ],
      "text/plain": [
       "<IPython.core.display.Markdown object>"
      ]
     },
     "metadata": {},
     "output_type": "display_data"
    },
    {
     "data": {
      "text/markdown": [
       "9. **2018-05-31-crime-and-heat-analysis**: combine seemingly disparate datasets, extract property from datetime, plot scatterplot"
      ],
      "text/plain": [
       "<IPython.core.display.Markdown object>"
      ]
     },
     "metadata": {},
     "output_type": "display_data"
    },
    {
     "data": {
      "text/markdown": [
       "10. **2016-09-shy-trumpers**: use another news orgs data"
      ],
      "text/plain": [
       "<IPython.core.display.Markdown object>"
      ]
     },
     "metadata": {},
     "output_type": "display_data"
    },
    {
     "data": {
      "text/markdown": [
       "11. **cube_root_law**: add calculated column from axillary data"
      ],
      "text/plain": [
       "<IPython.core.display.Markdown object>"
      ]
     },
     "metadata": {},
     "output_type": "display_data"
    },
    {
     "data": {
      "text/markdown": [
       "12. **2016-04-republican-donor-movements**: split column on delimiter"
      ],
      "text/plain": [
       "<IPython.core.display.Markdown object>"
      ]
     },
     "metadata": {},
     "output_type": "display_data"
    },
    {
     "data": {
      "text/markdown": [
       "13. **california-h2a-visas-analysis**: remove all rows but the master record, plot column chart, encoding provenance in data, display entire table, geocode addresses, temporary joining column, cache results from external service, trim by geographic area, trim by date range, create a unique key, omits data quality exploration, create a crosstab, replace na values, split and compute, preserve existing values"
      ],
      "text/plain": [
       "<IPython.core.display.Markdown object>"
      ]
     },
     "metadata": {},
     "output_type": "display_data"
    },
    {
     "data": {
      "text/markdown": [
       "14. **Endangered-Species-Act-Louisiana**: perform scalar multiplication, plot trendline"
      ],
      "text/plain": [
       "<IPython.core.display.Markdown object>"
      ]
     },
     "metadata": {},
     "output_type": "display_data"
    },
    {
     "data": {
      "text/markdown": [
       "15. **Power_of_Irma**: find worst offender, set data confidence threshold, plot boxplot, fix incorrect calculation, plot violin plot, look for trends, tolerate dirty data, select columns, find most frequently occurring, log-ify values, use previously cleaned data, value replacement, use data from colleague, fit a generalized linear model, change date format, toggle step on and off"
      ],
      "text/plain": [
       "<IPython.core.display.Markdown object>"
      ]
     },
     "metadata": {},
     "output_type": "display_data"
    },
    {
     "data": {
      "text/markdown": [
       "16. **wikipedia-rankings**: plot scree plot, analyze principle components"
      ],
      "text/plain": [
       "<IPython.core.display.Markdown object>"
      ]
     },
     "metadata": {},
     "output_type": "display_data"
    },
    {
     "data": {
      "text/markdown": [
       "17. **babyname_politics**: natural join, peel and merge, data loss from aggregation, round floating point, encode table summary data in row, trim by quantitative threshold, get unique values, resort after merge, assign ranks, check results of previous operation, concatenate columns into key, break ties"
      ],
      "text/plain": [
       "<IPython.core.display.Markdown object>"
      ]
     },
     "metadata": {},
     "output_type": "display_data"
    },
    {
     "data": {
      "text/markdown": [
       "18. **2015-11-refugees-in-the-united-states**: make an incorrect conclusion, compare total number of rows, designate column as primary key"
      ],
      "text/plain": [
       "<IPython.core.display.Markdown object>"
      ]
     },
     "metadata": {},
     "output_type": "display_data"
    },
    {
     "data": {
      "text/markdown": [
       "19. **employment-discrimination**: align table columns for consolidation, combine entities by string matching, merge tables to create pivot table, concatenate files together"
      ],
      "text/plain": [
       "<IPython.core.display.Markdown object>"
      ]
     },
     "metadata": {},
     "output_type": "display_data"
    },
    {
     "data": {
      "text/markdown": [
       "20. **bechdel**: calculate median"
      ],
      "text/plain": [
       "<IPython.core.display.Markdown object>"
      ]
     },
     "metadata": {},
     "output_type": "display_data"
    },
    {
     "data": {
      "text/markdown": [
       "21. **bob-ross**: collect raw data, run cluster analysis, whiten matrix"
      ],
      "text/plain": [
       "<IPython.core.display.Markdown object>"
      ]
     },
     "metadata": {},
     "output_type": "display_data"
    },
    {
     "data": {
      "text/markdown": [
       "22. **nyc-trips**: full join tables"
      ],
      "text/plain": [
       "<IPython.core.display.Markdown object>"
      ]
     },
     "metadata": {},
     "output_type": "display_data"
    },
    {
     "data": {
      "text/markdown": [
       "23. **work-from-home**: create flag, test for equality, data too large for repo, translate entity names manually"
      ],
      "text/plain": [
       "<IPython.core.display.Markdown object>"
      ]
     },
     "metadata": {},
     "output_type": "display_data"
    },
    {
     "data": {
      "text/markdown": [
       "24. **buster-posey-mvp**: plot line chart, image analysis"
      ],
      "text/plain": [
       "<IPython.core.display.Markdown object>"
      ]
     },
     "metadata": {},
     "output_type": "display_data"
    },
    {
     "data": {
      "text/markdown": [
       "25. **verge-uber-launch-dates**: "
      ],
      "text/plain": [
       "<IPython.core.display.Markdown object>"
      ]
     },
     "metadata": {},
     "output_type": "display_data"
    },
    {
     "data": {
      "text/markdown": [
       "26. **vox-central-line-infections**: filter by contains value, sort table rows, report rows with column number discrepancies, remove delimiting characters"
      ],
      "text/plain": [
       "<IPython.core.display.Markdown object>"
      ]
     },
     "metadata": {},
     "output_type": "display_data"
    },
    {
     "data": {
      "text/markdown": [
       "27. **prison-admissions**: "
      ],
      "text/plain": [
       "<IPython.core.display.Markdown object>"
      ]
     },
     "metadata": {},
     "output_type": "display_data"
    },
    {
     "data": {
      "text/markdown": [
       "28. **school-star-ratings-2018**: display rows with errors, get min value, reconcile primary keys between tables, pad column values"
      ],
      "text/plain": [
       "<IPython.core.display.Markdown object>"
      ]
     },
     "metadata": {},
     "output_type": "display_data"
    },
    {
     "data": {
      "text/markdown": [
       "29. **electric-car-charging-points**: add foreign key column, define edge weights, encode redundant information"
      ],
      "text/plain": [
       "<IPython.core.display.Markdown object>"
      ]
     },
     "metadata": {},
     "output_type": "display_data"
    },
    {
     "data": {
      "text/markdown": [
       "30. **internal-migration-london**: "
      ],
      "text/plain": [
       "<IPython.core.display.Markdown object>"
      ]
     },
     "metadata": {},
     "output_type": "display_data"
    },
    {
     "data": {
      "text/markdown": [
       "31. **midwife-led-units**: test different computations for equality"
      ],
      "text/plain": [
       "<IPython.core.display.Markdown object>"
      ]
     },
     "metadata": {},
     "output_type": "display_data"
    },
    {
     "data": {
      "text/markdown": [
       "32. **librarians**: "
      ],
      "text/plain": [
       "<IPython.core.display.Markdown object>"
      ]
     },
     "metadata": {},
     "output_type": "display_data"
    },
    {
     "data": {
      "text/markdown": [
       "33. **infrastructure-jobs**: "
      ],
      "text/plain": [
       "<IPython.core.display.Markdown object>"
      ]
     },
     "metadata": {},
     "output_type": "display_data"
    },
    {
     "data": {
      "text/markdown": [
       "34. **federal_employees_trump_2017**: create a table to lookup values, resolve to arbitrary entity name among choices, outer join tables"
      ],
      "text/plain": [
       "<IPython.core.display.Markdown object>"
      ]
     },
     "metadata": {},
     "output_type": "display_data"
    }
   ],
   "source": [
    "for i, row in codesByArticle.iterrows():\n",
    "    display(Markdown('{}. **{}**: {}'.format(i + 1, row.article, row['new codes'])))"
   ]
  },
  {
   "cell_type": "code",
   "execution_count": 18,
   "metadata": {},
   "outputs": [
    {
     "data": {
      "text/plain": [
       "<matplotlib.axes._subplots.AxesSubplot at 0x7ff97e1cff28>"
      ]
     },
     "execution_count": 18,
     "metadata": {},
     "output_type": "execute_result"
    },
    {
     "data": {
      "image/png": "[encoded data removed]",
      "text/plain": [
       "<Figure size 648x864 with 1 Axes>"
      ]
     },
     "metadata": {},
     "output_type": "display_data"
    }
   ],
   "source": [
    "sns.set(rc={'figure.figsize': (9,12)})\n",
    "sns.countplot(y='org', \n",
    "              data=keepers,\n",
    "              order=keepers.org.value_counts().index)"
   ]
  },
  {
   "cell_type": "code",
   "execution_count": null,
   "metadata": {},
   "outputs": [],
   "source": []
  }
 ],
 "metadata": {
  "kernelspec": {
   "display_name": "Python 3",
   "language": "python",
   "name": "python3"
  },
  "language_info": {
   "codemirror_mode": {
    "name": "ipython",
    "version": 3
   },
   "file_extension": ".py",
   "mimetype": "text/x-python",
   "name": "python",
   "nbconvert_exporter": "python",
   "pygments_lexer": "ipython3",
   "version": "3.7.3"
  }
 },
 "nbformat": 4,
 "nbformat_minor": 2
}

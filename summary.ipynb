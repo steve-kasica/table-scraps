{
 "cells": [
  {
   "cell_type": "markdown",
   "metadata": {},
   "source": [
    "# Analysis Summary\n",
    "\n",
    "This notebook provides answers to questions about the open-coding analysis process itself."
   ]
  },
  {
   "cell_type": "code",
   "execution_count": 1,
   "metadata": {},
   "outputs": [],
   "source": [
    "import pandas as pd\n",
    "import seaborn as sns\n",
    "import matplotlib.pyplot as plt\n",
    "import re\n",
    "from IPython.display import display, Markdown\n",
    "from lib.util import getCodes"
   ]
  },
  {
   "cell_type": "markdown",
   "metadata": {},
   "source": [
    "Import all codes from the open coding process"
   ]
  },
  {
   "cell_type": "code",
   "execution_count": 2,
   "metadata": {},
   "outputs": [
    {
     "name": "stdout",
     "output_type": "stream",
     "text": [
      "CPU times: user 1min 31s, sys: 1.98 s, total: 1min 33s\n",
      "Wall time: 1min 37s\n"
     ]
    }
   ],
   "source": [
    "%%time\n",
    "codes = getCodes()"
   ]
  },
  {
   "cell_type": "markdown",
   "metadata": {},
   "source": [
    "Parse works cited section of the `README.md` document for more analysis information."
   ]
  },
  {
   "cell_type": "code",
   "execution_count": 3,
   "metadata": {},
   "outputs": [
    {
     "data": {
      "text/html": [
       "<div>\n",
       "<style scoped>\n",
       "    .dataframe tbody tr th:only-of-type {\n",
       "        vertical-align: middle;\n",
       "    }\n",
       "\n",
       "    .dataframe tbody tr th {\n",
       "        vertical-align: top;\n",
       "    }\n",
       "\n",
       "    .dataframe thead th {\n",
       "        text-align: right;\n",
       "    }\n",
       "</style>\n",
       "<table border=\"1\" class=\"dataframe\">\n",
       "  <thead>\n",
       "    <tr style=\"text-align: right;\">\n",
       "      <th></th>\n",
       "      <th>journalist</th>\n",
       "      <th>year</th>\n",
       "      <th>month</th>\n",
       "      <th>date</th>\n",
       "      <th>article</th>\n",
       "      <th>organization</th>\n",
       "      <th>url</th>\n",
       "    </tr>\n",
       "  </thead>\n",
       "  <tbody>\n",
       "    <tr>\n",
       "      <th>0</th>\n",
       "      <td>Aldhous, Peter</td>\n",
       "      <td>2016</td>\n",
       "      <td>September</td>\n",
       "      <td>16</td>\n",
       "      <td>\"Shy Trumpers\" polling analysis.</td>\n",
       "      <td>BuzzFeed News</td>\n",
       "      <td>https://github.com/BuzzFeedNews/2016-09-shy-tr...</td>\n",
       "    </tr>\n",
       "    <tr>\n",
       "      <th>1</th>\n",
       "      <td>Arthur, Rob</td>\n",
       "      <td>2015</td>\n",
       "      <td>July</td>\n",
       "      <td>30</td>\n",
       "      <td>Buster Posey MVP.</td>\n",
       "      <td>FiveThirtyEight</td>\n",
       "      <td>https://github.com/fivethirtyeight/data</td>\n",
       "    </tr>\n",
       "    <tr>\n",
       "      <th>2</th>\n",
       "      <td>Bi, Frank</td>\n",
       "      <td>2016</td>\n",
       "      <td>Jan</td>\n",
       "      <td>13</td>\n",
       "      <td>Uber launch cities and date.</td>\n",
       "      <td>Forbes</td>\n",
       "      <td>https://github.com/voxmedia/data-projects</td>\n",
       "    </tr>\n",
       "    <tr>\n",
       "      <th>3</th>\n",
       "      <td>Bradshaw, Paul</td>\n",
       "      <td>2019</td>\n",
       "      <td>April</td>\n",
       "      <td>6</td>\n",
       "      <td>Lack of electric car charging points 'putting ...</td>\n",
       "      <td>BBC</td>\n",
       "      <td>https://github.com/BBC-Data-Unit/electric-car-...</td>\n",
       "    </tr>\n",
       "    <tr>\n",
       "      <th>4</th>\n",
       "      <td>Bradshaw, Paul</td>\n",
       "      <td>2019</td>\n",
       "      <td>March</td>\n",
       "      <td>8</td>\n",
       "      <td>Birmingham remains top destination for Londoners.</td>\n",
       "      <td>BBC</td>\n",
       "      <td>https://github.com/BBC-Data-Unit/internal-migr...</td>\n",
       "    </tr>\n",
       "  </tbody>\n",
       "</table>\n",
       "</div>"
      ],
      "text/plain": [
       "       journalist  year      month date  \\\n",
       "0  Aldhous, Peter  2016  September   16   \n",
       "1     Arthur, Rob  2015       July   30   \n",
       "2       Bi, Frank  2016        Jan   13   \n",
       "3  Bradshaw, Paul  2019      April    6   \n",
       "4  Bradshaw, Paul  2019      March    8   \n",
       "\n",
       "                                             article     organization  \\\n",
       "0                   \"Shy Trumpers\" polling analysis.    BuzzFeed News   \n",
       "1                                  Buster Posey MVP.  FiveThirtyEight   \n",
       "2                       Uber launch cities and date.           Forbes   \n",
       "3  Lack of electric car charging points 'putting ...              BBC   \n",
       "4  Birmingham remains top destination for Londoners.              BBC   \n",
       "\n",
       "                                                 url  \n",
       "0  https://github.com/BuzzFeedNews/2016-09-shy-tr...  \n",
       "1            https://github.com/fivethirtyeight/data  \n",
       "2          https://github.com/voxmedia/data-projects  \n",
       "3  https://github.com/BBC-Data-Unit/electric-car-...  \n",
       "4  https://github.com/BBC-Data-Unit/internal-migr...  "
      ]
     },
     "execution_count": 3,
     "metadata": {},
     "output_type": "execute_result"
    }
   ],
   "source": [
    "# See regular expression at regexr.com/4htcn\n",
    "regxp = r'\\n([^\\n\\.\\#]+)\\.\\s\\((\\d{4}),\\s(\\w+)\\s(\\d+)\\)\\.\\s([^\\.]+\\.)\\s\\*([\\w\\d\\s]+)\\*\\.\\sRetrieved from (.*)\\n'\n",
    "with open('README.md') as readme:\n",
    "    content = readme.read();\n",
    "\n",
    "citations = re.findall(regxp,content)\n",
    "citations = pd.DataFrame(citations, columns=['journalist', 'year', 'month', 'date', 'article', 'organization', 'url'])\n",
    "citations.head()"
   ]
  },
  {
   "cell_type": "markdown",
   "metadata": {},
   "source": [
    "Also get the list of data journalism repos identified in `find_notebooks.ipynb`. "
   ]
  },
  {
   "cell_type": "code",
   "execution_count": 4,
   "metadata": {},
   "outputs": [],
   "source": [
    "repos = pd.read_csv('potential_notebooks.csv')\n",
    "keepers = repos[repos.is_keeper == True]"
   ]
  },
  {
   "cell_type": "markdown",
   "metadata": {},
   "source": [
    "## Analysis by the numbers"
   ]
  },
  {
   "cell_type": "code",
   "execution_count": 5,
   "metadata": {},
   "outputs": [
    {
     "data": {
      "text/html": [
       "<div>\n",
       "<style scoped>\n",
       "    .dataframe tbody tr th:only-of-type {\n",
       "        vertical-align: middle;\n",
       "    }\n",
       "\n",
       "    .dataframe tbody tr th {\n",
       "        vertical-align: top;\n",
       "    }\n",
       "\n",
       "    .dataframe thead th {\n",
       "        text-align: right;\n",
       "    }\n",
       "</style>\n",
       "<table border=\"1\" class=\"dataframe\">\n",
       "  <thead>\n",
       "    <tr style=\"text-align: right;\">\n",
       "      <th></th>\n",
       "      <th>count</th>\n",
       "    </tr>\n",
       "  </thead>\n",
       "  <tbody>\n",
       "    <tr>\n",
       "      <th>journalist</th>\n",
       "      <td>23</td>\n",
       "    </tr>\n",
       "    <tr>\n",
       "      <th>organization</th>\n",
       "      <td>20</td>\n",
       "    </tr>\n",
       "    <tr>\n",
       "      <th>article</th>\n",
       "      <td>37</td>\n",
       "    </tr>\n",
       "    <tr>\n",
       "      <th>codes</th>\n",
       "      <td>158</td>\n",
       "    </tr>\n",
       "    <tr>\n",
       "      <th>repos</th>\n",
       "      <td>1295</td>\n",
       "    </tr>\n",
       "    <tr>\n",
       "      <th>relevant repos</th>\n",
       "      <td>225</td>\n",
       "    </tr>\n",
       "    <tr>\n",
       "      <th>total organizations</th>\n",
       "      <td>50</td>\n",
       "    </tr>\n",
       "  </tbody>\n",
       "</table>\n",
       "</div>"
      ],
      "text/plain": [
       "                    count\n",
       "journalist             23\n",
       "organization           20\n",
       "article                37\n",
       "codes                 158\n",
       "repos                1295\n",
       "relevant repos        225\n",
       "total organizations    50"
      ]
     },
     "execution_count": 5,
     "metadata": {},
     "output_type": "execute_result"
    }
   ],
   "source": [
    "byTheNumbers = citations.loc[:,['journalist', 'organization', 'article']].describe().loc['unique',:].to_frame('count')\n",
    "byTheNumbers = byTheNumbers.append(pd.DataFrame({\n",
    "        'count': [ codes.code.nunique(), \n",
    "                   repos.shape[0],\n",
    "                   keepers.shape[0],\n",
    "                   keepers.org.nunique(),\n",
    "                 ],\n",
    "    }, index=['codes', 'repos', 'relevant repos', 'total organizations']))\n",
    "\n",
    "byTheNumbers"
   ]
  },
  {
   "cell_type": "markdown",
   "metadata": {},
   "source": [
    "## Progress towards convergence"
   ]
  },
  {
   "cell_type": "code",
   "execution_count": 6,
   "metadata": {},
   "outputs": [],
   "source": [
    "codingOrder = pd.DataFrame({'article': [\n",
    "    'federal_employees_trump_2017', \n",
    "    'infrastructure-jobs',\n",
    "    'librarians',\n",
    "    'midwife-led-units',\n",
    "    'internal-migration-london',\n",
    "    'electric-car-charging-points',\n",
    "    'school-star-ratings-2018',\n",
    "    'prison-admissions',\n",
    "    'vox-central-line-infections',\n",
    "    'verge-uber-launch-dates',\n",
    "    'buster-posey-mvp',\n",
    "    'work-from-home',\n",
    "    'nyc-trips',\n",
    "    'bob-ross',\n",
    "    'bechdel',\n",
    "    'employment-discrimination',\n",
    "    '2015-11-refugees-in-the-united-states',\n",
    "    'babyname_politics',\n",
    "    'wikipedia-rankings',\n",
    "    'Power_of_Irma',\n",
    "    'Endangered-Species-Act-Louisiana',\n",
    "    'california-h2a-visas-analysis',\n",
    "    '2016-04-republican-donor-movements',\n",
    "    'cube_root_law',\n",
    "    '2016-09-shy-trumpers',\n",
    "    '2018-05-31-crime-and-heat-analysis',\n",
    "    '2016-11-bellwether-counties',\n",
    "    'heat_and_humidity',\n",
    "    '2018-voter-registration',\n",
    "    'long-term-care-db',\n",
    "    'census-hard-to-map-analysis',\n",
    "    'california-crop-production-wages-analysis',\n",
    "    'california-cc-score-analysis',\n",
    "    '2019-04-democratic-candidate-codonors',\n",
    "    'california-ccscore-analysis'\n",
    "][::-1] }).reset_index().rename(columns={'index': 'coding order'})"
   ]
  },
  {
   "cell_type": "markdown",
   "metadata": {},
   "source": [
    "Create a data frame of codes grouped by article."
   ]
  },
  {
   "cell_type": "code",
   "execution_count": 7,
   "metadata": {},
   "outputs": [
    {
     "data": {
      "text/html": [
       "<div>\n",
       "<style scoped>\n",
       "    .dataframe tbody tr th:only-of-type {\n",
       "        vertical-align: middle;\n",
       "    }\n",
       "\n",
       "    .dataframe tbody tr th {\n",
       "        vertical-align: top;\n",
       "    }\n",
       "\n",
       "    .dataframe thead th {\n",
       "        text-align: right;\n",
       "    }\n",
       "</style>\n",
       "<table border=\"1\" class=\"dataframe\">\n",
       "  <thead>\n",
       "    <tr style=\"text-align: right;\">\n",
       "      <th></th>\n",
       "      <th>index</th>\n",
       "      <th>article</th>\n",
       "      <th>codes</th>\n",
       "      <th>coding order</th>\n",
       "      <th>cumulative count</th>\n",
       "      <th>new codes</th>\n",
       "    </tr>\n",
       "  </thead>\n",
       "  <tbody>\n",
       "    <tr>\n",
       "      <th>0</th>\n",
       "      <td>13</td>\n",
       "      <td>california-ccscore-analysis</td>\n",
       "      <td>[format table display, read as tabular data, d...</td>\n",
       "      <td>0</td>\n",
       "      <td>23</td>\n",
       "      <td>drop entirely duplicate rows, read as tabular ...</td>\n",
       "    </tr>\n",
       "    <tr>\n",
       "      <th>1</th>\n",
       "      <td>6</td>\n",
       "      <td>2019-04-democratic-candidate-codonors</td>\n",
       "      <td>[use public data, read as tabular data, archit...</td>\n",
       "      <td>1</td>\n",
       "      <td>42</td>\n",
       "      <td>use public data, union tables, sum column valu...</td>\n",
       "    </tr>\n",
       "    <tr>\n",
       "      <th>2</th>\n",
       "      <td>14</td>\n",
       "      <td>california-crop-production-wages-analysis</td>\n",
       "      <td>[use public data, format table display, constr...</td>\n",
       "      <td>3</td>\n",
       "      <td>45</td>\n",
       "      <td>adjust for inflation, construct table manually...</td>\n",
       "    </tr>\n",
       "    <tr>\n",
       "      <th>3</th>\n",
       "      <td>16</td>\n",
       "      <td>census-hard-to-map-analysis</td>\n",
       "      <td>[wrangle data for graphics, use public data, c...</td>\n",
       "      <td>4</td>\n",
       "      <td>47</td>\n",
       "      <td>wrangle data for graphics, slice column values</td>\n",
       "    </tr>\n",
       "    <tr>\n",
       "      <th>4</th>\n",
       "      <td>25</td>\n",
       "      <td>long-term-care-db</td>\n",
       "      <td>[count value frequency, calculate scaled ratio...</td>\n",
       "      <td>5</td>\n",
       "      <td>56</td>\n",
       "      <td>perform name entity resolution manually, join ...</td>\n",
       "    </tr>\n",
       "  </tbody>\n",
       "</table>\n",
       "</div>"
      ],
      "text/plain": [
       "   index                                    article  \\\n",
       "0     13                california-ccscore-analysis   \n",
       "1      6      2019-04-democratic-candidate-codonors   \n",
       "2     14  california-crop-production-wages-analysis   \n",
       "3     16                census-hard-to-map-analysis   \n",
       "4     25                          long-term-care-db   \n",
       "\n",
       "                                               codes  coding order  \\\n",
       "0  [format table display, read as tabular data, d...             0   \n",
       "1  [use public data, read as tabular data, archit...             1   \n",
       "2  [use public data, format table display, constr...             3   \n",
       "3  [wrangle data for graphics, use public data, c...             4   \n",
       "4  [count value frequency, calculate scaled ratio...             5   \n",
       "\n",
       "   cumulative count                                          new codes  \n",
       "0                23  drop entirely duplicate rows, read as tabular ...  \n",
       "1                42  use public data, union tables, sum column valu...  \n",
       "2                45  adjust for inflation, construct table manually...  \n",
       "3                47     wrangle data for graphics, slice column values  \n",
       "4                56  perform name entity resolution manually, join ...  "
      ]
     },
     "execution_count": 7,
     "metadata": {},
     "output_type": "execute_result"
    }
   ],
   "source": [
    "codesByArticle = codes.groupby(['article']).code \\\n",
    "    .unique() \\\n",
    "    .to_frame('codes') \\\n",
    "    .reset_index() \\\n",
    "    .merge(codingOrder, on='article') \\\n",
    "    .sort_values('coding order') \\\n",
    "    .reset_index()\n",
    "\n",
    "codesByArticle['cumulative count'] = 0\n",
    "#codesByArticle['cumulative codeset'] = None\n",
    "\n",
    "codeset = set()\n",
    "for i, row in codesByArticle.iterrows():\n",
    "    setDiff = set(row.codes).difference(codeset)\n",
    "    codeset = codeset.union(setDiff)\n",
    "    codesByArticle.loc[i, 'cumulative count'] = len(codeset)\n",
    "    codesByArticle.loc[i, 'new codes'] = ', '.join(setDiff)\n",
    "\n",
    "codesByArticle.head()"
   ]
  },
  {
   "cell_type": "markdown",
   "metadata": {},
   "source": [
    "Plot the size of the code set as more computational notebooks are analyzed."
   ]
  },
  {
   "cell_type": "code",
   "execution_count": 8,
   "metadata": {},
   "outputs": [
    {
     "data": {
      "image/png": "[encoded data removed]",
      "text/plain": [
       "<Figure size 432x288 with 1 Axes>"
      ]
     },
     "metadata": {
      "needs_background": "light"
     },
     "output_type": "display_data"
    }
   ],
   "source": [
    "ax = sns.lineplot(x='coding order', y='cumulative count', markers=True, dashes=False, data=codesByArticle)\n",
    "ax.set(xlabel='Computational Notebooks Coded', ylabel='Total Unique Codes', title='Code Set Growth')\n",
    "plt.show()"
   ]
  },
  {
   "cell_type": "markdown",
   "metadata": {},
   "source": [
    "Map codes back to the article where they were introduced to the code set."
   ]
  },
  {
   "cell_type": "code",
   "execution_count": null,
   "metadata": {
    "scrolled": true
   },
   "outputs": [
    {
     "data": {
      "text/markdown": [
       "1. **california-ccscore-analysis**: drop entirely duplicate rows, read as tabular data, group by single column, calculate percentage difference, calculate mean, drop columns, count value frequency, filter rows, plot histogram, export results, calculate z-score, adjust for season, repetitive code, change column data type, format table display, count number of records, inspect table schema, remove incomplete data, calculate difference, inner join tables, sort table, split, compute, and merge, peek at data"
      ],
      "text/plain": [
       "<IPython.core.display.Markdown object>"
      ]
     },
     "metadata": {},
     "output_type": "display_data"
    },
    {
     "data": {
      "text/markdown": [
       "2. **2019-04-democratic-candidate-codonors**: use public data, union tables, sum column values, remove with regular expression, outer join tables, export intermediate results, create a semi-unique key, gather table, calculate scaled ratio, group by multiple columns, annotate workflow, canonicalize column names, calculate ratio, count unique values in column, prevent double-counting, architect a subroutine, strip whitespace, change case, self join table"
      ],
      "text/plain": [
       "<IPython.core.display.Markdown object>"
      ]
     },
     "metadata": {},
     "output_type": "display_data"
    },
    {
     "data": {
      "text/markdown": [
       "3. **california-crop-production-wages-analysis**: adjust for inflation, construct table manually, architect repeating process"
      ],
      "text/plain": [
       "<IPython.core.display.Markdown object>"
      ]
     },
     "metadata": {},
     "output_type": "display_data"
    },
    {
     "data": {
      "text/markdown": [
       "4. **census-hard-to-map-analysis**: wrangle data for graphics, slice column values"
      ],
      "text/plain": [
       "<IPython.core.display.Markdown object>"
      ]
     },
     "metadata": {},
     "output_type": "display_data"
    },
    {
     "data": {
      "text/markdown": [
       "5. **long-term-care-db**: perform name entity resolution manually, join with lookup table, encode table identification in row, scrape web for data, drop erroneous rows, construct pivot table, drop rows with duplicate value in one column, fix data errors manually, use non-public, provided data"
      ],
      "text/plain": [
       "<IPython.core.display.Markdown object>"
      ]
     },
     "metadata": {},
     "output_type": "display_data"
    },
    {
     "data": {
      "text/markdown": [
       "6. **2018-voter-registration**: extract single value, plot stacked column chart, pull tables out of pdf, plot stacked bar chart"
      ],
      "text/plain": [
       "<IPython.core.display.Markdown object>"
      ]
     },
     "metadata": {},
     "output_type": "display_data"
    },
    {
     "data": {
      "text/markdown": [
       "7. **heat_and_humidity**: compute index number, cartesian product, generate data computationally"
      ],
      "text/plain": [
       "<IPython.core.display.Markdown object>"
      ]
     },
     "metadata": {},
     "output_type": "display_data"
    },
    {
     "data": {
      "text/markdown": [
       "8. **2016-11-bellwether-counties**: create rolling window, spread table, get max value, calculate spread, use academic data"
      ],
      "text/plain": [
       "<IPython.core.display.Markdown object>"
      ]
     },
     "metadata": {},
     "output_type": "display_data"
    },
    {
     "data": {
      "text/markdown": [
       "9. **2018-05-31-crime-and-heat-analysis**: plot scatterplot, combine seemingly disparate datasets, extract property from datetime"
      ],
      "text/plain": [
       "<IPython.core.display.Markdown object>"
      ]
     },
     "metadata": {},
     "output_type": "display_data"
    },
    {
     "data": {
      "text/markdown": [
       "10. **2016-09-shy-trumpers**: use another news orgs data"
      ],
      "text/plain": [
       "<IPython.core.display.Markdown object>"
      ]
     },
     "metadata": {},
     "output_type": "display_data"
    },
    {
     "data": {
      "text/markdown": [
       "11. **cube_root_law**: calculate using an external data structure"
      ],
      "text/plain": [
       "<IPython.core.display.Markdown object>"
      ]
     },
     "metadata": {},
     "output_type": "display_data"
    },
    {
     "data": {
      "text/markdown": [
       "12. **2016-04-republican-donor-movements**: split column on delimiter"
      ],
      "text/plain": [
       "<IPython.core.display.Markdown object>"
      ]
     },
     "metadata": {},
     "output_type": "display_data"
    },
    {
     "data": {
      "text/markdown": [
       "13. **california-h2a-visas-analysis**: replace na values, cache results from external service, trim by geographic area, preserve existing values, geocode addresses, temporary joining column, encoding provenance in data, omits data quality exploration, plot column chart, trim by date range, create a crosstab, remove all rows but the master record, display entire table, create a unique key, split and compute"
      ],
      "text/plain": [
       "<IPython.core.display.Markdown object>"
      ]
     },
     "metadata": {},
     "output_type": "display_data"
    },
    {
     "data": {
      "text/markdown": [
       "14. **Endangered-Species-Act-Louisiana**: perform scalar multiplication, plot trendline"
      ],
      "text/plain": [
       "<IPython.core.display.Markdown object>"
      ]
     },
     "metadata": {},
     "output_type": "display_data"
    },
    {
     "data": {
      "text/markdown": [
       "15. **Power_of_Irma**: use previously cleaned data, find most frequently occurring, plot boxplot, select columns, toggle step on and off, plot violin plot, value replacement, fit a generalized linear model, find worst offender, tolerate dirty data, set data confidence threshold, use data from colleague, change date format, look for trends, log-ify values, fix incorrect calculation"
      ],
      "text/plain": [
       "<IPython.core.display.Markdown object>"
      ]
     },
     "metadata": {},
     "output_type": "display_data"
    },
    {
     "data": {
      "text/markdown": [
       "16. **wikipedia-rankings**: plot scree plot, collect raw data, analyze principle components"
      ],
      "text/plain": [
       "<IPython.core.display.Markdown object>"
      ]
     },
     "metadata": {},
     "output_type": "display_data"
    },
    {
     "data": {
      "text/markdown": [
       "17. **babyname_politics**: check results of previous operation, peel and merge, data loss from aggregation, natural join, join aggregate, get unique values, concatenate columns into key, trim by quantitative threshold, resort after merge, round floating point, break ties, assign ranks"
      ],
      "text/plain": [
       "<IPython.core.display.Markdown object>"
      ]
     },
     "metadata": {},
     "output_type": "display_data"
    },
    {
     "data": {
      "text/markdown": [
       "18. **2015-11-refugees-in-the-united-states**: compare total number of rows, make an incorrect conclusion, designate column as primary key"
      ],
      "text/plain": [
       "<IPython.core.display.Markdown object>"
      ]
     },
     "metadata": {},
     "output_type": "display_data"
    },
    {
     "data": {
      "text/markdown": [
       "19. **employment-discrimination**: combine entities by string matching, merge tables to create pivot table, concatenate files together, align table columns for consolidation"
      ],
      "text/plain": [
       "<IPython.core.display.Markdown object>"
      ]
     },
     "metadata": {},
     "output_type": "display_data"
    },
    {
     "data": {
      "text/markdown": [
       "20. **bechdel**: calculate median"
      ],
      "text/plain": [
       "<IPython.core.display.Markdown object>"
      ]
     },
     "metadata": {},
     "output_type": "display_data"
    },
    {
     "data": {
      "text/markdown": [
       "21. **bob-ross**: run cluster analysis, whiten matrix"
      ],
      "text/plain": [
       "<IPython.core.display.Markdown object>"
      ]
     },
     "metadata": {},
     "output_type": "display_data"
    },
    {
     "data": {
      "text/markdown": [
       "22. **nyc-trips**: full join tables"
      ],
      "text/plain": [
       "<IPython.core.display.Markdown object>"
      ]
     },
     "metadata": {},
     "output_type": "display_data"
    },
    {
     "data": {
      "text/markdown": [
       "23. **work-from-home**: test for equality, translate entity names manually, data too large for repo, create flag"
      ],
      "text/plain": [
       "<IPython.core.display.Markdown object>"
      ]
     },
     "metadata": {},
     "output_type": "display_data"
    },
    {
     "data": {
      "text/markdown": [
       "24. **buster-posey-mvp**: plot line chart, image analysis"
      ],
      "text/plain": [
       "<IPython.core.display.Markdown object>"
      ]
     },
     "metadata": {},
     "output_type": "display_data"
    },
    {
     "data": {
      "text/markdown": [
       "25. **verge-uber-launch-dates**: "
      ],
      "text/plain": [
       "<IPython.core.display.Markdown object>"
      ]
     },
     "metadata": {},
     "output_type": "display_data"
    },
    {
     "data": {
      "text/markdown": [
       "26. **vox-central-line-infections**: remove delimiting characters, filter by contains value, sort table rows, report rows with column number discrepancies"
      ],
      "text/plain": [
       "<IPython.core.display.Markdown object>"
      ]
     },
     "metadata": {},
     "output_type": "display_data"
    },
    {
     "data": {
      "text/markdown": [
       "27. **prison-admissions**: "
      ],
      "text/plain": [
       "<IPython.core.display.Markdown object>"
      ]
     },
     "metadata": {},
     "output_type": "display_data"
    },
    {
     "data": {
      "text/markdown": [
       "28. **school-star-ratings-2018**: pad column values, get min value, reconcile primary keys between tables, display rows with errors"
      ],
      "text/plain": [
       "<IPython.core.display.Markdown object>"
      ]
     },
     "metadata": {},
     "output_type": "display_data"
    },
    {
     "data": {
      "text/markdown": [
       "29. **electric-car-charging-points**: define edge weights, add foreign key column, encode redundant information"
      ],
      "text/plain": [
       "<IPython.core.display.Markdown object>"
      ]
     },
     "metadata": {},
     "output_type": "display_data"
    },
    {
     "data": {
      "text/markdown": [
       "30. **internal-migration-london**: "
      ],
      "text/plain": [
       "<IPython.core.display.Markdown object>"
      ]
     },
     "metadata": {},
     "output_type": "display_data"
    },
    {
     "data": {
      "text/markdown": [
       "31. **midwife-led-units**: test different computations for equality"
      ],
      "text/plain": [
       "<IPython.core.display.Markdown object>"
      ]
     },
     "metadata": {},
     "output_type": "display_data"
    },
    {
     "data": {
      "text/markdown": [
       "32. **librarians**: "
      ],
      "text/plain": [
       "<IPython.core.display.Markdown object>"
      ]
     },
     "metadata": {},
     "output_type": "display_data"
    },
    {
     "data": {
      "text/markdown": [
       "33. **infrastructure-jobs**: "
      ],
      "text/plain": [
       "<IPython.core.display.Markdown object>"
      ]
     },
     "metadata": {},
     "output_type": "display_data"
    },
    {
     "data": {
      "text/markdown": [
       "34. **federal_employees_trump_2017**: resolve to arbitrary entity name among choices, create a table to lookup values"
      ],
      "text/plain": [
       "<IPython.core.display.Markdown object>"
      ]
     },
     "metadata": {},
     "output_type": "display_data"
    }
   ],
   "source": [
    "for i, row in codesByArticle.iterrows():\n",
    "    display(Markdown('{}. **{}**: {}'.format(i + 1, row.article, row['new codes'])))"
   ]
  }
 ],
 "metadata": {
  "kernelspec": {
   "display_name": "Python 3",
   "language": "python",
   "name": "python3"
  },
  "language_info": {
   "codemirror_mode": {
    "name": "ipython",
    "version": 3
   },
   "file_extension": ".py",
   "mimetype": "text/x-python",
   "name": "python",
   "nbconvert_exporter": "python",
   "pygments_lexer": "ipython3",
   "version": "3.7.3"
  }
 },
 "nbformat": 4,
 "nbformat_minor": 2
}

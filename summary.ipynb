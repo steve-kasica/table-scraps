{
 "cells": [
  {
   "cell_type": "markdown",
   "metadata": {},
   "source": [
    "# Analysis Summary\n",
    "\n",
    "This notebook provides answers to questions about the open-coding analysis process itself."
   ]
  },
  {
   "cell_type": "code",
   "execution_count": 14,
   "metadata": {},
   "outputs": [
    {
     "data": {
      "application/javascript": [
       "IPython.notebook.set_autosave_interval(0)"
      ]
     },
     "metadata": {},
     "output_type": "display_data"
    },
    {
     "name": "stdout",
     "output_type": "stream",
     "text": [
      "Autosave disabled\n"
     ]
    }
   ],
   "source": [
    "import pandas as pd\n",
    "import seaborn as sns\n",
    "import matplotlib.pyplot as plt\n",
    "import re\n",
    "from IPython.display import display, Markdown\n",
    "from lib.util import getCodes\n",
    "\n",
    "%autosave 0"
   ]
  },
  {
   "cell_type": "markdown",
   "metadata": {},
   "source": [
    "Import all codes from the open coding process"
   ]
  },
  {
   "cell_type": "code",
   "execution_count": 2,
   "metadata": {},
   "outputs": [
    {
     "name": "stdout",
     "output_type": "stream",
     "text": [
      "CPU times: user 49 s, sys: 180 ms, total: 49.2 s\n",
      "Wall time: 49.7 s\n"
     ]
    }
   ],
   "source": [
    "%%time\n",
    "codes = getCodes()"
   ]
  },
  {
   "cell_type": "markdown",
   "metadata": {},
   "source": [
    "Parse works cited section of the `README.md` document for more analysis information."
   ]
  },
  {
   "cell_type": "code",
   "execution_count": 3,
   "metadata": {},
   "outputs": [
    {
     "data": {
      "text/html": [
       "<div>\n",
       "<style scoped>\n",
       "    .dataframe tbody tr th:only-of-type {\n",
       "        vertical-align: middle;\n",
       "    }\n",
       "\n",
       "    .dataframe tbody tr th {\n",
       "        vertical-align: top;\n",
       "    }\n",
       "\n",
       "    .dataframe thead th {\n",
       "        text-align: right;\n",
       "    }\n",
       "</style>\n",
       "<table border=\"1\" class=\"dataframe\">\n",
       "  <thead>\n",
       "    <tr style=\"text-align: right;\">\n",
       "      <th></th>\n",
       "      <th>journalist</th>\n",
       "      <th>year</th>\n",
       "      <th>month</th>\n",
       "      <th>date</th>\n",
       "      <th>article</th>\n",
       "      <th>organization</th>\n",
       "      <th>url</th>\n",
       "    </tr>\n",
       "  </thead>\n",
       "  <tbody>\n",
       "    <tr>\n",
       "      <th>0</th>\n",
       "      <td>Aldhous, Peter</td>\n",
       "      <td>2016</td>\n",
       "      <td>September</td>\n",
       "      <td>16</td>\n",
       "      <td>\"Shy Trumpers\" polling analysis.</td>\n",
       "      <td>BuzzFeed News</td>\n",
       "      <td>https://github.com/BuzzFeedNews/2016-09-shy-tr...</td>\n",
       "    </tr>\n",
       "    <tr>\n",
       "      <th>1</th>\n",
       "      <td>Arthur, Rob</td>\n",
       "      <td>2015</td>\n",
       "      <td>July</td>\n",
       "      <td>30</td>\n",
       "      <td>Buster Posey MVP.</td>\n",
       "      <td>FiveThirtyEight</td>\n",
       "      <td>https://github.com/fivethirtyeight/data</td>\n",
       "    </tr>\n",
       "    <tr>\n",
       "      <th>2</th>\n",
       "      <td>Bi, Frank</td>\n",
       "      <td>2016</td>\n",
       "      <td>Jan</td>\n",
       "      <td>13</td>\n",
       "      <td>Uber launch cities and date.</td>\n",
       "      <td>Forbes</td>\n",
       "      <td>https://github.com/voxmedia/data-projects</td>\n",
       "    </tr>\n",
       "    <tr>\n",
       "      <th>3</th>\n",
       "      <td>Bradshaw, Paul</td>\n",
       "      <td>2019</td>\n",
       "      <td>April</td>\n",
       "      <td>6</td>\n",
       "      <td>Lack of electric car charging points 'putting ...</td>\n",
       "      <td>BBC</td>\n",
       "      <td>https://github.com/BBC-Data-Unit/electric-car-...</td>\n",
       "    </tr>\n",
       "    <tr>\n",
       "      <th>4</th>\n",
       "      <td>Bradshaw, Paul</td>\n",
       "      <td>2019</td>\n",
       "      <td>March</td>\n",
       "      <td>8</td>\n",
       "      <td>Birmingham remains top destination for Londoners.</td>\n",
       "      <td>BBC</td>\n",
       "      <td>https://github.com/BBC-Data-Unit/internal-migr...</td>\n",
       "    </tr>\n",
       "  </tbody>\n",
       "</table>\n",
       "</div>"
      ],
      "text/plain": [
       "       journalist  year      month date  \\\n",
       "0  Aldhous, Peter  2016  September   16   \n",
       "1     Arthur, Rob  2015       July   30   \n",
       "2       Bi, Frank  2016        Jan   13   \n",
       "3  Bradshaw, Paul  2019      April    6   \n",
       "4  Bradshaw, Paul  2019      March    8   \n",
       "\n",
       "                                             article     organization  \\\n",
       "0                   \"Shy Trumpers\" polling analysis.    BuzzFeed News   \n",
       "1                                  Buster Posey MVP.  FiveThirtyEight   \n",
       "2                       Uber launch cities and date.           Forbes   \n",
       "3  Lack of electric car charging points 'putting ...              BBC   \n",
       "4  Birmingham remains top destination for Londoners.              BBC   \n",
       "\n",
       "                                                 url  \n",
       "0  https://github.com/BuzzFeedNews/2016-09-shy-tr...  \n",
       "1            https://github.com/fivethirtyeight/data  \n",
       "2          https://github.com/voxmedia/data-projects  \n",
       "3  https://github.com/BBC-Data-Unit/electric-car-...  \n",
       "4  https://github.com/BBC-Data-Unit/internal-migr...  "
      ]
     },
     "execution_count": 3,
     "metadata": {},
     "output_type": "execute_result"
    }
   ],
   "source": [
    "# See regular expression at regexr.com/4htcn\n",
    "regxp = r'\\n([^\\n\\.\\#]+)\\.\\s\\((\\d{4}),\\s(\\w+)\\s(\\d+)\\)\\.\\s([^\\.]+\\.)\\s\\*([\\w\\d\\s]+)\\*\\.\\sRetrieved from (.*)\\n'\n",
    "with open('README.md') as readme:\n",
    "    content = readme.read();\n",
    "\n",
    "citations = re.findall(regxp,content)\n",
    "citations = pd.DataFrame(citations, columns=['journalist', 'year', 'month', 'date', 'article', 'organization', 'url'])\n",
    "citations.head()"
   ]
  },
  {
   "cell_type": "markdown",
   "metadata": {},
   "source": [
    "Also get the list of data journalism repos identified in `find_notebooks.ipynb`. "
   ]
  },
  {
   "cell_type": "code",
   "execution_count": 4,
   "metadata": {},
   "outputs": [],
   "source": [
    "repos = pd.read_csv('potential_notebooks.csv')\n",
    "keepers = repos[repos.is_keeper == True]"
   ]
  },
  {
   "cell_type": "markdown",
   "metadata": {},
   "source": [
    "## Analysis by the numbers"
   ]
  },
  {
   "cell_type": "code",
   "execution_count": 5,
   "metadata": {},
   "outputs": [
    {
     "data": {
      "text/html": [
       "<div>\n",
       "<style scoped>\n",
       "    .dataframe tbody tr th:only-of-type {\n",
       "        vertical-align: middle;\n",
       "    }\n",
       "\n",
       "    .dataframe tbody tr th {\n",
       "        vertical-align: top;\n",
       "    }\n",
       "\n",
       "    .dataframe thead th {\n",
       "        text-align: right;\n",
       "    }\n",
       "</style>\n",
       "<table border=\"1\" class=\"dataframe\">\n",
       "  <thead>\n",
       "    <tr style=\"text-align: right;\">\n",
       "      <th></th>\n",
       "      <th>count</th>\n",
       "    </tr>\n",
       "  </thead>\n",
       "  <tbody>\n",
       "    <tr>\n",
       "      <th>journalist</th>\n",
       "      <td>28</td>\n",
       "    </tr>\n",
       "    <tr>\n",
       "      <th>organization</th>\n",
       "      <td>25</td>\n",
       "    </tr>\n",
       "    <tr>\n",
       "      <th>article</th>\n",
       "      <td>42</td>\n",
       "    </tr>\n",
       "    <tr>\n",
       "      <th>codes</th>\n",
       "      <td>148</td>\n",
       "    </tr>\n",
       "    <tr>\n",
       "      <th>repos</th>\n",
       "      <td>1295</td>\n",
       "    </tr>\n",
       "    <tr>\n",
       "      <th>relevant repos</th>\n",
       "      <td>225</td>\n",
       "    </tr>\n",
       "    <tr>\n",
       "      <th>total organizations</th>\n",
       "      <td>50</td>\n",
       "    </tr>\n",
       "  </tbody>\n",
       "</table>\n",
       "</div>"
      ],
      "text/plain": [
       "                    count\n",
       "journalist             28\n",
       "organization           25\n",
       "article                42\n",
       "codes                 148\n",
       "repos                1295\n",
       "relevant repos        225\n",
       "total organizations    50"
      ]
     },
     "execution_count": 5,
     "metadata": {},
     "output_type": "execute_result"
    }
   ],
   "source": [
    "byTheNumbers = citations.loc[:,['journalist', 'organization', 'article']].describe().loc['unique',:].to_frame('count')\n",
    "byTheNumbers = byTheNumbers.append(pd.DataFrame({\n",
    "        'count': [ codes.code.nunique(), \n",
    "                   repos.shape[0],\n",
    "                   keepers.shape[0],\n",
    "                   keepers.org.nunique(),\n",
    "                 ],\n",
    "    }, index=['codes', 'repos', 'relevant repos', 'total organizations']))\n",
    "\n",
    "byTheNumbers"
   ]
  },
  {
   "cell_type": "markdown",
   "metadata": {},
   "source": [
    "## Progress towards convergence"
   ]
  },
  {
   "cell_type": "code",
   "execution_count": 10,
   "metadata": {},
   "outputs": [],
   "source": [
    "codingOrder = pd.DataFrame({'article': [\n",
    "    'swana-population-map',\n",
    "    'school-choice',\n",
    "    '201901-achievementgap',\n",
    "    'general-election-2015-classification-tree',\n",
    "    '201901-hospitalquality',\n",
    "    'awb-notebook',\n",
    "    'skatemusic',\n",
    "    'new-york-school-assessment',\n",
    "    'lending-club',\n",
    "    'auditData',\n",
    "    '2019-ems-analysis',\n",
    "    '2018-voter-registration',\n",
    "    'federal_employees_trump_2017', \n",
    "    'infrastructure-jobs',\n",
    "    'librarians',\n",
    "    'midwife-led-units',\n",
    "    'internal-migration-london',\n",
    "    'electric-car-charging-points',\n",
    "    'school-star-ratings-2018',\n",
    "    'prison-admissions',\n",
    "    'vox-central-line-infections',\n",
    "    'verge-uber-launch-dates',\n",
    "    'buster-posey-mvp',\n",
    "    'work-from-home',\n",
    "    'nyc-trips',\n",
    "    'bob-ross',\n",
    "    'bechdel',\n",
    "    'employment-discrimination',\n",
    "    '2015-11-refugees-in-the-united-states',\n",
    "    'babyname_politics',\n",
    "    'wikipedia-rankings',\n",
    "    'Power_of_Irma',\n",
    "    'Endangered-Species-Act-Louisiana',\n",
    "    'california-h2a-visas-analysis',\n",
    "    '2016-04-republican-donor-movements',\n",
    "    'cube_root_law',\n",
    "    '2016-09-shy-trumpers',\n",
    "    '2018-05-31-crime-and-heat-analysis',\n",
    "    '2016-11-bellwether-counties',\n",
    "    'heat_and_humidity',\n",
    "    '2018-voter-registration',\n",
    "    'long-term-care-db',\n",
    "    'census-hard-to-map-analysis',\n",
    "    'california-crop-production-wages-analysis',\n",
    "    'california-cc-score-analysis',\n",
    "    '2019-04-democratic-candidate-codonors',\n",
    "    'california-ccscore-analysis'\n",
    "][::-1] }).reset_index().rename(columns={'index': 'coding order'})"
   ]
  },
  {
   "cell_type": "markdown",
   "metadata": {},
   "source": [
    "Create a data frame of codes grouped by article."
   ]
  },
  {
   "cell_type": "code",
   "execution_count": 11,
   "metadata": {},
   "outputs": [
    {
     "data": {
      "text/html": [
       "<div>\n",
       "<style scoped>\n",
       "    .dataframe tbody tr th:only-of-type {\n",
       "        vertical-align: middle;\n",
       "    }\n",
       "\n",
       "    .dataframe tbody tr th {\n",
       "        vertical-align: top;\n",
       "    }\n",
       "\n",
       "    .dataframe thead th {\n",
       "        text-align: right;\n",
       "    }\n",
       "</style>\n",
       "<table border=\"1\" class=\"dataframe\">\n",
       "  <thead>\n",
       "    <tr style=\"text-align: right;\">\n",
       "      <th></th>\n",
       "      <th>index</th>\n",
       "      <th>article</th>\n",
       "      <th>codes</th>\n",
       "      <th>coding order</th>\n",
       "      <th>cumulative count</th>\n",
       "      <th>new codes</th>\n",
       "    </tr>\n",
       "  </thead>\n",
       "  <tbody>\n",
       "    <tr>\n",
       "      <th>0</th>\n",
       "      <td>18</td>\n",
       "      <td>california-ccscore-analysis</td>\n",
       "      <td>[format table display, read as tabular data, s...</td>\n",
       "      <td>0</td>\n",
       "      <td>23</td>\n",
       "      <td>export results, group by single column, change...</td>\n",
       "    </tr>\n",
       "    <tr>\n",
       "      <th>1</th>\n",
       "      <td>7</td>\n",
       "      <td>2019-04-democratic-candidate-codonors</td>\n",
       "      <td>[use open government data, read as tabular dat...</td>\n",
       "      <td>1</td>\n",
       "      <td>43</td>\n",
       "      <td>trim by contains value, group by multiple colu...</td>\n",
       "    </tr>\n",
       "    <tr>\n",
       "      <th>2</th>\n",
       "      <td>19</td>\n",
       "      <td>california-crop-production-wages-analysis</td>\n",
       "      <td>[use open government data, format table displa...</td>\n",
       "      <td>3</td>\n",
       "      <td>50</td>\n",
       "      <td>construct table manually, architect repeating ...</td>\n",
       "    </tr>\n",
       "    <tr>\n",
       "      <th>3</th>\n",
       "      <td>21</td>\n",
       "      <td>census-hard-to-map-analysis</td>\n",
       "      <td>[wrangle data for graphics, use open governmen...</td>\n",
       "      <td>4</td>\n",
       "      <td>52</td>\n",
       "      <td>slice column values, tolerate dirty data</td>\n",
       "    </tr>\n",
       "    <tr>\n",
       "      <th>4</th>\n",
       "      <td>31</td>\n",
       "      <td>long-term-care-db</td>\n",
       "      <td>[count value frequency, calculate scaled ratio...</td>\n",
       "      <td>5</td>\n",
       "      <td>63</td>\n",
       "      <td>perform entity resolution manually, fill in na...</td>\n",
       "    </tr>\n",
       "  </tbody>\n",
       "</table>\n",
       "</div>"
      ],
      "text/plain": [
       "   index                                    article  \\\n",
       "0     18                california-ccscore-analysis   \n",
       "1      7      2019-04-democratic-candidate-codonors   \n",
       "2     19  california-crop-production-wages-analysis   \n",
       "3     21                census-hard-to-map-analysis   \n",
       "4     31                          long-term-care-db   \n",
       "\n",
       "                                               codes  coding order  \\\n",
       "0  [format table display, read as tabular data, s...             0   \n",
       "1  [use open government data, read as tabular dat...             1   \n",
       "2  [use open government data, format table displa...             3   \n",
       "3  [wrangle data for graphics, use open governmen...             4   \n",
       "4  [count value frequency, calculate scaled ratio...             5   \n",
       "\n",
       "   cumulative count                                          new codes  \n",
       "0                23  export results, group by single column, change...  \n",
       "1                43  trim by contains value, group by multiple colu...  \n",
       "2                50  construct table manually, architect repeating ...  \n",
       "3                52           slice column values, tolerate dirty data  \n",
       "4                63  perform entity resolution manually, fill in na...  "
      ]
     },
     "execution_count": 11,
     "metadata": {},
     "output_type": "execute_result"
    }
   ],
   "source": [
    "codesByArticle = codes.groupby(['article']).code \\\n",
    "    .unique() \\\n",
    "    .to_frame('codes') \\\n",
    "    .reset_index() \\\n",
    "    .merge(codingOrder, on='article') \\\n",
    "    .sort_values('coding order') \\\n",
    "    .reset_index()\n",
    "\n",
    "codesByArticle['cumulative count'] = 0\n",
    "\n",
    "codeset = set()\n",
    "for i, row in codesByArticle.iterrows():\n",
    "    setDiff = set(row.codes).difference(codeset)\n",
    "    codeset = codeset.union(setDiff)\n",
    "    codesByArticle.loc[i, 'cumulative count'] = len(codeset)\n",
    "    codesByArticle.loc[i, 'new codes'] = ', '.join(setDiff)\n",
    "\n",
    "codesByArticle.head()"
   ]
  },
  {
   "cell_type": "markdown",
   "metadata": {},
   "source": [
    "Plot the size of the code set as more computational notebooks are analyzed."
   ]
  },
  {
   "cell_type": "code",
   "execution_count": 12,
   "metadata": {},
   "outputs": [
    {
     "data": {
      "image/png": "[encoded data removed]",
      "text/plain": [
       "<Figure size 432x288 with 1 Axes>"
      ]
     },
     "metadata": {
      "needs_background": "light"
     },
     "output_type": "display_data"
    }
   ],
   "source": [
    "ax = sns.lineplot(x='coding order', y='cumulative count', markers=True, dashes=False, data=codesByArticle)\n",
    "ax.set(xlabel='Computational Notebooks Coded', ylabel='Total Unique Codes', title='Code Set Growth')\n",
    "plt.show()"
   ]
  },
  {
   "cell_type": "markdown",
   "metadata": {},
   "source": [
    "Map codes back to the article where they were introduced to the code set."
   ]
  },
  {
   "cell_type": "code",
   "execution_count": 13,
   "metadata": {
    "scrolled": true
   },
   "outputs": [
    {
     "data": {
      "text/markdown": [
       "1. **california-ccscore-analysis**: export results, group by single column, change column data type, trim by date range, create a crosstab, calculate percentage difference, calculate z-score, repetitive code, inspect table schema, calculate difference, sort table, count number of rows, count value frequency, format table display, outer join tables, calculate mean, drop duplicate rows based on values, read as tabular data, split, compute, and merge, subset columns, visualize data, peek at data, trim by quantitative threshold"
      ],
      "text/plain": [
       "<IPython.core.display.Markdown object>"
      ]
     },
     "metadata": {},
     "output_type": "display_data"
    },
    {
     "data": {
      "text/markdown": [
       "2. **2019-04-democratic-candidate-codonors**: trim by contains value, group by multiple columns, self join table, canonicalize column names, calculate ratio, count unique values in column, strip whitespace, annotate workflow, architect a subroutine, drop duplicate rows based on prior knowledge, use open government data, remove with regular expression, change case, compare different groups along a common metric, sum along dimension, gather table, union tables, create a semi-unique key, export intermediate results, calculate scaled ratio"
      ],
      "text/plain": [
       "<IPython.core.display.Markdown object>"
      ]
     },
     "metadata": {},
     "output_type": "display_data"
    },
    {
     "data": {
      "text/markdown": [
       "3. **california-crop-production-wages-analysis**: construct table manually, architect repeating process, answer a question, wrangle data for graphics, trim by geographic area, inner join tables, adjust for inflation"
      ],
      "text/plain": [
       "<IPython.core.display.Markdown object>"
      ]
     },
     "metadata": {},
     "output_type": "display_data"
    },
    {
     "data": {
      "text/markdown": [
       "4. **census-hard-to-map-analysis**: slice column values, tolerate dirty data"
      ],
      "text/plain": [
       "<IPython.core.display.Markdown object>"
      ]
     },
     "metadata": {},
     "output_type": "display_data"
    },
    {
     "data": {
      "text/markdown": [
       "5. **long-term-care-db**: perform entity resolution manually, fill in na values after an outer join, join with lookup table, use non-public, provided data, encode table identification in row, scrape web for data, aggregate the forest from the trees, refine table, fix data errors manually, drop erroneous rows, construct pivot table"
      ],
      "text/plain": [
       "<IPython.core.display.Markdown object>"
      ]
     },
     "metadata": {},
     "output_type": "display_data"
    },
    {
     "data": {
      "text/markdown": [
       "6. **2018-voter-registration**: show trend over time, calculate a statistic, pull tables out of pdf, create rolling window"
      ],
      "text/plain": [
       "<IPython.core.display.Markdown object>"
      ]
     },
     "metadata": {},
     "output_type": "display_data"
    },
    {
     "data": {
      "text/markdown": [
       "7. **heat_and_humidity**: generate data computationally, cartesian product, compute index number"
      ],
      "text/plain": [
       "<IPython.core.display.Markdown object>"
      ]
     },
     "metadata": {},
     "output_type": "display_data"
    },
    {
     "data": {
      "text/markdown": [
       "8. **2016-11-bellwether-counties**: spread table, get extreme values, use academic data, remove incomplete data"
      ],
      "text/plain": [
       "<IPython.core.display.Markdown object>"
      ]
     },
     "metadata": {},
     "output_type": "display_data"
    },
    {
     "data": {
      "text/markdown": [
       "9. **2018-05-31-crime-and-heat-analysis**: extract property from datetime, combine seemingly disparate datasets"
      ],
      "text/plain": [
       "<IPython.core.display.Markdown object>"
      ]
     },
     "metadata": {},
     "output_type": "display_data"
    },
    {
     "data": {
      "text/markdown": [
       "10. **2016-09-shy-trumpers**: use another news orgs data"
      ],
      "text/plain": [
       "<IPython.core.display.Markdown object>"
      ]
     },
     "metadata": {},
     "output_type": "display_data"
    },
    {
     "data": {
      "text/markdown": [
       "11. **cube_root_law**: wtf, use public data"
      ],
      "text/plain": [
       "<IPython.core.display.Markdown object>"
      ]
     },
     "metadata": {},
     "output_type": "display_data"
    },
    {
     "data": {
      "text/markdown": [
       "12. **2016-04-republican-donor-movements**: explore dynamic network flow, split column on delimiter"
      ],
      "text/plain": [
       "<IPython.core.display.Markdown object>"
      ]
     },
     "metadata": {},
     "output_type": "display_data"
    },
    {
     "data": {
      "text/markdown": [
       "13. **california-h2a-visas-analysis**: geocode addresses, create child table, split and compute, cache results from external service, preserve existing values, temporary joining column, create a unique key, replace na values"
      ],
      "text/plain": [
       "<IPython.core.display.Markdown object>"
      ]
     },
     "metadata": {},
     "output_type": "display_data"
    },
    {
     "data": {
      "text/markdown": [
       "14. **Endangered-Species-Act-Louisiana**: transform vector"
      ],
      "text/plain": [
       "<IPython.core.display.Markdown object>"
      ]
     },
     "metadata": {},
     "output_type": "display_data"
    },
    {
     "data": {
      "text/markdown": [
       "15. **Power_of_Irma**: toggle step on and off, interpret statistical/ml model, fix incorrect calculation, change date format, value replacement, set data confidence threshold, use data from colleague, outlier detection, use previously cleaned data"
      ],
      "text/plain": [
       "<IPython.core.display.Markdown object>"
      ]
     },
     "metadata": {},
     "output_type": "display_data"
    },
    {
     "data": {
      "text/markdown": [
       "16. **wikipedia-rankings**: explain variance, collect raw data"
      ],
      "text/plain": [
       "<IPython.core.display.Markdown object>"
      ]
     },
     "metadata": {},
     "output_type": "display_data"
    },
    {
     "data": {
      "text/markdown": [
       "17. **babyname_politics**: assign ranks, break ties, round floating point, check results of previous operation, concatenate columns into key, data loss from aggregation, join aggregate, resort after merge, get unique values"
      ],
      "text/plain": [
       "<IPython.core.display.Markdown object>"
      ]
     },
     "metadata": {},
     "output_type": "display_data"
    },
    {
     "data": {
      "text/markdown": [
       "18. **2015-11-refugees-in-the-united-states**: make an incorrect conclusion, designate column as primary key, test for equality"
      ],
      "text/plain": [
       "<IPython.core.display.Markdown object>"
      ]
     },
     "metadata": {},
     "output_type": "display_data"
    },
    {
     "data": {
      "text/markdown": [
       "19. **employment-discrimination**: combine entities by string matching, align table columns for consolidation, concatenate files together, merge tables to create pivot table"
      ],
      "text/plain": [
       "<IPython.core.display.Markdown object>"
      ]
     },
     "metadata": {},
     "output_type": "display_data"
    },
    {
     "data": {
      "text/markdown": [
       "20. **bechdel**: calculate median"
      ],
      "text/plain": [
       "<IPython.core.display.Markdown object>"
      ]
     },
     "metadata": {},
     "output_type": "display_data"
    },
    {
     "data": {
      "text/markdown": [
       "21. **bob-ross**: whiten matrix"
      ],
      "text/plain": [
       "<IPython.core.display.Markdown object>"
      ]
     },
     "metadata": {},
     "output_type": "display_data"
    },
    {
     "data": {
      "text/markdown": [
       "22. **nyc-trips**: full join tables"
      ],
      "text/plain": [
       "<IPython.core.display.Markdown object>"
      ]
     },
     "metadata": {},
     "output_type": "display_data"
    },
    {
     "data": {
      "text/markdown": [
       "23. **work-from-home**: copy table schema, translate entity names manually, data too large for repo, create flag"
      ],
      "text/plain": [
       "<IPython.core.display.Markdown object>"
      ]
     },
     "metadata": {},
     "output_type": "display_data"
    },
    {
     "data": {
      "text/markdown": [
       "24. **buster-posey-mvp**: "
      ],
      "text/plain": [
       "<IPython.core.display.Markdown object>"
      ]
     },
     "metadata": {},
     "output_type": "display_data"
    },
    {
     "data": {
      "text/markdown": [
       "25. **verge-uber-launch-dates**: "
      ],
      "text/plain": [
       "<IPython.core.display.Markdown object>"
      ]
     },
     "metadata": {},
     "output_type": "display_data"
    },
    {
     "data": {
      "text/markdown": [
       "26. **vox-central-line-infections**: correct bad formatting, report rows with column number discrepancies, sort table rows"
      ],
      "text/plain": [
       "<IPython.core.display.Markdown object>"
      ]
     },
     "metadata": {},
     "output_type": "display_data"
    },
    {
     "data": {
      "text/markdown": [
       "27. **prison-admissions**: "
      ],
      "text/plain": [
       "<IPython.core.display.Markdown object>"
      ]
     },
     "metadata": {},
     "output_type": "display_data"
    },
    {
     "data": {
      "text/markdown": [
       "28. **school-star-ratings-2018**: display rows with missing values, pad column values, reconcile primary keys between tables"
      ],
      "text/plain": [
       "<IPython.core.display.Markdown object>"
      ]
     },
     "metadata": {},
     "output_type": "display_data"
    },
    {
     "data": {
      "text/markdown": [
       "29. **electric-car-charging-points**: encode redundant information, define edge weights, find nearest neighbours in the network, create edge"
      ],
      "text/plain": [
       "<IPython.core.display.Markdown object>"
      ]
     },
     "metadata": {},
     "output_type": "display_data"
    },
    {
     "data": {
      "text/markdown": [
       "30. **internal-migration-london**: "
      ],
      "text/plain": [
       "<IPython.core.display.Markdown object>"
      ]
     },
     "metadata": {},
     "output_type": "display_data"
    },
    {
     "data": {
      "text/markdown": [
       "31. **midwife-led-units**: test different computations for equality, freedom of information data"
      ],
      "text/plain": [
       "<IPython.core.display.Markdown object>"
      ]
     },
     "metadata": {},
     "output_type": "display_data"
    },
    {
     "data": {
      "text/markdown": [
       "32. **librarians**: "
      ],
      "text/plain": [
       "<IPython.core.display.Markdown object>"
      ]
     },
     "metadata": {},
     "output_type": "display_data"
    },
    {
     "data": {
      "text/markdown": [
       "33. **federal_employees_trump_2017**: resolve to arbitrary entity name among choices"
      ],
      "text/plain": [
       "<IPython.core.display.Markdown object>"
      ]
     },
     "metadata": {},
     "output_type": "display_data"
    },
    {
     "data": {
      "text/markdown": [
       "34. **2018-voter-registration**: "
      ],
      "text/plain": [
       "<IPython.core.display.Markdown object>"
      ]
     },
     "metadata": {},
     "output_type": "display_data"
    },
    {
     "data": {
      "text/markdown": [
       "35. **2019-ems-analysis**: combine data and geography"
      ],
      "text/plain": [
       "<IPython.core.display.Markdown object>"
      ]
     },
     "metadata": {},
     "output_type": "display_data"
    },
    {
     "data": {
      "text/markdown": [
       "36. **auditData**: combine columns"
      ],
      "text/plain": [
       "<IPython.core.display.Markdown object>"
      ]
     },
     "metadata": {},
     "output_type": "display_data"
    },
    {
     "data": {
      "text/markdown": [
       "37. **lending-club**: "
      ],
      "text/plain": [
       "<IPython.core.display.Markdown object>"
      ]
     },
     "metadata": {},
     "output_type": "display_data"
    },
    {
     "data": {
      "text/markdown": [
       "38. **skatemusic**: "
      ],
      "text/plain": [
       "<IPython.core.display.Markdown object>"
      ]
     },
     "metadata": {},
     "output_type": "display_data"
    },
    {
     "data": {
      "text/markdown": [
       "39. **201901-hospitalquality**: "
      ],
      "text/plain": [
       "<IPython.core.display.Markdown object>"
      ]
     },
     "metadata": {},
     "output_type": "display_data"
    },
    {
     "data": {
      "text/markdown": [
       "40. **general-election-2015-classification-tree**: wrangle data for model, check for nas"
      ],
      "text/plain": [
       "<IPython.core.display.Markdown object>"
      ]
     },
     "metadata": {},
     "output_type": "display_data"
    },
    {
     "data": {
      "text/markdown": [
       "41. **201901-achievementgap**: bin values, query database"
      ],
      "text/plain": [
       "<IPython.core.display.Markdown object>"
      ]
     },
     "metadata": {},
     "output_type": "display_data"
    },
    {
     "data": {
      "text/markdown": [
       "42. **school-choice**: "
      ],
      "text/plain": [
       "<IPython.core.display.Markdown object>"
      ]
     },
     "metadata": {},
     "output_type": "display_data"
    },
    {
     "data": {
      "text/markdown": [
       "43. **swana-population-map**: "
      ],
      "text/plain": [
       "<IPython.core.display.Markdown object>"
      ]
     },
     "metadata": {},
     "output_type": "display_data"
    }
   ],
   "source": [
    "for i, row in codesByArticle.iterrows():\n",
    "    display(Markdown('{}. **{}**: {}'.format(i + 1, row.article, row['new codes'])))"
   ]
  }
 ],
 "metadata": {
  "kernelspec": {
   "display_name": "Python 3",
   "language": "python",
   "name": "python3"
  },
  "language_info": {
   "codemirror_mode": {
    "name": "ipython",
    "version": 3
   },
   "file_extension": ".py",
   "mimetype": "text/x-python",
   "name": "python",
   "nbconvert_exporter": "python",
   "pygments_lexer": "ipython3",
   "version": "3.7.3"
  },
  "toc": {
   "base_numbering": 1,
   "nav_menu": {},
   "number_sections": true,
   "sideBar": true,
   "skip_h1_title": false,
   "title_cell": "Table of Contents",
   "title_sidebar": "Contents",
   "toc_cell": false,
   "toc_position": {},
   "toc_section_display": true,
   "toc_window_display": false
  }
 },
 "nbformat": 4,
 "nbformat_minor": 2
}

{
 "cells": [
  {
   "cell_type": "markdown",
   "metadata": {},
   "source": [
    "# Analysis Summary\n",
    "\n",
    "This notebook provides answers to questions about the open-coding analysis process itself."
   ]
  },
  {
   "cell_type": "code",
   "execution_count": 1,
   "metadata": {},
   "outputs": [
    {
     "data": {
      "application/javascript": [
       "IPython.notebook.set_autosave_interval(0)"
      ]
     },
     "metadata": {},
     "output_type": "display_data"
    },
    {
     "name": "stdout",
     "output_type": "stream",
     "text": [
      "Autosave disabled\n"
     ]
    }
   ],
   "source": [
    "import pandas as pd\n",
    "import seaborn as sns\n",
    "import matplotlib.pyplot as plt\n",
    "import re\n",
    "from IPython.display import display, Markdown\n",
    "from lib.util import getCodes\n",
    "\n",
    "%autosave 0"
   ]
  },
  {
   "cell_type": "markdown",
   "metadata": {},
   "source": [
    "Import all codes from the open coding process"
   ]
  },
  {
   "cell_type": "code",
   "execution_count": 2,
   "metadata": {},
   "outputs": [
    {
     "name": "stdout",
     "output_type": "stream",
     "text": [
      "CPU times: user 49.2 s, sys: 100 ms, total: 49.3 s\n",
      "Wall time: 49.7 s\n"
     ]
    }
   ],
   "source": [
    "%%time\n",
    "codes = getCodes()"
   ]
  },
  {
   "cell_type": "markdown",
   "metadata": {},
   "source": [
    "Parse works cited section of the `README.md` document for more analysis information."
   ]
  },
  {
   "cell_type": "code",
   "execution_count": 127,
   "metadata": {},
   "outputs": [
    {
     "data": {
      "text/html": [
       "<div>\n",
       "<style scoped>\n",
       "    .dataframe tbody tr th:only-of-type {\n",
       "        vertical-align: middle;\n",
       "    }\n",
       "\n",
       "    .dataframe tbody tr th {\n",
       "        vertical-align: top;\n",
       "    }\n",
       "\n",
       "    .dataframe thead th {\n",
       "        text-align: right;\n",
       "    }\n",
       "</style>\n",
       "<table border=\"1\" class=\"dataframe\">\n",
       "  <thead>\n",
       "    <tr style=\"text-align: right;\">\n",
       "      <th></th>\n",
       "      <th>journalist</th>\n",
       "      <th>year</th>\n",
       "      <th>month</th>\n",
       "      <th>date</th>\n",
       "      <th>article</th>\n",
       "      <th>organization</th>\n",
       "      <th>path</th>\n",
       "    </tr>\n",
       "  </thead>\n",
       "  <tbody>\n",
       "    <tr>\n",
       "      <th>0</th>\n",
       "      <td>Aldhous, Peter</td>\n",
       "      <td>2016</td>\n",
       "      <td>September</td>\n",
       "      <td>16</td>\n",
       "      <td>\"Shy Trumpers\" polling analysis.</td>\n",
       "      <td>BuzzFeed News</td>\n",
       "      <td>2016-09-shy-trumpers</td>\n",
       "    </tr>\n",
       "    <tr>\n",
       "      <th>1</th>\n",
       "      <td>Arthur, Rob</td>\n",
       "      <td>2015</td>\n",
       "      <td>July</td>\n",
       "      <td>30</td>\n",
       "      <td>Buster Posey MVP.</td>\n",
       "      <td>FiveThirtyEight</td>\n",
       "      <td>buster-posey-mvp</td>\n",
       "    </tr>\n",
       "    <tr>\n",
       "      <th>2</th>\n",
       "      <td>Bi, Frank</td>\n",
       "      <td>2016</td>\n",
       "      <td>Jan</td>\n",
       "      <td>13</td>\n",
       "      <td>Uber launch cities and date.</td>\n",
       "      <td>Vox</td>\n",
       "      <td>verge-uber-launch-dates</td>\n",
       "    </tr>\n",
       "    <tr>\n",
       "      <th>3</th>\n",
       "      <td>Bradshaw, Paul</td>\n",
       "      <td>2019</td>\n",
       "      <td>April</td>\n",
       "      <td>6</td>\n",
       "      <td>Lack of electric car charging points 'putting ...</td>\n",
       "      <td>BBC</td>\n",
       "      <td>electric-car-charging-points</td>\n",
       "    </tr>\n",
       "    <tr>\n",
       "      <th>4</th>\n",
       "      <td>Bradshaw, Paul</td>\n",
       "      <td>2019</td>\n",
       "      <td>March</td>\n",
       "      <td>8</td>\n",
       "      <td>Birmingham remains top destination for Londoners.</td>\n",
       "      <td>BBC</td>\n",
       "      <td>internal-migration-london</td>\n",
       "    </tr>\n",
       "  </tbody>\n",
       "</table>\n",
       "</div>"
      ],
      "text/plain": [
       "       journalist  year      month date  \\\n",
       "0  Aldhous, Peter  2016  September   16   \n",
       "1     Arthur, Rob  2015       July   30   \n",
       "2       Bi, Frank  2016        Jan   13   \n",
       "3  Bradshaw, Paul  2019      April    6   \n",
       "4  Bradshaw, Paul  2019      March    8   \n",
       "\n",
       "                                             article     organization  \\\n",
       "0                   \"Shy Trumpers\" polling analysis.    BuzzFeed News   \n",
       "1                                  Buster Posey MVP.  FiveThirtyEight   \n",
       "2                       Uber launch cities and date.              Vox   \n",
       "3  Lack of electric car charging points 'putting ...              BBC   \n",
       "4  Birmingham remains top destination for Londoners.              BBC   \n",
       "\n",
       "                           path  \n",
       "0          2016-09-shy-trumpers  \n",
       "1              buster-posey-mvp  \n",
       "2       verge-uber-launch-dates  \n",
       "3  electric-car-charging-points  \n",
       "4     internal-migration-london  "
      ]
     },
     "execution_count": 127,
     "metadata": {},
     "output_type": "execute_result"
    }
   ],
   "source": [
    "# See regular expression at regexr.com/4htcn\n",
    "regxp = r'\\n([^\\n\\.\\#]+)\\.\\s\\((\\d{4}),\\s(\\w+)\\s(\\d+)\\)\\.\\s([^\\.]+\\.)\\s\\*([^\\*]+)\\*\\.\\sRetrieved from https:\\/\\/(?:[^\\/]+\\/){2}(.*)\\n'\n",
    "with open('README.md') as readme:\n",
    "    content = readme.read()\n",
    "\n",
    "citations = re.findall(regxp,content)\n",
    "citations = pd.DataFrame(citations, columns=['journalist', 'year', 'month', 'date', 'article', 'organization', 'path'])\n",
    "\n",
    "citations.replace(to_replace=r'data/tree/master/|data-projects/tree/master/|2016/05/|st-methods/tree/master/', \n",
    "                  value='', \n",
    "                  regex=True, \n",
    "                  inplace=True)\n",
    "\n",
    "citations.head()"
   ]
  },
  {
   "cell_type": "markdown",
   "metadata": {},
   "source": [
    "## Analysis by the numbers"
   ]
  },
  {
   "cell_type": "code",
   "execution_count": 128,
   "metadata": {},
   "outputs": [
    {
     "data": {
      "text/html": [
       "<div>\n",
       "<style scoped>\n",
       "    .dataframe tbody tr th:only-of-type {\n",
       "        vertical-align: middle;\n",
       "    }\n",
       "\n",
       "    .dataframe tbody tr th {\n",
       "        vertical-align: top;\n",
       "    }\n",
       "\n",
       "    .dataframe thead th {\n",
       "        text-align: right;\n",
       "    }\n",
       "</style>\n",
       "<table border=\"1\" class=\"dataframe\">\n",
       "  <thead>\n",
       "    <tr style=\"text-align: right;\">\n",
       "      <th></th>\n",
       "      <th>count</th>\n",
       "    </tr>\n",
       "  </thead>\n",
       "  <tbody>\n",
       "    <tr>\n",
       "      <th>journalist</th>\n",
       "      <td>30</td>\n",
       "    </tr>\n",
       "    <tr>\n",
       "      <th>organization</th>\n",
       "      <td>25</td>\n",
       "    </tr>\n",
       "    <tr>\n",
       "      <th>article</th>\n",
       "      <td>46</td>\n",
       "    </tr>\n",
       "    <tr>\n",
       "      <th>codes</th>\n",
       "      <td>148</td>\n",
       "    </tr>\n",
       "    <tr>\n",
       "      <th>repos</th>\n",
       "      <td>1295</td>\n",
       "    </tr>\n",
       "    <tr>\n",
       "      <th>relevant repos</th>\n",
       "      <td>225</td>\n",
       "    </tr>\n",
       "    <tr>\n",
       "      <th>total organizations</th>\n",
       "      <td>50</td>\n",
       "    </tr>\n",
       "  </tbody>\n",
       "</table>\n",
       "</div>"
      ],
      "text/plain": [
       "                    count\n",
       "journalist             30\n",
       "organization           25\n",
       "article                46\n",
       "codes                 148\n",
       "repos                1295\n",
       "relevant repos        225\n",
       "total organizations    50"
      ]
     },
     "execution_count": 128,
     "metadata": {},
     "output_type": "execute_result"
    }
   ],
   "source": [
    "byTheNumbers = citations.loc[:,['journalist', 'organization', 'article']].describe().loc['unique',:].to_frame('count')\n",
    "byTheNumbers = byTheNumbers.append(pd.DataFrame({\n",
    "        'count': [ codes.code.nunique(), \n",
    "                   repos.shape[0],\n",
    "                   keepers.shape[0],\n",
    "                   keepers.org.nunique(),\n",
    "                 ],\n",
    "    }, index=['codes', 'repos', 'relevant repos', 'total organizations']))\n",
    "\n",
    "byTheNumbers"
   ]
  },
  {
   "cell_type": "markdown",
   "metadata": {},
   "source": [
    "## Progress towards convergence\n",
    "\n",
    "The works cited page of analyzed computational notebooks serves as a list of coded notebooks, but it doesn't preserve the order in which they were coded. The `reposIncluded` list has lists each repo in reverse chronological order."
   ]
  },
  {
   "cell_type": "code",
   "execution_count": 129,
   "metadata": {
    "code_folding": []
   },
   "outputs": [],
   "source": [
    "pathsIncluded = [\n",
    "    'swana-population-map',\n",
    "    '1805-regionen im fokus des US-praesidenten',\n",
    "    'school-choice',\n",
    "    '201901-achievementgap',\n",
    "    'general-election-2015-classification-tree',\n",
    "    '201901-hospitalquality',\n",
    "    'awb-notebook',\n",
    "    'skatemusic',\n",
    "    'new-york-schools-assessment',\n",
    "    'lending-club',\n",
    "    'auditData',\n",
    "    '2019-ems-analysis',\n",
    "    '2018-voter-registration',\n",
    "    'federal_employees_trump_2017', \n",
    "    'infrastructure-jobs',\n",
    "    'librarians',\n",
    "    'midwife-led-units',\n",
    "    'internal-migration-london',\n",
    "    'electric-car-charging-points',\n",
    "    'school-star-ratings-2018',\n",
    "    'prison-admissions',\n",
    "    'vox-central-line-infections',\n",
    "    'verge-uber-launch-dates',\n",
    "    'buster-posey-mvp',\n",
    "    'work-from-home',\n",
    "    'nyc-trips',\n",
    "    'bob-ross',\n",
    "    'bechdel',\n",
    "    'employment-discrimination',\n",
    "    '2015-11-refugees-in-the-united-states',\n",
    "    'babyname_politics',\n",
    "    'wikipedia-rankings',\n",
    "    'Power_of_Irma',\n",
    "    'Endangered-Species-Act-Louisiana',\n",
    "    'california-h2a-visas-analysis',\n",
    "    '2016-04-republican-donor-movements',\n",
    "    'the-cube-root-law',\n",
    "    '2016-09-shy-trumpers',\n",
    "    '2018-05-31-crime-and-heat-analysis',\n",
    "    '2016-11-bellwether-counties',\n",
    "    'heat-index',\n",
    "    '2018-voter-registration',\n",
    "    'long-term-care-db',\n",
    "    'census-hard-to-map-analysis',\n",
    "    'california-crop-production-wages-analysis',\n",
    "    'california-ccscore-analysis',\n",
    "    '2019-04-democratic-candidate-codonors',\n",
    "]\n",
    "\n",
    "codingOrder = pd.DataFrame({'article': pathsIncluded[::-1] }).reset_index().rename(columns={'index': 'coding order'})"
   ]
  },
  {
   "cell_type": "markdown",
   "metadata": {},
   "source": [
    "### Sanity Check\n",
    "\n",
    "Make sure that I've manually added all the repos to `reposIncluded` that are listed in `README.md`."
   ]
  },
  {
   "cell_type": "code",
   "execution_count": 130,
   "metadata": {},
   "outputs": [
    {
     "data": {
      "text/markdown": [
       "All paths in `citations` are also in `pathsIncluded`\n"
      ],
      "text/plain": [
       "<IPython.core.display.Markdown object>"
      ]
     },
     "metadata": {},
     "output_type": "display_data"
    },
    {
     "data": {
      "text/markdown": [
       "All paths in `pathsIncluded` are also in `citations`\n"
      ],
      "text/plain": [
       "<IPython.core.display.Markdown object>"
      ]
     },
     "metadata": {},
     "output_type": "display_data"
    }
   ],
   "source": [
    "citMinusPath = set(citations.path.unique()).difference(set(pathsIncluded))\n",
    "pathMinusCit = set(pathsIncluded).difference(set(citations.path.unique()))\n",
    "\n",
    "if len(citMinusPath) > 0:\n",
    "    display(Markdown('In `citations` but not in `pathsIncluded`: {}'.format(', '.join(list(citMinusPath)))))\n",
    "else:\n",
    "    display(Markdown('All paths in `citations` are also in `pathsIncluded`\\n'))\n",
    "\n",
    "if len(pathMinusCit) > 0:\n",
    "    display(Markdown('In `pathsIncluded` but not in `citations`: {}'.format(', '.join(list(pathMinusCit)))))\n",
    "else:\n",
    "    display(Markdown('All paths in `pathsIncluded` are also in `citations`\\n'))"
   ]
  },
  {
   "cell_type": "markdown",
   "metadata": {},
   "source": [
    "Also get the list of data journalism repos identified in `find_notebooks.ipynb`. "
   ]
  },
  {
   "cell_type": "code",
   "execution_count": 131,
   "metadata": {},
   "outputs": [],
   "source": [
    "repos = pd.read_csv('potential_notebooks.csv')\n",
    "keepers = repos[repos.is_keeper == True]"
   ]
  },
  {
   "cell_type": "markdown",
   "metadata": {},
   "source": [
    "Create a data frame of codes grouped by article."
   ]
  },
  {
   "cell_type": "code",
   "execution_count": 132,
   "metadata": {},
   "outputs": [
    {
     "data": {
      "text/html": [
       "<div>\n",
       "<style scoped>\n",
       "    .dataframe tbody tr th:only-of-type {\n",
       "        vertical-align: middle;\n",
       "    }\n",
       "\n",
       "    .dataframe tbody tr th {\n",
       "        vertical-align: top;\n",
       "    }\n",
       "\n",
       "    .dataframe thead th {\n",
       "        text-align: right;\n",
       "    }\n",
       "</style>\n",
       "<table border=\"1\" class=\"dataframe\">\n",
       "  <thead>\n",
       "    <tr style=\"text-align: right;\">\n",
       "      <th></th>\n",
       "      <th>index</th>\n",
       "      <th>article</th>\n",
       "      <th>codes</th>\n",
       "      <th>coding order</th>\n",
       "      <th>cumulative count</th>\n",
       "      <th>new codes</th>\n",
       "    </tr>\n",
       "  </thead>\n",
       "  <tbody>\n",
       "    <tr>\n",
       "      <th>0</th>\n",
       "      <td>8</td>\n",
       "      <td>2019-04-democratic-candidate-codonors</td>\n",
       "      <td>[use open government data, read as tabular dat...</td>\n",
       "      <td>0</td>\n",
       "      <td>28</td>\n",
       "      <td>subset columns, canonicalize column names, use...</td>\n",
       "    </tr>\n",
       "    <tr>\n",
       "      <th>1</th>\n",
       "      <td>19</td>\n",
       "      <td>california-crop-production-wages-analysis</td>\n",
       "      <td>[use open government data, format table displa...</td>\n",
       "      <td>2</td>\n",
       "      <td>42</td>\n",
       "      <td>trim by geographic area, wrangle data for grap...</td>\n",
       "    </tr>\n",
       "    <tr>\n",
       "      <th>2</th>\n",
       "      <td>21</td>\n",
       "      <td>census-hard-to-map-analysis</td>\n",
       "      <td>[wrangle data for graphics, use open governmen...</td>\n",
       "      <td>3</td>\n",
       "      <td>44</td>\n",
       "      <td>tolerate dirty data, slice column values</td>\n",
       "    </tr>\n",
       "    <tr>\n",
       "      <th>3</th>\n",
       "      <td>30</td>\n",
       "      <td>long-term-care-db</td>\n",
       "      <td>[count value frequency, calculate scaled ratio...</td>\n",
       "      <td>4</td>\n",
       "      <td>56</td>\n",
       "      <td>construct pivot table, perform entity resoluti...</td>\n",
       "    </tr>\n",
       "    <tr>\n",
       "      <th>4</th>\n",
       "      <td>6</td>\n",
       "      <td>2018-voter-registration</td>\n",
       "      <td>[pull tables out of pdf, annotate workflow, ch...</td>\n",
       "      <td>5</td>\n",
       "      <td>60</td>\n",
       "      <td>calculate a statistic, create rolling window, ...</td>\n",
       "    </tr>\n",
       "    <tr>\n",
       "      <th>5</th>\n",
       "      <td>26</td>\n",
       "      <td>heat-index</td>\n",
       "      <td>[wrangle data for graphics, compute index numb...</td>\n",
       "      <td>6</td>\n",
       "      <td>63</td>\n",
       "      <td>cartesian product, generate data computational...</td>\n",
       "    </tr>\n",
       "    <tr>\n",
       "      <th>6</th>\n",
       "      <td>4</td>\n",
       "      <td>2016-11-bellwether-counties</td>\n",
       "      <td>[use academic data, remove incomplete data, un...</td>\n",
       "      <td>7</td>\n",
       "      <td>68</td>\n",
       "      <td>use academic data, remove incomplete data, get...</td>\n",
       "    </tr>\n",
       "    <tr>\n",
       "      <th>7</th>\n",
       "      <td>5</td>\n",
       "      <td>2018-05-31-crime-and-heat-analysis</td>\n",
       "      <td>[combine seemingly disparate datasets, use ope...</td>\n",
       "      <td>8</td>\n",
       "      <td>71</td>\n",
       "      <td>combine seemingly disparate datasets, extract ...</td>\n",
       "    </tr>\n",
       "    <tr>\n",
       "      <th>8</th>\n",
       "      <td>3</td>\n",
       "      <td>2016-09-shy-trumpers</td>\n",
       "      <td>[answer a question, read as tabular data, use ...</td>\n",
       "      <td>9</td>\n",
       "      <td>72</td>\n",
       "      <td>use another news orgs data</td>\n",
       "    </tr>\n",
       "    <tr>\n",
       "      <th>9</th>\n",
       "      <td>39</td>\n",
       "      <td>the-cube-root-law</td>\n",
       "      <td>[read as tabular data, subset columns, change ...</td>\n",
       "      <td>10</td>\n",
       "      <td>74</td>\n",
       "      <td>wtf, use public data</td>\n",
       "    </tr>\n",
       "    <tr>\n",
       "      <th>10</th>\n",
       "      <td>2</td>\n",
       "      <td>2016-04-republican-donor-movements</td>\n",
       "      <td>[explore dynamic network flow, canonicalize co...</td>\n",
       "      <td>11</td>\n",
       "      <td>77</td>\n",
       "      <td>split column on delimiter, explore dynamic net...</td>\n",
       "    </tr>\n",
       "    <tr>\n",
       "      <th>11</th>\n",
       "      <td>20</td>\n",
       "      <td>california-h2a-visas-analysis</td>\n",
       "      <td>[use open government data, canonicalize column...</td>\n",
       "      <td>12</td>\n",
       "      <td>86</td>\n",
       "      <td>preserve existing values, temporary joining co...</td>\n",
       "    </tr>\n",
       "    <tr>\n",
       "      <th>12</th>\n",
       "      <td>12</td>\n",
       "      <td>Endangered-Species-Act-Louisiana</td>\n",
       "      <td>[wrangle data for graphics, peek at data, cano...</td>\n",
       "      <td>13</td>\n",
       "      <td>87</td>\n",
       "      <td>transform vector</td>\n",
       "    </tr>\n",
       "    <tr>\n",
       "      <th>13</th>\n",
       "      <td>13</td>\n",
       "      <td>Power_of_Irma</td>\n",
       "      <td>[count unique values in column, group by singl...</td>\n",
       "      <td>14</td>\n",
       "      <td>96</td>\n",
       "      <td>value replacement, fix incorrect calculation, ...</td>\n",
       "    </tr>\n",
       "    <tr>\n",
       "      <th>14</th>\n",
       "      <td>42</td>\n",
       "      <td>wikipedia-rankings</td>\n",
       "      <td>[collect raw data, read as tabular data, expor...</td>\n",
       "      <td>15</td>\n",
       "      <td>99</td>\n",
       "      <td>collect raw data, explain variance, calculate ...</td>\n",
       "    </tr>\n",
       "    <tr>\n",
       "      <th>15</th>\n",
       "      <td>15</td>\n",
       "      <td>babyname_politics</td>\n",
       "      <td>[combine seemingly disparate datasets, union t...</td>\n",
       "      <td>16</td>\n",
       "      <td>108</td>\n",
       "      <td>concatenate columns into key, get unique value...</td>\n",
       "    </tr>\n",
       "    <tr>\n",
       "      <th>16</th>\n",
       "      <td>1</td>\n",
       "      <td>2015-11-refugees-in-the-united-states</td>\n",
       "      <td>[use open government data, read as tabular dat...</td>\n",
       "      <td>17</td>\n",
       "      <td>111</td>\n",
       "      <td>designate column as primary key, make an incor...</td>\n",
       "    </tr>\n",
       "    <tr>\n",
       "      <th>17</th>\n",
       "      <td>23</td>\n",
       "      <td>employment-discrimination</td>\n",
       "      <td>[change column data type, inspect table schema...</td>\n",
       "      <td>18</td>\n",
       "      <td>116</td>\n",
       "      <td>concatenate files together, align table column...</td>\n",
       "    </tr>\n",
       "    <tr>\n",
       "      <th>18</th>\n",
       "      <td>16</td>\n",
       "      <td>bechdel</td>\n",
       "      <td>[trim by date range, calculate difference, cal...</td>\n",
       "      <td>19</td>\n",
       "      <td>117</td>\n",
       "      <td>calculate median</td>\n",
       "    </tr>\n",
       "    <tr>\n",
       "      <th>19</th>\n",
       "      <td>17</td>\n",
       "      <td>bob-ross</td>\n",
       "      <td>[collect raw data, subset columns, trim by qua...</td>\n",
       "      <td>20</td>\n",
       "      <td>118</td>\n",
       "      <td>whiten matrix</td>\n",
       "    </tr>\n",
       "    <tr>\n",
       "      <th>20</th>\n",
       "      <td>33</td>\n",
       "      <td>nyc-trips</td>\n",
       "      <td>[repetitive code, extract property from dateti...</td>\n",
       "      <td>21</td>\n",
       "      <td>119</td>\n",
       "      <td>full join tables</td>\n",
       "    </tr>\n",
       "    <tr>\n",
       "      <th>21</th>\n",
       "      <td>43</td>\n",
       "      <td>work-from-home</td>\n",
       "      <td>[data too large for repo, read as tabular data...</td>\n",
       "      <td>22</td>\n",
       "      <td>123</td>\n",
       "      <td>create flag, translate entity names manually, ...</td>\n",
       "    </tr>\n",
       "    <tr>\n",
       "      <th>22</th>\n",
       "      <td>18</td>\n",
       "      <td>buster-posey-mvp</td>\n",
       "      <td>[collect raw data, calculate difference, repet...</td>\n",
       "      <td>23</td>\n",
       "      <td>123</td>\n",
       "      <td></td>\n",
       "    </tr>\n",
       "    <tr>\n",
       "      <th>23</th>\n",
       "      <td>40</td>\n",
       "      <td>verge-uber-launch-dates</td>\n",
       "      <td>[use another news orgs data, scrape web for da...</td>\n",
       "      <td>24</td>\n",
       "      <td>123</td>\n",
       "      <td></td>\n",
       "    </tr>\n",
       "    <tr>\n",
       "      <th>24</th>\n",
       "      <td>41</td>\n",
       "      <td>vox-central-line-infections</td>\n",
       "      <td>[correct bad formatting, subset columns, sort ...</td>\n",
       "      <td>25</td>\n",
       "      <td>126</td>\n",
       "      <td>correct bad formatting, sort table rows, repor...</td>\n",
       "    </tr>\n",
       "    <tr>\n",
       "      <th>25</th>\n",
       "      <td>34</td>\n",
       "      <td>prison-admissions</td>\n",
       "      <td>[subset columns, union tables, remove with reg...</td>\n",
       "      <td>26</td>\n",
       "      <td>126</td>\n",
       "      <td></td>\n",
       "    </tr>\n",
       "    <tr>\n",
       "      <th>26</th>\n",
       "      <td>36</td>\n",
       "      <td>school-star-ratings-2018</td>\n",
       "      <td>[canonicalize column names, calculate a statis...</td>\n",
       "      <td>27</td>\n",
       "      <td>129</td>\n",
       "      <td>pad column values, display rows with missing v...</td>\n",
       "    </tr>\n",
       "    <tr>\n",
       "      <th>27</th>\n",
       "      <td>22</td>\n",
       "      <td>electric-car-charging-points</td>\n",
       "      <td>[find nearest neighbours in the network, repet...</td>\n",
       "      <td>28</td>\n",
       "      <td>133</td>\n",
       "      <td>define edge weights, create edge, find nearest...</td>\n",
       "    </tr>\n",
       "    <tr>\n",
       "      <th>28</th>\n",
       "      <td>27</td>\n",
       "      <td>internal-migration-london</td>\n",
       "      <td>[generate data computationally, cartesian prod...</td>\n",
       "      <td>29</td>\n",
       "      <td>133</td>\n",
       "      <td></td>\n",
       "    </tr>\n",
       "    <tr>\n",
       "      <th>29</th>\n",
       "      <td>31</td>\n",
       "      <td>midwife-led-units</td>\n",
       "      <td>[inspect table schema, annotate workflow, free...</td>\n",
       "      <td>30</td>\n",
       "      <td>135</td>\n",
       "      <td>freedom of information data, test different co...</td>\n",
       "    </tr>\n",
       "    <tr>\n",
       "      <th>30</th>\n",
       "      <td>29</td>\n",
       "      <td>librarians</td>\n",
       "      <td>[read as tabular data, canonicalize column nam...</td>\n",
       "      <td>31</td>\n",
       "      <td>135</td>\n",
       "      <td></td>\n",
       "    </tr>\n",
       "    <tr>\n",
       "      <th>31</th>\n",
       "      <td>24</td>\n",
       "      <td>federal_employees_trump_2017</td>\n",
       "      <td>[outer join tables, join with lookup table, re...</td>\n",
       "      <td>33</td>\n",
       "      <td>136</td>\n",
       "      <td>resolve to arbitrary entity name among choices</td>\n",
       "    </tr>\n",
       "    <tr>\n",
       "      <th>32</th>\n",
       "      <td>7</td>\n",
       "      <td>2018-voter-registration</td>\n",
       "      <td>[pull tables out of pdf, annotate workflow, ch...</td>\n",
       "      <td>34</td>\n",
       "      <td>136</td>\n",
       "      <td></td>\n",
       "    </tr>\n",
       "    <tr>\n",
       "      <th>33</th>\n",
       "      <td>9</td>\n",
       "      <td>2019-ems-analysis</td>\n",
       "      <td>[perform entity resolution manually, calculate...</td>\n",
       "      <td>35</td>\n",
       "      <td>137</td>\n",
       "      <td>combine data and geography</td>\n",
       "    </tr>\n",
       "    <tr>\n",
       "      <th>34</th>\n",
       "      <td>14</td>\n",
       "      <td>auditData</td>\n",
       "      <td>[wrangle data for graphics, read as tabular da...</td>\n",
       "      <td>36</td>\n",
       "      <td>138</td>\n",
       "      <td>combine columns</td>\n",
       "    </tr>\n",
       "    <tr>\n",
       "      <th>35</th>\n",
       "      <td>28</td>\n",
       "      <td>lending-club</td>\n",
       "      <td>[outer join tables, calculate ratio, sort tabl...</td>\n",
       "      <td>37</td>\n",
       "      <td>138</td>\n",
       "      <td></td>\n",
       "    </tr>\n",
       "    <tr>\n",
       "      <th>36</th>\n",
       "      <td>32</td>\n",
       "      <td>new-york-schools-assessment</td>\n",
       "      <td>[combine drifting datasets, designate column a...</td>\n",
       "      <td>38</td>\n",
       "      <td>141</td>\n",
       "      <td>backfill missing data, create lookup table, co...</td>\n",
       "    </tr>\n",
       "    <tr>\n",
       "      <th>37</th>\n",
       "      <td>37</td>\n",
       "      <td>skatemusic</td>\n",
       "      <td>[perform entity resolution manually, export re...</td>\n",
       "      <td>39</td>\n",
       "      <td>141</td>\n",
       "      <td></td>\n",
       "    </tr>\n",
       "    <tr>\n",
       "      <th>38</th>\n",
       "      <td>11</td>\n",
       "      <td>201901-hospitalquality</td>\n",
       "      <td>[read as tabular data, perform entity resoluti...</td>\n",
       "      <td>41</td>\n",
       "      <td>141</td>\n",
       "      <td></td>\n",
       "    </tr>\n",
       "    <tr>\n",
       "      <th>39</th>\n",
       "      <td>25</td>\n",
       "      <td>general-election-2015-classification-tree</td>\n",
       "      <td>[interpret statistical/ml model, read as tabul...</td>\n",
       "      <td>42</td>\n",
       "      <td>143</td>\n",
       "      <td>wrangle data for model, check for nas</td>\n",
       "    </tr>\n",
       "    <tr>\n",
       "      <th>40</th>\n",
       "      <td>10</td>\n",
       "      <td>201901-achievementgap</td>\n",
       "      <td>[read as tabular data, replace na values, grou...</td>\n",
       "      <td>43</td>\n",
       "      <td>145</td>\n",
       "      <td>bin values, query database</td>\n",
       "    </tr>\n",
       "    <tr>\n",
       "      <th>41</th>\n",
       "      <td>35</td>\n",
       "      <td>school-choice</td>\n",
       "      <td>[read as tabular data, calculate scaled ratio,...</td>\n",
       "      <td>44</td>\n",
       "      <td>145</td>\n",
       "      <td></td>\n",
       "    </tr>\n",
       "    <tr>\n",
       "      <th>42</th>\n",
       "      <td>0</td>\n",
       "      <td>1805-regionen im fokus des US-praesidenten</td>\n",
       "      <td>[union tables, visualize data, compute an inte...</td>\n",
       "      <td>45</td>\n",
       "      <td>147</td>\n",
       "      <td>concat parallel tables, compute an inter-table...</td>\n",
       "    </tr>\n",
       "    <tr>\n",
       "      <th>43</th>\n",
       "      <td>38</td>\n",
       "      <td>swana-population-map</td>\n",
       "      <td>[wrangle data for graphics, change column data...</td>\n",
       "      <td>46</td>\n",
       "      <td>147</td>\n",
       "      <td></td>\n",
       "    </tr>\n",
       "  </tbody>\n",
       "</table>\n",
       "</div>"
      ],
      "text/plain": [
       "    index                                     article  \\\n",
       "0       8       2019-04-democratic-candidate-codonors   \n",
       "1      19   california-crop-production-wages-analysis   \n",
       "2      21                 census-hard-to-map-analysis   \n",
       "3      30                           long-term-care-db   \n",
       "4       6                     2018-voter-registration   \n",
       "5      26                                  heat-index   \n",
       "6       4                 2016-11-bellwether-counties   \n",
       "7       5          2018-05-31-crime-and-heat-analysis   \n",
       "8       3                        2016-09-shy-trumpers   \n",
       "9      39                           the-cube-root-law   \n",
       "10      2          2016-04-republican-donor-movements   \n",
       "11     20               california-h2a-visas-analysis   \n",
       "12     12            Endangered-Species-Act-Louisiana   \n",
       "13     13                               Power_of_Irma   \n",
       "14     42                          wikipedia-rankings   \n",
       "15     15                           babyname_politics   \n",
       "16      1       2015-11-refugees-in-the-united-states   \n",
       "17     23                   employment-discrimination   \n",
       "18     16                                     bechdel   \n",
       "19     17                                    bob-ross   \n",
       "20     33                                   nyc-trips   \n",
       "21     43                              work-from-home   \n",
       "22     18                            buster-posey-mvp   \n",
       "23     40                     verge-uber-launch-dates   \n",
       "24     41                 vox-central-line-infections   \n",
       "25     34                           prison-admissions   \n",
       "26     36                    school-star-ratings-2018   \n",
       "27     22                electric-car-charging-points   \n",
       "28     27                   internal-migration-london   \n",
       "29     31                           midwife-led-units   \n",
       "30     29                                  librarians   \n",
       "31     24                federal_employees_trump_2017   \n",
       "32      7                     2018-voter-registration   \n",
       "33      9                           2019-ems-analysis   \n",
       "34     14                                   auditData   \n",
       "35     28                                lending-club   \n",
       "36     32                 new-york-schools-assessment   \n",
       "37     37                                  skatemusic   \n",
       "38     11                      201901-hospitalquality   \n",
       "39     25   general-election-2015-classification-tree   \n",
       "40     10                       201901-achievementgap   \n",
       "41     35                               school-choice   \n",
       "42      0  1805-regionen im fokus des US-praesidenten   \n",
       "43     38                        swana-population-map   \n",
       "\n",
       "                                                codes  coding order  \\\n",
       "0   [use open government data, read as tabular dat...             0   \n",
       "1   [use open government data, format table displa...             2   \n",
       "2   [wrangle data for graphics, use open governmen...             3   \n",
       "3   [count value frequency, calculate scaled ratio...             4   \n",
       "4   [pull tables out of pdf, annotate workflow, ch...             5   \n",
       "5   [wrangle data for graphics, compute index numb...             6   \n",
       "6   [use academic data, remove incomplete data, un...             7   \n",
       "7   [combine seemingly disparate datasets, use ope...             8   \n",
       "8   [answer a question, read as tabular data, use ...             9   \n",
       "9   [read as tabular data, subset columns, change ...            10   \n",
       "10  [explore dynamic network flow, canonicalize co...            11   \n",
       "11  [use open government data, canonicalize column...            12   \n",
       "12  [wrangle data for graphics, peek at data, cano...            13   \n",
       "13  [count unique values in column, group by singl...            14   \n",
       "14  [collect raw data, read as tabular data, expor...            15   \n",
       "15  [combine seemingly disparate datasets, union t...            16   \n",
       "16  [use open government data, read as tabular dat...            17   \n",
       "17  [change column data type, inspect table schema...            18   \n",
       "18  [trim by date range, calculate difference, cal...            19   \n",
       "19  [collect raw data, subset columns, trim by qua...            20   \n",
       "20  [repetitive code, extract property from dateti...            21   \n",
       "21  [data too large for repo, read as tabular data...            22   \n",
       "22  [collect raw data, calculate difference, repet...            23   \n",
       "23  [use another news orgs data, scrape web for da...            24   \n",
       "24  [correct bad formatting, subset columns, sort ...            25   \n",
       "25  [subset columns, union tables, remove with reg...            26   \n",
       "26  [canonicalize column names, calculate a statis...            27   \n",
       "27  [find nearest neighbours in the network, repet...            28   \n",
       "28  [generate data computationally, cartesian prod...            29   \n",
       "29  [inspect table schema, annotate workflow, free...            30   \n",
       "30  [read as tabular data, canonicalize column nam...            31   \n",
       "31  [outer join tables, join with lookup table, re...            33   \n",
       "32  [pull tables out of pdf, annotate workflow, ch...            34   \n",
       "33  [perform entity resolution manually, calculate...            35   \n",
       "34  [wrangle data for graphics, read as tabular da...            36   \n",
       "35  [outer join tables, calculate ratio, sort tabl...            37   \n",
       "36  [combine drifting datasets, designate column a...            38   \n",
       "37  [perform entity resolution manually, export re...            39   \n",
       "38  [read as tabular data, perform entity resoluti...            41   \n",
       "39  [interpret statistical/ml model, read as tabul...            42   \n",
       "40  [read as tabular data, replace na values, grou...            43   \n",
       "41  [read as tabular data, calculate scaled ratio,...            44   \n",
       "42  [union tables, visualize data, compute an inte...            45   \n",
       "43  [wrangle data for graphics, change column data...            46   \n",
       "\n",
       "    cumulative count                                          new codes  \n",
       "0                 28  subset columns, canonicalize column names, use...  \n",
       "1                 42  trim by geographic area, wrangle data for grap...  \n",
       "2                 44           tolerate dirty data, slice column values  \n",
       "3                 56  construct pivot table, perform entity resoluti...  \n",
       "4                 60  calculate a statistic, create rolling window, ...  \n",
       "5                 63  cartesian product, generate data computational...  \n",
       "6                 68  use academic data, remove incomplete data, get...  \n",
       "7                 71  combine seemingly disparate datasets, extract ...  \n",
       "8                 72                         use another news orgs data  \n",
       "9                 74                               wtf, use public data  \n",
       "10                77  split column on delimiter, explore dynamic net...  \n",
       "11                86  preserve existing values, temporary joining co...  \n",
       "12                87                                   transform vector  \n",
       "13                96  value replacement, fix incorrect calculation, ...  \n",
       "14                99  collect raw data, explain variance, calculate ...  \n",
       "15               108  concatenate columns into key, get unique value...  \n",
       "16               111  designate column as primary key, make an incor...  \n",
       "17               116  concatenate files together, align table column...  \n",
       "18               117                                   calculate median  \n",
       "19               118                                      whiten matrix  \n",
       "20               119                                   full join tables  \n",
       "21               123  create flag, translate entity names manually, ...  \n",
       "22               123                                                     \n",
       "23               123                                                     \n",
       "24               126  correct bad formatting, sort table rows, repor...  \n",
       "25               126                                                     \n",
       "26               129  pad column values, display rows with missing v...  \n",
       "27               133  define edge weights, create edge, find nearest...  \n",
       "28               133                                                     \n",
       "29               135  freedom of information data, test different co...  \n",
       "30               135                                                     \n",
       "31               136     resolve to arbitrary entity name among choices  \n",
       "32               136                                                     \n",
       "33               137                         combine data and geography  \n",
       "34               138                                    combine columns  \n",
       "35               138                                                     \n",
       "36               141  backfill missing data, create lookup table, co...  \n",
       "37               141                                                     \n",
       "38               141                                                     \n",
       "39               143              wrangle data for model, check for nas  \n",
       "40               145                         bin values, query database  \n",
       "41               145                                                     \n",
       "42               147  concat parallel tables, compute an inter-table...  \n",
       "43               147                                                     "
      ]
     },
     "execution_count": 132,
     "metadata": {},
     "output_type": "execute_result"
    }
   ],
   "source": [
    "codesByArticle = codes.groupby(['article']).code \\\n",
    "    .unique() \\\n",
    "    .to_frame('codes') \\\n",
    "    .reset_index() \\\n",
    "    .merge(codingOrder, on='article') \\\n",
    "    .sort_values('coding order') \\\n",
    "    .reset_index()\n",
    "\n",
    "codesByArticle['cumulative count'] = 0\n",
    "\n",
    "codeset = set()\n",
    "for i, row in codesByArticle.iterrows():\n",
    "    setDiff = set(row.codes).difference(codeset)\n",
    "    codeset = codeset.union(setDiff)\n",
    "    codesByArticle.loc[i, 'cumulative count'] = len(codeset)\n",
    "    codesByArticle.loc[i, 'new codes'] = ', '.join(setDiff)\n",
    "\n",
    "codesByArticle"
   ]
  },
  {
   "cell_type": "markdown",
   "metadata": {},
   "source": [
    "Plot the size of the code set as more computational notebooks are analyzed."
   ]
  },
  {
   "cell_type": "code",
   "execution_count": 133,
   "metadata": {},
   "outputs": [
    {
     "data": {
      "image/png": "[encoded data removed]",
      "text/plain": [
       "<Figure size 432x288 with 1 Axes>"
      ]
     },
     "metadata": {
      "needs_background": "light"
     },
     "output_type": "display_data"
    }
   ],
   "source": [
    "ax = sns.lineplot(x='coding order', y='cumulative count', markers=True, dashes=False, data=codesByArticle)\n",
    "ax.set(xlabel='Computational Notebooks Coded', ylabel='Total Unique Codes', title='Code Set Growth')\n",
    "plt.show()"
   ]
  },
  {
   "cell_type": "markdown",
   "metadata": {},
   "source": [
    "Map codes back to the article where they were introduced to the code set."
   ]
  },
  {
   "cell_type": "code",
   "execution_count": 76,
   "metadata": {
    "scrolled": true
   },
   "outputs": [
    {
     "data": {
      "text/markdown": [
       "1. **2019-04-democratic-candidate-codonors**: subset columns, canonicalize column names, use open government data, group by single column, sum along dimension, outer join tables, annotate workflow, peek at data, change case, strip whitespace, sort table, architect a subroutine, count value frequency, repetitive code, create a semi-unique key, drop duplicate rows based on prior knowledge, count unique values in column, trim by contains value, remove with regular expression, calculate ratio, self join table, calculate scaled ratio, compare different groups along a common metric, group by multiple columns, export intermediate results, union tables, read as tabular data, gather table"
      ],
      "text/plain": [
       "<IPython.core.display.Markdown object>"
      ]
     },
     "metadata": {},
     "output_type": "display_data"
    },
    {
     "data": {
      "text/markdown": [
       "2. **california-crop-production-wages-analysis**: trim by geographic area, wrangle data for graphics, architect repeating process, calculate mean, trim by date range, construct table manually, format table display, calculate percentage difference, visualize data, change column data type, answer a question, export results, inner join tables, adjust for inflation"
      ],
      "text/plain": [
       "<IPython.core.display.Markdown object>"
      ]
     },
     "metadata": {},
     "output_type": "display_data"
    },
    {
     "data": {
      "text/markdown": [
       "3. **census-hard-to-map-analysis**: tolerate dirty data, slice column values"
      ],
      "text/plain": [
       "<IPython.core.display.Markdown object>"
      ]
     },
     "metadata": {},
     "output_type": "display_data"
    },
    {
     "data": {
      "text/markdown": [
       "4. **long-term-care-db**: construct pivot table, perform entity resolution manually, use non-public, provided data, encode table identification in row, scrape web for data, drop duplicate rows based on values, fill in na values after an outer join, refine table, aggregate the forest from the trees, drop erroneous rows, fix data errors manually, join with lookup table"
      ],
      "text/plain": [
       "<IPython.core.display.Markdown object>"
      ]
     },
     "metadata": {},
     "output_type": "display_data"
    },
    {
     "data": {
      "text/markdown": [
       "5. **2018-voter-registration**: calculate a statistic, create rolling window, pull tables out of pdf, show trend over time"
      ],
      "text/plain": [
       "<IPython.core.display.Markdown object>"
      ]
     },
     "metadata": {},
     "output_type": "display_data"
    },
    {
     "data": {
      "text/markdown": [
       "6. **heat-index**: cartesian product, generate data computationally, compute index number"
      ],
      "text/plain": [
       "<IPython.core.display.Markdown object>"
      ]
     },
     "metadata": {},
     "output_type": "display_data"
    },
    {
     "data": {
      "text/markdown": [
       "7. **2016-11-bellwether-counties**: use academic data, remove incomplete data, get extreme values, spread table, calculate difference"
      ],
      "text/plain": [
       "<IPython.core.display.Markdown object>"
      ]
     },
     "metadata": {},
     "output_type": "display_data"
    },
    {
     "data": {
      "text/markdown": [
       "8. **2018-05-31-crime-and-heat-analysis**: combine seemingly disparate datasets, extract property from datetime, split, compute, and merge"
      ],
      "text/plain": [
       "<IPython.core.display.Markdown object>"
      ]
     },
     "metadata": {},
     "output_type": "display_data"
    },
    {
     "data": {
      "text/markdown": [
       "9. **2016-09-shy-trumpers**: use another news orgs data"
      ],
      "text/plain": [
       "<IPython.core.display.Markdown object>"
      ]
     },
     "metadata": {},
     "output_type": "display_data"
    },
    {
     "data": {
      "text/markdown": [
       "10. **the-cube-root-law**: wtf, use public data"
      ],
      "text/plain": [
       "<IPython.core.display.Markdown object>"
      ]
     },
     "metadata": {},
     "output_type": "display_data"
    },
    {
     "data": {
      "text/markdown": [
       "11. **2016-04-republican-donor-movements**: split column on delimiter, explore dynamic network flow, trim by quantitative threshold"
      ],
      "text/plain": [
       "<IPython.core.display.Markdown object>"
      ]
     },
     "metadata": {},
     "output_type": "display_data"
    },
    {
     "data": {
      "text/markdown": [
       "12. **california-h2a-visas-analysis**: preserve existing values, temporary joining column, create child table, replace na values, create a crosstab, cache results from external service, geocode addresses, create a unique key, split and compute"
      ],
      "text/plain": [
       "<IPython.core.display.Markdown object>"
      ]
     },
     "metadata": {},
     "output_type": "display_data"
    },
    {
     "data": {
      "text/markdown": [
       "13. **Endangered-Species-Act-Louisiana**: transform vector"
      ],
      "text/plain": [
       "<IPython.core.display.Markdown object>"
      ]
     },
     "metadata": {},
     "output_type": "display_data"
    },
    {
     "data": {
      "text/markdown": [
       "14. **Power_of_Irma**: value replacement, fix incorrect calculation, change date format, use data from colleague, interpret statistical/ml model, use previously cleaned data, toggle step on and off, outlier detection, set data confidence threshold"
      ],
      "text/plain": [
       "<IPython.core.display.Markdown object>"
      ]
     },
     "metadata": {},
     "output_type": "display_data"
    },
    {
     "data": {
      "text/markdown": [
       "15. **wikipedia-rankings**: collect raw data, explain variance, calculate z-score"
      ],
      "text/plain": [
       "<IPython.core.display.Markdown object>"
      ]
     },
     "metadata": {},
     "output_type": "display_data"
    },
    {
     "data": {
      "text/markdown": [
       "16. **babyname_politics**: concatenate columns into key, get unique values, data loss from aggregation, break ties, assign ranks, join aggregate, round floating point, check results of previous operation, resort after merge"
      ],
      "text/plain": [
       "<IPython.core.display.Markdown object>"
      ]
     },
     "metadata": {},
     "output_type": "display_data"
    },
    {
     "data": {
      "text/markdown": [
       "17. **2015-11-refugees-in-the-united-states**: designate column as primary key, make an incorrect conclusion, test for equality"
      ],
      "text/plain": [
       "<IPython.core.display.Markdown object>"
      ]
     },
     "metadata": {},
     "output_type": "display_data"
    },
    {
     "data": {
      "text/markdown": [
       "18. **employment-discrimination**: concatenate files together, align table columns for consolidation, inspect table schema, combine entities by string matching, merge tables to create pivot table"
      ],
      "text/plain": [
       "<IPython.core.display.Markdown object>"
      ]
     },
     "metadata": {},
     "output_type": "display_data"
    },
    {
     "data": {
      "text/markdown": [
       "19. **nyc-trips**: full join tables"
      ],
      "text/plain": [
       "<IPython.core.display.Markdown object>"
      ]
     },
     "metadata": {},
     "output_type": "display_data"
    },
    {
     "data": {
      "text/markdown": [
       "20. **work-from-home**: create flag, translate entity names manually, data too large for repo, copy table schema"
      ],
      "text/plain": [
       "<IPython.core.display.Markdown object>"
      ]
     },
     "metadata": {},
     "output_type": "display_data"
    },
    {
     "data": {
      "text/markdown": [
       "21. **prison-admissions**: "
      ],
      "text/plain": [
       "<IPython.core.display.Markdown object>"
      ]
     },
     "metadata": {},
     "output_type": "display_data"
    },
    {
     "data": {
      "text/markdown": [
       "22. **school-star-ratings-2018**: pad column values, display rows with missing values, reconcile primary keys between tables"
      ],
      "text/plain": [
       "<IPython.core.display.Markdown object>"
      ]
     },
     "metadata": {},
     "output_type": "display_data"
    },
    {
     "data": {
      "text/markdown": [
       "23. **electric-car-charging-points**: define edge weights, create edge, find nearest neighbours in the network, encode redundant information"
      ],
      "text/plain": [
       "<IPython.core.display.Markdown object>"
      ]
     },
     "metadata": {},
     "output_type": "display_data"
    },
    {
     "data": {
      "text/markdown": [
       "24. **internal-migration-london**: "
      ],
      "text/plain": [
       "<IPython.core.display.Markdown object>"
      ]
     },
     "metadata": {},
     "output_type": "display_data"
    },
    {
     "data": {
      "text/markdown": [
       "25. **midwife-led-units**: freedom of information data, test different computations for equality"
      ],
      "text/plain": [
       "<IPython.core.display.Markdown object>"
      ]
     },
     "metadata": {},
     "output_type": "display_data"
    },
    {
     "data": {
      "text/markdown": [
       "26. **federal_employees_trump_2017**: resolve to arbitrary entity name among choices"
      ],
      "text/plain": [
       "<IPython.core.display.Markdown object>"
      ]
     },
     "metadata": {},
     "output_type": "display_data"
    },
    {
     "data": {
      "text/markdown": [
       "27. **2018-voter-registration**: "
      ],
      "text/plain": [
       "<IPython.core.display.Markdown object>"
      ]
     },
     "metadata": {},
     "output_type": "display_data"
    },
    {
     "data": {
      "text/markdown": [
       "28. **2019-ems-analysis**: combine data and geography"
      ],
      "text/plain": [
       "<IPython.core.display.Markdown object>"
      ]
     },
     "metadata": {},
     "output_type": "display_data"
    },
    {
     "data": {
      "text/markdown": [
       "29. **auditData**: combine columns"
      ],
      "text/plain": [
       "<IPython.core.display.Markdown object>"
      ]
     },
     "metadata": {},
     "output_type": "display_data"
    },
    {
     "data": {
      "text/markdown": [
       "30. **new-york-schools-assessment**: backfill missing data, create lookup table, combine drifting datasets"
      ],
      "text/plain": [
       "<IPython.core.display.Markdown object>"
      ]
     },
     "metadata": {},
     "output_type": "display_data"
    },
    {
     "data": {
      "text/markdown": [
       "31. **skatemusic**: "
      ],
      "text/plain": [
       "<IPython.core.display.Markdown object>"
      ]
     },
     "metadata": {},
     "output_type": "display_data"
    },
    {
     "data": {
      "text/markdown": [
       "32. **201901-hospitalquality**: "
      ],
      "text/plain": [
       "<IPython.core.display.Markdown object>"
      ]
     },
     "metadata": {},
     "output_type": "display_data"
    },
    {
     "data": {
      "text/markdown": [
       "33. **201901-achievementgap**: bin values, query database"
      ],
      "text/plain": [
       "<IPython.core.display.Markdown object>"
      ]
     },
     "metadata": {},
     "output_type": "display_data"
    },
    {
     "data": {
      "text/markdown": [
       "34. **school-choice**: "
      ],
      "text/plain": [
       "<IPython.core.display.Markdown object>"
      ]
     },
     "metadata": {},
     "output_type": "display_data"
    },
    {
     "data": {
      "text/markdown": [
       "35. **swana-population-map**: "
      ],
      "text/plain": [
       "<IPython.core.display.Markdown object>"
      ]
     },
     "metadata": {},
     "output_type": "display_data"
    }
   ],
   "source": [
    "for i, row in codesByArticle.iterrows():\n",
    "    display(Markdown('{}. **{}**: {}'.format(i + 1, row.article, row['new codes'])))"
   ]
  },
  {
   "cell_type": "markdown",
   "metadata": {},
   "source": [
    "# Notebook Coverage\n",
    "\n",
    "Add the repo count and commit count grouping the `repos` table created in `notebooks-search.csv`, and exported to `data/repos.csv`, by organization. Then merge the repo counts and commit counts per organization to the `citations` data frame."
   ]
  },
  {
   "cell_type": "code",
   "execution_count": 11,
   "metadata": {},
   "outputs": [
    {
     "data": {
      "text/html": [
       "<div>\n",
       "<style scoped>\n",
       "    .dataframe tbody tr th:only-of-type {\n",
       "        vertical-align: middle;\n",
       "    }\n",
       "\n",
       "    .dataframe tbody tr th {\n",
       "        vertical-align: top;\n",
       "    }\n",
       "\n",
       "    .dataframe thead th {\n",
       "        text-align: right;\n",
       "    }\n",
       "</style>\n",
       "<table border=\"1\" class=\"dataframe\">\n",
       "  <thead>\n",
       "    <tr style=\"text-align: right;\">\n",
       "      <th></th>\n",
       "      <th>organization</th>\n",
       "      <th>repo_count</th>\n",
       "      <th>commit_count</th>\n",
       "      <th>repo_rank</th>\n",
       "      <th>commit_rank</th>\n",
       "      <th>is_included</th>\n",
       "    </tr>\n",
       "  </thead>\n",
       "  <tbody>\n",
       "    <tr>\n",
       "      <th>10</th>\n",
       "      <td>FiveThirtyEight</td>\n",
       "      <td>1</td>\n",
       "      <td>899.0</td>\n",
       "      <td>30</td>\n",
       "      <td>1</td>\n",
       "      <td>True</td>\n",
       "    </tr>\n",
       "    <tr>\n",
       "      <th>3</th>\n",
       "      <td>Baltimore Sun</td>\n",
       "      <td>21</td>\n",
       "      <td>277.0</td>\n",
       "      <td>3</td>\n",
       "      <td>2</td>\n",
       "      <td>True</td>\n",
       "    </tr>\n",
       "    <tr>\n",
       "      <th>0</th>\n",
       "      <td>Austin American-Statesman</td>\n",
       "      <td>11</td>\n",
       "      <td>277.0</td>\n",
       "      <td>4</td>\n",
       "      <td>3</td>\n",
       "      <td>True</td>\n",
       "    </tr>\n",
       "    <tr>\n",
       "      <th>4</th>\n",
       "      <td>BuzzFeed News</td>\n",
       "      <td>81</td>\n",
       "      <td>242.0</td>\n",
       "      <td>1</td>\n",
       "      <td>4</td>\n",
       "      <td>True</td>\n",
       "    </tr>\n",
       "    <tr>\n",
       "      <th>34</th>\n",
       "      <td>TrendCT</td>\n",
       "      <td>4</td>\n",
       "      <td>164.0</td>\n",
       "      <td>11</td>\n",
       "      <td>5</td>\n",
       "      <td>True</td>\n",
       "    </tr>\n",
       "    <tr>\n",
       "      <th>13</th>\n",
       "      <td>National Public Radio</td>\n",
       "      <td>6</td>\n",
       "      <td>133.0</td>\n",
       "      <td>8</td>\n",
       "      <td>6</td>\n",
       "      <td>True</td>\n",
       "    </tr>\n",
       "    <tr>\n",
       "      <th>2</th>\n",
       "      <td>BBC</td>\n",
       "      <td>10</td>\n",
       "      <td>123.0</td>\n",
       "      <td>5</td>\n",
       "      <td>7</td>\n",
       "      <td>True</td>\n",
       "    </tr>\n",
       "    <tr>\n",
       "      <th>27</th>\n",
       "      <td>The Buffalo News</td>\n",
       "      <td>3</td>\n",
       "      <td>117.0</td>\n",
       "      <td>14</td>\n",
       "      <td>8</td>\n",
       "      <td>True</td>\n",
       "    </tr>\n",
       "    <tr>\n",
       "      <th>35</th>\n",
       "      <td>Vox</td>\n",
       "      <td>1</td>\n",
       "      <td>115.0</td>\n",
       "      <td>20</td>\n",
       "      <td>9</td>\n",
       "      <td>True</td>\n",
       "    </tr>\n",
       "    <tr>\n",
       "      <th>15</th>\n",
       "      <td>New York Times</td>\n",
       "      <td>7</td>\n",
       "      <td>106.0</td>\n",
       "      <td>6</td>\n",
       "      <td>10</td>\n",
       "      <td>True</td>\n",
       "    </tr>\n",
       "    <tr>\n",
       "      <th>6</th>\n",
       "      <td>Center for Public Integrity</td>\n",
       "      <td>2</td>\n",
       "      <td>90.0</td>\n",
       "      <td>15</td>\n",
       "      <td>11</td>\n",
       "      <td>True</td>\n",
       "    </tr>\n",
       "    <tr>\n",
       "      <th>11</th>\n",
       "      <td>Los Angeles Times</td>\n",
       "      <td>25</td>\n",
       "      <td>67.0</td>\n",
       "      <td>2</td>\n",
       "      <td>12</td>\n",
       "      <td>True</td>\n",
       "    </tr>\n",
       "    <tr>\n",
       "      <th>17</th>\n",
       "      <td>Polygraph</td>\n",
       "      <td>4</td>\n",
       "      <td>65.0</td>\n",
       "      <td>10</td>\n",
       "      <td>13</td>\n",
       "      <td>True</td>\n",
       "    </tr>\n",
       "    <tr>\n",
       "      <th>5</th>\n",
       "      <td>CORRECTIV</td>\n",
       "      <td>2</td>\n",
       "      <td>63.0</td>\n",
       "      <td>16</td>\n",
       "      <td>14</td>\n",
       "      <td>True</td>\n",
       "    </tr>\n",
       "    <tr>\n",
       "      <th>29</th>\n",
       "      <td>The Oregonian</td>\n",
       "      <td>2</td>\n",
       "      <td>44.0</td>\n",
       "      <td>19</td>\n",
       "      <td>15</td>\n",
       "      <td>True</td>\n",
       "    </tr>\n",
       "    <tr>\n",
       "      <th>14</th>\n",
       "      <td>Neue Zürcher Zeitung</td>\n",
       "      <td>1</td>\n",
       "      <td>40.0</td>\n",
       "      <td>34</td>\n",
       "      <td>16</td>\n",
       "      <td>True</td>\n",
       "    </tr>\n",
       "    <tr>\n",
       "      <th>18</th>\n",
       "      <td>ProPublica</td>\n",
       "      <td>4</td>\n",
       "      <td>39.0</td>\n",
       "      <td>12</td>\n",
       "      <td>17</td>\n",
       "      <td>True</td>\n",
       "    </tr>\n",
       "    <tr>\n",
       "      <th>32</th>\n",
       "      <td>The Washington Post</td>\n",
       "      <td>6</td>\n",
       "      <td>39.0</td>\n",
       "      <td>7</td>\n",
       "      <td>18</td>\n",
       "      <td>True</td>\n",
       "    </tr>\n",
       "    <tr>\n",
       "      <th>19</th>\n",
       "      <td>Quartz</td>\n",
       "      <td>6</td>\n",
       "      <td>31.0</td>\n",
       "      <td>9</td>\n",
       "      <td>19</td>\n",
       "      <td>True</td>\n",
       "    </tr>\n",
       "    <tr>\n",
       "      <th>7</th>\n",
       "      <td>Chicago Tribune</td>\n",
       "      <td>1</td>\n",
       "      <td>31.0</td>\n",
       "      <td>35</td>\n",
       "      <td>20</td>\n",
       "      <td>False</td>\n",
       "    </tr>\n",
       "    <tr>\n",
       "      <th>1</th>\n",
       "      <td>Australian Broadcasting Corporation</td>\n",
       "      <td>1</td>\n",
       "      <td>24.0</td>\n",
       "      <td>32</td>\n",
       "      <td>21</td>\n",
       "      <td>False</td>\n",
       "    </tr>\n",
       "    <tr>\n",
       "      <th>9</th>\n",
       "      <td>Datastory</td>\n",
       "      <td>1</td>\n",
       "      <td>24.0</td>\n",
       "      <td>26</td>\n",
       "      <td>22</td>\n",
       "      <td>False</td>\n",
       "    </tr>\n",
       "    <tr>\n",
       "      <th>33</th>\n",
       "      <td>Time</td>\n",
       "      <td>3</td>\n",
       "      <td>19.0</td>\n",
       "      <td>13</td>\n",
       "      <td>23</td>\n",
       "      <td>True</td>\n",
       "    </tr>\n",
       "    <tr>\n",
       "      <th>37</th>\n",
       "      <td>WUFT</td>\n",
       "      <td>1</td>\n",
       "      <td>16.0</td>\n",
       "      <td>38</td>\n",
       "      <td>24</td>\n",
       "      <td>True</td>\n",
       "    </tr>\n",
       "    <tr>\n",
       "      <th>22</th>\n",
       "      <td>Star Tribune</td>\n",
       "      <td>2</td>\n",
       "      <td>15.0</td>\n",
       "      <td>18</td>\n",
       "      <td>25</td>\n",
       "      <td>True</td>\n",
       "    </tr>\n",
       "    <tr>\n",
       "      <th>8</th>\n",
       "      <td>DataMade</td>\n",
       "      <td>1</td>\n",
       "      <td>15.0</td>\n",
       "      <td>37</td>\n",
       "      <td>26</td>\n",
       "      <td>False</td>\n",
       "    </tr>\n",
       "    <tr>\n",
       "      <th>30</th>\n",
       "      <td>The Texas Tribune</td>\n",
       "      <td>1</td>\n",
       "      <td>15.0</td>\n",
       "      <td>24</td>\n",
       "      <td>27</td>\n",
       "      <td>False</td>\n",
       "    </tr>\n",
       "    <tr>\n",
       "      <th>26</th>\n",
       "      <td>The Atlantic</td>\n",
       "      <td>1</td>\n",
       "      <td>13.0</td>\n",
       "      <td>21</td>\n",
       "      <td>28</td>\n",
       "      <td>False</td>\n",
       "    </tr>\n",
       "    <tr>\n",
       "      <th>12</th>\n",
       "      <td>NOLA</td>\n",
       "      <td>1</td>\n",
       "      <td>12.0</td>\n",
       "      <td>36</td>\n",
       "      <td>29</td>\n",
       "      <td>True</td>\n",
       "    </tr>\n",
       "    <tr>\n",
       "      <th>16</th>\n",
       "      <td>Politico</td>\n",
       "      <td>1</td>\n",
       "      <td>10.0</td>\n",
       "      <td>33</td>\n",
       "      <td>30</td>\n",
       "      <td>False</td>\n",
       "    </tr>\n",
       "    <tr>\n",
       "      <th>36</th>\n",
       "      <td>WBEZ Chicago</td>\n",
       "      <td>1</td>\n",
       "      <td>8.0</td>\n",
       "      <td>22</td>\n",
       "      <td>31</td>\n",
       "      <td>False</td>\n",
       "    </tr>\n",
       "    <tr>\n",
       "      <th>31</th>\n",
       "      <td>The Times and Sunday Times</td>\n",
       "      <td>1</td>\n",
       "      <td>6.0</td>\n",
       "      <td>23</td>\n",
       "      <td>32</td>\n",
       "      <td>True</td>\n",
       "    </tr>\n",
       "    <tr>\n",
       "      <th>20</th>\n",
       "      <td>South Florida Sun Sentinel</td>\n",
       "      <td>1</td>\n",
       "      <td>5.0</td>\n",
       "      <td>31</td>\n",
       "      <td>33</td>\n",
       "      <td>False</td>\n",
       "    </tr>\n",
       "    <tr>\n",
       "      <th>24</th>\n",
       "      <td>Tahsin-Mayeesha</td>\n",
       "      <td>1</td>\n",
       "      <td>4.0</td>\n",
       "      <td>29</td>\n",
       "      <td>34</td>\n",
       "      <td>False</td>\n",
       "    </tr>\n",
       "    <tr>\n",
       "      <th>28</th>\n",
       "      <td>The Economist</td>\n",
       "      <td>1</td>\n",
       "      <td>2.0</td>\n",
       "      <td>25</td>\n",
       "      <td>35</td>\n",
       "      <td>False</td>\n",
       "    </tr>\n",
       "    <tr>\n",
       "      <th>25</th>\n",
       "      <td>Tampa Bay Times</td>\n",
       "      <td>1</td>\n",
       "      <td>2.0</td>\n",
       "      <td>28</td>\n",
       "      <td>36</td>\n",
       "      <td>False</td>\n",
       "    </tr>\n",
       "    <tr>\n",
       "      <th>21</th>\n",
       "      <td>St Louis Public Radio</td>\n",
       "      <td>2</td>\n",
       "      <td>2.0</td>\n",
       "      <td>17</td>\n",
       "      <td>37</td>\n",
       "      <td>True</td>\n",
       "    </tr>\n",
       "    <tr>\n",
       "      <th>23</th>\n",
       "      <td>Süddeutsche Zeitung</td>\n",
       "      <td>1</td>\n",
       "      <td>1.0</td>\n",
       "      <td>27</td>\n",
       "      <td>38</td>\n",
       "      <td>False</td>\n",
       "    </tr>\n",
       "  </tbody>\n",
       "</table>\n",
       "</div>"
      ],
      "text/plain": [
       "                           organization  repo_count  commit_count  repo_rank  \\\n",
       "10                      FiveThirtyEight           1         899.0         30   \n",
       "3                         Baltimore Sun          21         277.0          3   \n",
       "0             Austin American-Statesman          11         277.0          4   \n",
       "4                         BuzzFeed News          81         242.0          1   \n",
       "34                              TrendCT           4         164.0         11   \n",
       "13                National Public Radio           6         133.0          8   \n",
       "2                                   BBC          10         123.0          5   \n",
       "27                     The Buffalo News           3         117.0         14   \n",
       "35                                  Vox           1         115.0         20   \n",
       "15                       New York Times           7         106.0          6   \n",
       "6           Center for Public Integrity           2          90.0         15   \n",
       "11                    Los Angeles Times          25          67.0          2   \n",
       "17                            Polygraph           4          65.0         10   \n",
       "5                             CORRECTIV           2          63.0         16   \n",
       "29                        The Oregonian           2          44.0         19   \n",
       "14                 Neue Zürcher Zeitung           1          40.0         34   \n",
       "18                           ProPublica           4          39.0         12   \n",
       "32                  The Washington Post           6          39.0          7   \n",
       "19                               Quartz           6          31.0          9   \n",
       "7                       Chicago Tribune           1          31.0         35   \n",
       "1   Australian Broadcasting Corporation           1          24.0         32   \n",
       "9                             Datastory           1          24.0         26   \n",
       "33                                 Time           3          19.0         13   \n",
       "37                                 WUFT           1          16.0         38   \n",
       "22                         Star Tribune           2          15.0         18   \n",
       "8                              DataMade           1          15.0         37   \n",
       "30                    The Texas Tribune           1          15.0         24   \n",
       "26                         The Atlantic           1          13.0         21   \n",
       "12                                 NOLA           1          12.0         36   \n",
       "16                             Politico           1          10.0         33   \n",
       "36                         WBEZ Chicago           1           8.0         22   \n",
       "31           The Times and Sunday Times           1           6.0         23   \n",
       "20           South Florida Sun Sentinel           1           5.0         31   \n",
       "24                      Tahsin-Mayeesha           1           4.0         29   \n",
       "28                        The Economist           1           2.0         25   \n",
       "25                      Tampa Bay Times           1           2.0         28   \n",
       "21                St Louis Public Radio           2           2.0         17   \n",
       "23                  Süddeutsche Zeitung           1           1.0         27   \n",
       "\n",
       "    commit_rank  is_included  \n",
       "10            1         True  \n",
       "3             2         True  \n",
       "0             3         True  \n",
       "4             4         True  \n",
       "34            5         True  \n",
       "13            6         True  \n",
       "2             7         True  \n",
       "27            8         True  \n",
       "35            9         True  \n",
       "15           10         True  \n",
       "6            11         True  \n",
       "11           12         True  \n",
       "17           13         True  \n",
       "5            14         True  \n",
       "29           15         True  \n",
       "14           16         True  \n",
       "18           17         True  \n",
       "32           18         True  \n",
       "19           19         True  \n",
       "7            20        False  \n",
       "1            21        False  \n",
       "9            22        False  \n",
       "33           23         True  \n",
       "37           24         True  \n",
       "22           25         True  \n",
       "8            26        False  \n",
       "30           27        False  \n",
       "26           28        False  \n",
       "12           29         True  \n",
       "16           30        False  \n",
       "36           31        False  \n",
       "31           32         True  \n",
       "20           33        False  \n",
       "24           34        False  \n",
       "28           35        False  \n",
       "25           36        False  \n",
       "21           37         True  \n",
       "23           38        False  "
      ]
     },
     "execution_count": 11,
     "metadata": {},
     "output_type": "execute_result"
    }
   ],
   "source": [
    "repos = pd.read_csv('data/repos.csv')\n",
    "\n",
    "orgs = repos[repos.is_keeper == True] \\\n",
    "    .groupby('org') \\\n",
    "    .agg({\n",
    "        'url': 'nunique',\n",
    "        'commits': 'sum'\n",
    "    }) \\\n",
    "    .reset_index() \\\n",
    "    .rename(columns={\n",
    "        'org': 'organization', \n",
    "        'url': 'repo_count',\n",
    "        'commits': 'commit_count'\n",
    "    })\n",
    "\n",
    "# Assign ranks to each organization per repo count and commit count\n",
    "def rank(sort_col, rank_col):\n",
    "    orgs.sort_values(sort_col, ascending=False, inplace=True)\n",
    "    orgs[rank_col] = orgs.reset_index().index + 1\n",
    "\n",
    "rank('repo_count', 'repo_rank')\n",
    "rank('commit_count', 'commit_rank')\n",
    "\n",
    "# Find which organizations have been included in analysis\n",
    "includedOrgs = list(citations.organization.unique())\n",
    "orgs['is_included'] = False\n",
    "orgs.loc[orgs.organization.isin(includedOrgs), 'is_included'] = True\n",
    "\n",
    "orgs"
   ]
  },
  {
   "cell_type": "markdown",
   "metadata": {},
   "source": []
  },
  {
   "cell_type": "code",
   "execution_count": 12,
   "metadata": {},
   "outputs": [
    {
     "data": {
      "text/markdown": [
       "Analysis includes the top 20 and 19 organizations by repo count and commit count, respectively."
      ],
      "text/plain": [
       "<IPython.core.display.Markdown object>"
      ]
     },
     "metadata": {},
     "output_type": "display_data"
    }
   ],
   "source": [
    "display(Markdown('Analysis includes the top {lowestRepo} and {lowestCommit} organizations by repo count and commit count, respectively.'.format(**{\n",
    "    'lowestRepo': orgs[orgs.is_included == False].repo_rank.min() - 1,\n",
    "    'lowestCommit': orgs[orgs.is_included == False].commit_rank.min() - 1\n",
    "})))"
   ]
  },
  {
   "cell_type": "code",
   "execution_count": null,
   "metadata": {},
   "outputs": [],
   "source": []
  }
 ],
 "metadata": {
  "kernelspec": {
   "display_name": "Python 3",
   "language": "python",
   "name": "python3"
  },
  "language_info": {
   "codemirror_mode": {
    "name": "ipython",
    "version": 3
   },
   "file_extension": ".py",
   "mimetype": "text/x-python",
   "name": "python",
   "nbconvert_exporter": "python",
   "pygments_lexer": "ipython3",
   "version": "3.7.3"
  },
  "toc": {
   "base_numbering": 1,
   "nav_menu": {},
   "number_sections": true,
   "sideBar": true,
   "skip_h1_title": false,
   "title_cell": "Table of Contents",
   "title_sidebar": "Contents",
   "toc_cell": false,
   "toc_position": {},
   "toc_section_display": true,
   "toc_window_display": true
  }
 },
 "nbformat": 4,
 "nbformat_minor": 2
}

{
 "cells": [
  {
   "cell_type": "markdown",
   "metadata": {},
   "source": [
    "This notebook includes analysis of the iterative coding process."
   ]
  },
  {
   "cell_type": "code",
   "execution_count": 1,
   "metadata": {},
   "outputs": [],
   "source": [
    "import pandas as pd\n",
    "import altair as alt\n",
    "from lib.util import displayMarkdown\n",
    "\n",
    "alt.renderers.enable('notebook')\n",
    "\n",
    "pd.set_option(\"display.max_rows\", None)  # Don't truncate rows when printing a Pandas DataFrame instance"
   ]
  },
  {
   "cell_type": "markdown",
   "metadata": {},
   "source": [
    "# Import data \n",
    "\n",
    "## Code tree\n",
    "\n",
    "This CSV file is computed in `codebooky.ipynb`."
   ]
  },
  {
   "cell_type": "code",
   "execution_count": 2,
   "metadata": {},
   "outputs": [
    {
     "data": {
      "text/html": [
       "<div>\n",
       "<style scoped>\n",
       "    .dataframe tbody tr th:only-of-type {\n",
       "        vertical-align: middle;\n",
       "    }\n",
       "\n",
       "    .dataframe tbody tr th {\n",
       "        vertical-align: top;\n",
       "    }\n",
       "\n",
       "    .dataframe thead th {\n",
       "        text-align: right;\n",
       "    }\n",
       "</style>\n",
       "<table border=\"1\" class=\"dataframe\">\n",
       "  <thead>\n",
       "    <tr style=\"text-align: right;\">\n",
       "      <th></th>\n",
       "      <th>parent</th>\n",
       "      <th>name</th>\n",
       "      <th>desc</th>\n",
       "      <th>level</th>\n",
       "      <th>is_leaf</th>\n",
       "      <th>analysis</th>\n",
       "    </tr>\n",
       "  </thead>\n",
       "  <tbody>\n",
       "    <tr>\n",
       "      <th>0</th>\n",
       "      <td>root</td>\n",
       "      <td>actions</td>\n",
       "      <td>Codes that describe actions the journalist has...</td>\n",
       "      <td>0</td>\n",
       "      <td>False</td>\n",
       "      <td>50</td>\n",
       "    </tr>\n",
       "    <tr>\n",
       "      <th>1</th>\n",
       "      <td>actions</td>\n",
       "      <td>import</td>\n",
       "      <td>How raw data is introduced into the programmin...</td>\n",
       "      <td>1</td>\n",
       "      <td>False</td>\n",
       "      <td>39</td>\n",
       "    </tr>\n",
       "    <tr>\n",
       "      <th>2</th>\n",
       "      <td>import</td>\n",
       "      <td>fetch</td>\n",
       "      <td>Data is retrieved from some external sources t...</td>\n",
       "      <td>2</td>\n",
       "      <td>False</td>\n",
       "      <td>6</td>\n",
       "    </tr>\n",
       "    <tr>\n",
       "      <th>3</th>\n",
       "      <td>fetch</td>\n",
       "      <td>pull tables out of pdf</td>\n",
       "      <td>Using a table extraction tool, such as Tabula,...</td>\n",
       "      <td>3</td>\n",
       "      <td>True</td>\n",
       "      <td>1</td>\n",
       "    </tr>\n",
       "    <tr>\n",
       "      <th>4</th>\n",
       "      <td>fetch</td>\n",
       "      <td>api request</td>\n",
       "      <td>Make a request to a web API, such as addresses...</td>\n",
       "      <td>3</td>\n",
       "      <td>True</td>\n",
       "      <td>1</td>\n",
       "    </tr>\n",
       "  </tbody>\n",
       "</table>\n",
       "</div>"
      ],
      "text/plain": [
       "    parent                    name  \\\n",
       "0     root                 actions   \n",
       "1  actions                  import   \n",
       "2   import                   fetch   \n",
       "3    fetch  pull tables out of pdf   \n",
       "4    fetch             api request   \n",
       "\n",
       "                                                desc  level  is_leaf  analysis  \n",
       "0  Codes that describe actions the journalist has...      0    False        50  \n",
       "1  How raw data is introduced into the programmin...      1    False        39  \n",
       "2  Data is retrieved from some external sources t...      2    False         6  \n",
       "3  Using a table extraction tool, such as Tabula,...      3     True         1  \n",
       "4  Make a request to a web API, such as addresses...      3     True         1  "
      ]
     },
     "execution_count": 2,
     "metadata": {},
     "output_type": "execute_result"
    }
   ],
   "source": [
    "codes = pd.read_csv('data/codes.csv')\n",
    "codes.head()"
   ]
  },
  {
   "cell_type": "markdown",
   "metadata": {},
   "source": [
    "Now group the code-analyses pairs in the `codes` data frame by code and count the number of analyses per code. Remember that the frequency column, called `freq`, is the number of analyses that contain at least one instance of that particular code."
   ]
  },
  {
   "cell_type": "code",
   "execution_count": 3,
   "metadata": {
    "scrolled": false
   },
   "outputs": [
    {
     "data": {
      "text/html": [
       "<div>\n",
       "<style scoped>\n",
       "    .dataframe tbody tr th:only-of-type {\n",
       "        vertical-align: middle;\n",
       "    }\n",
       "\n",
       "    .dataframe tbody tr th {\n",
       "        vertical-align: top;\n",
       "    }\n",
       "\n",
       "    .dataframe thead th {\n",
       "        text-align: right;\n",
       "    }\n",
       "</style>\n",
       "<table border=\"1\" class=\"dataframe\">\n",
       "  <thead>\n",
       "    <tr style=\"text-align: right;\">\n",
       "      <th></th>\n",
       "      <th>name</th>\n",
       "      <th>level</th>\n",
       "      <th>is_leaf</th>\n",
       "      <th>freq</th>\n",
       "      <th>desc</th>\n",
       "      <th>coverage</th>\n",
       "      <th>is_actions</th>\n",
       "      <th>is_strategies</th>\n",
       "      <th>is_observations</th>\n",
       "      <th>is_analysis</th>\n",
       "      <th>is_leaf_parent</th>\n",
       "      <th>commonness</th>\n",
       "    </tr>\n",
       "  </thead>\n",
       "  <tbody>\n",
       "    <tr>\n",
       "      <th>0</th>\n",
       "      <td>actions</td>\n",
       "      <td>0</td>\n",
       "      <td>False</td>\n",
       "      <td>50</td>\n",
       "      <td>Codes that describe actions the journalist has...</td>\n",
       "      <td>1.00</td>\n",
       "      <td>True</td>\n",
       "      <td>False</td>\n",
       "      <td>False</td>\n",
       "      <td>False</td>\n",
       "      <td>True</td>\n",
       "      <td>always</td>\n",
       "    </tr>\n",
       "    <tr>\n",
       "      <th>1</th>\n",
       "      <td>adjust for inflation</td>\n",
       "      <td>3</td>\n",
       "      <td>True</td>\n",
       "      <td>3</td>\n",
       "      <td>TK</td>\n",
       "      <td>0.06</td>\n",
       "      <td>True</td>\n",
       "      <td>False</td>\n",
       "      <td>False</td>\n",
       "      <td>False</td>\n",
       "      <td>False</td>\n",
       "      <td>seldom</td>\n",
       "    </tr>\n",
       "    <tr>\n",
       "      <th>2</th>\n",
       "      <td>adjust for season</td>\n",
       "      <td>3</td>\n",
       "      <td>True</td>\n",
       "      <td>1</td>\n",
       "      <td>Making seasonal adjustments to the data to det...</td>\n",
       "      <td>0.02</td>\n",
       "      <td>True</td>\n",
       "      <td>False</td>\n",
       "      <td>False</td>\n",
       "      <td>False</td>\n",
       "      <td>False</td>\n",
       "      <td>seldom</td>\n",
       "    </tr>\n",
       "    <tr>\n",
       "      <th>3</th>\n",
       "      <td>aggregate the forest from the trees</td>\n",
       "      <td>2</td>\n",
       "      <td>True</td>\n",
       "      <td>2</td>\n",
       "      <td>Data of individual observations is aggregated ...</td>\n",
       "      <td>0.04</td>\n",
       "      <td>False</td>\n",
       "      <td>False</td>\n",
       "      <td>True</td>\n",
       "      <td>False</td>\n",
       "      <td>False</td>\n",
       "      <td>seldom</td>\n",
       "    </tr>\n",
       "    <tr>\n",
       "      <th>4</th>\n",
       "      <td>analysis</td>\n",
       "      <td>1</td>\n",
       "      <td>False</td>\n",
       "      <td>40</td>\n",
       "      <td>Kinds of analysis data journalists need to wra...</td>\n",
       "      <td>0.80</td>\n",
       "      <td>False</td>\n",
       "      <td>False</td>\n",
       "      <td>True</td>\n",
       "      <td>True</td>\n",
       "      <td>True</td>\n",
       "      <td>always</td>\n",
       "    </tr>\n",
       "  </tbody>\n",
       "</table>\n",
       "</div>"
      ],
      "text/plain": [
       "                                  name  level  is_leaf  freq  \\\n",
       "0                              actions      0    False    50   \n",
       "1                 adjust for inflation      3     True     3   \n",
       "2                    adjust for season      3     True     1   \n",
       "3  aggregate the forest from the trees      2     True     2   \n",
       "4                             analysis      1    False    40   \n",
       "\n",
       "                                                desc  coverage  is_actions  \\\n",
       "0  Codes that describe actions the journalist has...      1.00        True   \n",
       "1                                                 TK      0.06        True   \n",
       "2  Making seasonal adjustments to the data to det...      0.02        True   \n",
       "3  Data of individual observations is aggregated ...      0.04       False   \n",
       "4  Kinds of analysis data journalists need to wra...      0.80       False   \n",
       "\n",
       "   is_strategies  is_observations  is_analysis  is_leaf_parent commonness  \n",
       "0          False            False        False            True     always  \n",
       "1          False            False        False           False     seldom  \n",
       "2          False            False        False           False     seldom  \n",
       "3          False             True        False           False     seldom  \n",
       "4          False             True         True            True     always  "
      ]
     },
     "execution_count": 3,
     "metadata": {},
     "output_type": "execute_result"
    }
   ],
   "source": [
    "codeCounts = codes.groupby(['name', 'level', 'is_leaf']) \\\n",
    "    .analysis.sum() \\\n",
    "    .to_frame('freq') \\\n",
    "    .reset_index()\n",
    "\n",
    "codeCounts = pd.merge(codeCounts, codes[['name', 'desc']], how='left')\n",
    "\n",
    "codeCounts['coverage'] = codeCounts.freq / 50\n",
    "\n",
    "def recurse(root, pNode, func):\n",
    "    root = root if root != None else pNode\n",
    "    func(root, pNode)\n",
    "    children = codes.loc[codes.parent == pNode]\n",
    "    for child in children.name:\n",
    "        recurse(root, child, func)\n",
    "\n",
    "def markBranch(root, pnode):\n",
    "    codeCounts.loc[codeCounts.name == pnode, 'is_' + root] = True\n",
    "\n",
    "for branch in ['actions', 'strategies', 'observations', 'analysis']:\n",
    "    codeCounts['is_' + branch] = False\n",
    "    recurse(None, branch, markBranch) \n",
    "\n",
    "# Populate is leaf parent\n",
    "codeCounts['is_leaf_parent'] = False\n",
    "for parent in codes[codes.is_leaf].parent.unique():\n",
    "    codeCounts.loc[codeCounts.name == parent, 'is_leaf_parent'] = True\n",
    "\n",
    "# Bin coverage into discrete values\n",
    "bins = ['always', 'frequently', 'sometimes', 'seldom']\n",
    "codeCounts['commonness'] = pd.cut(codeCounts.coverage, len(bins), labels=bins[::-1])\n",
    "    \n",
    "# Peek at results\n",
    "codeCounts.head()"
   ]
  },
  {
   "cell_type": "markdown",
   "metadata": {},
   "source": [
    "## Code-analysis-notebook network\n",
    "\n",
    "This notebook also uses the data exported by `codebook.ipynb` to `data/code-analysis-network.csv`, which maps codes to notebooks to analyses."
   ]
  },
  {
   "cell_type": "code",
   "execution_count": 4,
   "metadata": {},
   "outputs": [
    {
     "data": {
      "text/html": [
       "<div>\n",
       "<style scoped>\n",
       "    .dataframe tbody tr th:only-of-type {\n",
       "        vertical-align: middle;\n",
       "    }\n",
       "\n",
       "    .dataframe tbody tr th {\n",
       "        vertical-align: top;\n",
       "    }\n",
       "\n",
       "    .dataframe thead th {\n",
       "        text-align: right;\n",
       "    }\n",
       "</style>\n",
       "<table border=\"1\" class=\"dataframe\">\n",
       "  <thead>\n",
       "    <tr style=\"text-align: right;\">\n",
       "      <th></th>\n",
       "      <th>name</th>\n",
       "      <th>analysis</th>\n",
       "      <th>notebook</th>\n",
       "      <th>level</th>\n",
       "      <th>is_leaf</th>\n",
       "    </tr>\n",
       "  </thead>\n",
       "  <tbody>\n",
       "    <tr>\n",
       "      <th>0</th>\n",
       "      <td>pull tables out of pdf</td>\n",
       "      <td>2018-voter-registration</td>\n",
       "      <td>01_processing.ipynb</td>\n",
       "      <td>3.0</td>\n",
       "      <td>True</td>\n",
       "    </tr>\n",
       "    <tr>\n",
       "      <th>1</th>\n",
       "      <td>api request</td>\n",
       "      <td>california-h2a-visas-analysis</td>\n",
       "      <td>03_geocode.ipynb</td>\n",
       "      <td>3.0</td>\n",
       "      <td>True</td>\n",
       "    </tr>\n",
       "    <tr>\n",
       "      <th>2</th>\n",
       "      <td>query database</td>\n",
       "      <td>201901-achievementgap</td>\n",
       "      <td>build_data.R</td>\n",
       "      <td>3.0</td>\n",
       "      <td>True</td>\n",
       "    </tr>\n",
       "    <tr>\n",
       "      <th>3</th>\n",
       "      <td>scrape web for data</td>\n",
       "      <td>us-weather-history</td>\n",
       "      <td>wunderground_scraper.py</td>\n",
       "      <td>3.0</td>\n",
       "      <td>True</td>\n",
       "    </tr>\n",
       "    <tr>\n",
       "      <th>4</th>\n",
       "      <td>scrape web for data</td>\n",
       "      <td>long-term-care-db</td>\n",
       "      <td>mung-3-25-scrape</td>\n",
       "      <td>3.0</td>\n",
       "      <td>True</td>\n",
       "    </tr>\n",
       "  </tbody>\n",
       "</table>\n",
       "</div>"
      ],
      "text/plain": [
       "                     name                       analysis  \\\n",
       "0  pull tables out of pdf        2018-voter-registration   \n",
       "1             api request  california-h2a-visas-analysis   \n",
       "2          query database          201901-achievementgap   \n",
       "3     scrape web for data             us-weather-history   \n",
       "4     scrape web for data              long-term-care-db   \n",
       "\n",
       "                  notebook  level is_leaf  \n",
       "0      01_processing.ipynb    3.0    True  \n",
       "1         03_geocode.ipynb    3.0    True  \n",
       "2             build_data.R    3.0    True  \n",
       "3  wunderground_scraper.py    3.0    True  \n",
       "4         mung-3-25-scrape    3.0    True  "
      ]
     },
     "execution_count": 4,
     "metadata": {},
     "output_type": "execute_result"
    }
   ],
   "source": [
    "analysisCodes = pd.read_csv('data/code-analysis-network.csv')\n",
    "analysisCodes.head()"
   ]
  },
  {
   "cell_type": "markdown",
   "metadata": {},
   "source": [
    "# Codes by Level"
   ]
  },
  {
   "cell_type": "code",
   "execution_count": 5,
   "metadata": {},
   "outputs": [],
   "source": [
    "def displayTable(df):\n",
    "    header = \"| \" + \" | \".join(df.columns) + \" |\"\n",
    "    breakline = \"|\" + \"---|\" * len(df.columns)\n",
    "    rowTmpl = \"| \" + \" | \".join(['{' + col + '}'for col in df.columns ]) + \" |\"\n",
    "    rows = '\\n'.join([ rowTmpl.format(**row) for i, row in df.iterrows() ])\n",
    "    displayMarkdown(header + '\\n' + breakline + '\\n' + rows)\n",
    "\n",
    "def rollupTable(is_actions=True):\n",
    "    for i in range(1, max(codeCounts.level)):\n",
    "        codeLevel = codeCounts[(codeCounts.level == i) & (codeCounts.is_actions == is_actions)] \\\n",
    "            .sort_values(['commonness', 'coverage'], ascending=False)\n",
    "        displayMarkdown(\"### Level {} {} Codes\".format(i, 'Action' if is_actions else 'Observation'))\n",
    "        displayTable(codeLevel[['name', 'desc', 'commonness']])"
   ]
  },
  {
   "cell_type": "markdown",
   "metadata": {},
   "source": [
    "## Action Codes"
   ]
  },
  {
   "cell_type": "code",
   "execution_count": 6,
   "metadata": {
    "scrolled": false
   },
   "outputs": [
    {
     "data": {
      "text/markdown": [
       "### Level 1 Action Codes"
      ],
      "text/plain": [
       "<IPython.core.display.Markdown object>"
      ]
     },
     "metadata": {},
     "output_type": "display_data"
    },
    {
     "data": {
      "text/markdown": [
       "| name | desc | commonness |\n",
       "|---|---|---|\n",
       "| import | How raw data is introduced into the programming/wrangling environment | always |\n",
       "| clean | Operations to correct data that might be considered \"dirty\" | always |\n",
       "| modify | *Modifying* the data constitutes make minor changes without *integrating* other tables. | frequently |\n",
       "| integrate | Combining data residing in different tables into one table. | frequently |\n",
       "| recalculate | Expanding the table by calculating new columns based on existing columns without *integrating* other tables.* | frequently |\n",
       "| transform | Operations that transform a table into an aggregated, lower-resolution view of the original table. | frequently |\n",
       "| check sanity | Operations that confirm the effect of a previous wrangling operation. | sometimes |\n",
       "| display dataset | Different ways to check in on the state of the dataset during wrangling. | sometimes |\n",
       "| export | Ways in which journalist export the results of their data wrangling. | sometimes |"
      ],
      "text/plain": [
       "<IPython.core.display.Markdown object>"
      ]
     },
     "metadata": {},
     "output_type": "display_data"
    },
    {
     "data": {
      "text/markdown": [
       "### Level 2 Action Codes"
      ],
      "text/plain": [
       "<IPython.core.display.Markdown object>"
      ]
     },
     "metadata": {},
     "output_type": "display_data"
    },
    {
     "data": {
      "text/markdown": [
       "| name | desc | commonness |\n",
       "|---|---|---|\n",
       "| load | Raw data resides on the local disk and is *loaded* into the environment, includes these file formats: .csv, .xlsx, .fec, .shp, .RData, etc. | frequently |\n",
       "| format | Operations that modify the table values appearance or style | frequently |\n",
       "| formulate performance metric | Perform a calculation that is later used to compare different entities or the same entity over time. A recurring theme between many of these notebooks is to compare different entities, such as political parties, by a common, quantitative metric, such as percentage of all newly registered voters. | frequently |\n",
       "| trim fat | Remove complete sections of data that just are relevant | frequently |\n",
       "| supplement | Supplementation is characterized by integration operations that essentially add columns to existing data | sometimes |\n",
       "| check results | Operations that output some visual representation of the table | sometimes |\n",
       "| summarize | Codes that aggregate and calculate tables to get a more coarse view of the data. | sometimes |\n",
       "| visualize data | Employing any kind of data visualization, including a table | sometimes |\n",
       "| reshape | Operations fundamentally change the table's structure, but do not perform any kind of summarization calculation. *Constructing a pivot table* often involves a *spread-like* operation when defining what values to use as columns in the new table. The difference with *reshaping* is that sometimes the journalist may not summarize the reshaped table. | sometimes |\n",
       "| column reshaping | Codes concerning either separating one column into more than one or combining more than one column into one. | sometimes |\n",
       "| union tables | TK | sometimes |\n",
       "| rank data | Operations that encode semantic meaning about the data with table index. | sometimes |\n",
       "| fix values | Individual values have errors that must be corrected. | sometimes |\n",
       "| create | Data is created inside the programming environment | seldom |\n",
       "| consolidate values of a single column | Codes that map a set of entities to a smaller set of entities | seldom |\n",
       "| count the data | Operation that count things in the data set | seldom |\n",
       "| deduplicate | Remove rows that contain two or more of the same observation, with identical values in all, one, or zero columns. | seldom |\n",
       "| generate keys | Operations that create \"key\" columns. | seldom |\n",
       "| fetch | Data is retrieved from some external sources to the programming environment | seldom |\n",
       "| format table display | Operations that adjust the table displace, such as how many decimals to round floats | seldom |\n",
       "| detrend | \"filter out the secular effect in order to see what is going on specifically with the phenomenon you are investigating,\" Philip Meyer in *Precision Journalism*. | seldom |\n",
       "| run a test | Operations output a clear pass or fail value, often implemented by counting things | seldom |\n",
       "| create flag | Flags are boolean expressed computed upon column values and used in filtering and grouping | seldom |\n",
       "| encode table identification in row | When some way of identifying the table is encoded as a separate column in each row. Common identification methods include the name of the corresponding file, an arbitrary table name, or boolean value | seldom |\n",
       "| inner join tables | TK | seldom |\n",
       "| remove incomplete data | Drop row if value(s) are incomplete, usually denoted as NA. | seldom |\n",
       "| cartesian product | TK | seldom |\n",
       "| describe statistically | Generates any kind of descriptive statistics of the dataset's central tendency, dispersion and distribution shape | seldom |\n",
       "| pad column values | Adding either character prefixes or suffixes consistently to every row within a column | seldom |\n",
       "| scale values | Operations that apply some mathematical operation to columns of quantitative data. This code is different from the codes under **Formulate performance metric** because this closer to cleaning. | seldom |\n",
       "| network-ify the data | When the data is inherently a graph, encode table columns and values to represent this structure tabularly | seldom |\n",
       "| self join table | Join a table with itself | seldom |"
      ],
      "text/plain": [
       "<IPython.core.display.Markdown object>"
      ]
     },
     "metadata": {},
     "output_type": "display_data"
    },
    {
     "data": {
      "text/markdown": [
       "### Level 3 Action Codes"
      ],
      "text/plain": [
       "<IPython.core.display.Markdown object>"
      ]
     },
     "metadata": {},
     "output_type": "display_data"
    },
    {
     "data": {
      "text/markdown": [
       "| name | desc | commonness |\n",
       "|---|---|---|\n",
       "| format schema | Operations that modify anything except table values | frequently |\n",
       "| winnow rows | Simply put, these operations remove table rows. | sometimes |\n",
       "| subset columns | Removing columns from a table by specifying which ones to remove or keep. | sometimes |\n",
       "| outer join tables | A join that returns rows with no corresponding match in the table being joined two, e.g. left or right joins. | sometimes |\n",
       "| peek at data | Display the first *n* rows and all columns of the table | sometimes |\n",
       "| figure a rate | Convert numbers to a normalized rate to \"provide a comparison against some easily recognized baseline\" Philip Meyer in *Precision Journalism* | sometimes |\n",
       "| sort table | When rank is implicitly assigned by rearranging row position in the table. | sometimes |\n",
       "| extract column values | Separating a column containing multiple rows | seldom |\n",
       "| group by single column | When a table is grouped by a single column. | seldom |\n",
       "| group by multiple columns | When a table is grouped by multiple columns, creating hierarchy. | seldom |\n",
       "| cross tabulate | such as with a pivot table/crosstab | seldom |\n",
       "| calculate spread | Calculating the difference between two values or rates | seldom |\n",
       "| calculate change over time | Such as the percentage difference over time. | seldom |\n",
       "| combine entities | Consolidating a range of categorical values into a smaller set of categorical values | seldom |\n",
       "| create frequency table | Count the frequency of non-quantitative variables within a column | seldom |\n",
       "| format values | Operations that change value appearence, e.g. change case, specifying date format, rounding floats. | seldom |\n",
       "| remove value characters | When characters inside a value are removed, such as periods, commas, dollar signs, etc | seldom |\n",
       "| calculate central tendency | Measuring what a typical value is in the data, e.g. mean, median. | seldom |\n",
       "| combine columns | Combining two columns into one, either through concatenation, addition, etc... | seldom |\n",
       "| construct table manually | Using tables where column names and table values were either copy-and-pasted or entered manually. | seldom |\n",
       "| count number of rows | Printing out the total number of rows in a table | seldom |\n",
       "| create soft key | Keys used in matching without a guarentee of uniqueness, such as combinations of names and addresses | seldom |\n",
       "| full join tables | Combine all rows and all columns of the two tables. a.k.a full outer join | seldom |\n",
       "| gather table | Collapses table into key value pairs. | seldom |\n",
       "| spread table | Expand two columns of key value pairs into multiple columns. | seldom |\n",
       "| use lookup table | Using a table with two columns to map from one value to another. | seldom |\n",
       "| create a unique key | Journalist create a key that is actually unique in the table | seldom |\n",
       "| inspect table schema | Check the data types of columns | seldom |\n",
       "| replace na values | Raw data may contain incomplete table values (denoted as NA) or empty values (denoted as NULL) | seldom |\n",
       "| rolling window calculation | Performs rolling-window aggregation | seldom |\n",
       "| adjust for inflation | TK | seldom |\n",
       "| count unique values | Report the number of unique values in one or more columns | seldom |\n",
       "| resolve entities | Classic entity resolution: a column of categorical values has different names for the same entity. | seldom |\n",
       "| scrape web for data | Systematically parsing HTML web pages for relevant data | seldom |\n",
       "| standardize values | Measuring deviation from some definition of \"normal\", e.g. Z-scores | seldom |\n",
       "| backfill missing data | Create data observations where there are missing entries. | seldom |\n",
       "| domain-specific performance metric | A domain specific metric, such as the Cube Root Law for legislatures. | seldom |\n",
       "| fix data errors manually | Instances where individual row-column values are changed manually. | seldom |\n",
       "| generate data computationally | Using tables populated programmatically. | seldom |\n",
       "| get extreme values | Calculate the highest or lowest value(s) | seldom |\n",
       "| join aggregate | Extend the table (columnwise) with aggregate values, hence the number of rows stays constant but columns increase | seldom |\n",
       "| rollup | Rename entity to the name of its parent (for hierarchical data) | seldom |\n",
       "| strip whitespace | Removing extra whitespace characters from entity name | seldom |\n",
       "| test for equality | Test if two data structures are exactly the same, e.g. two data frames | seldom |\n",
       "| adjust for season | Making seasonal adjustments to the data to detrend for seasonal trends. | seldom |\n",
       "| api request | Make a request to a web API, such as addresses translation service for lat-long coordinates from Bing. | seldom |\n",
       "| assign ranks | When a column of numerical ranks is explicitly assigned to rows in the table. | seldom |\n",
       "| bin values | Consolidating a range of quantitative data into ordinal data | seldom |\n",
       "| check for nas | See if any rows have NA values. | seldom |\n",
       "| compute index number | TK | seldom |\n",
       "| concat parallel tables | When columns from multiple, parallel tables are concatenated together to form a new table. | seldom |\n",
       "| copy table schema | A table is copied without any values but table column names and type identical, or nearly identical, to another table | seldom |\n",
       "| create edge | A column with value that define a relationship to another row, which is not necessarily in a different table | seldom |\n",
       "| define edge weights | Columns that define edge weights | seldom |\n",
       "| display rows with missing values | E.g. filtering rows with a NA value in a particular column | seldom |\n",
       "| fix mixed data types | Sometimes a column with be mixed with two data type, e.g. integers and strings. | seldom |\n",
       "| pull tables out of pdf | Using a table extraction tool, such as Tabula, to parse tables inside PDF documents. | seldom |\n",
       "| query database | Data is imported through a database query | seldom |\n",
       "| report rows with column number discrepancies | Finds if a row has a different number of columns than the header row | seldom |\n",
       "| test different computations for equality | Test the results of a calculation against different methods/packages. The Upshot did this with variance. | seldom |\n",
       "| validate data quality with domain-specific rules | Such as if the average temperature is higher than the maximum recorded temperature | seldom |"
      ],
      "text/plain": [
       "<IPython.core.display.Markdown object>"
      ]
     },
     "metadata": {},
     "output_type": "display_data"
    }
   ],
   "source": [
    "rollupTable()"
   ]
  },
  {
   "cell_type": "markdown",
   "metadata": {},
   "source": [
    "## Observation Codes"
   ]
  },
  {
   "cell_type": "code",
   "execution_count": 7,
   "metadata": {},
   "outputs": [
    {
     "data": {
      "text/markdown": [
       "### Level 1 Observation Codes"
      ],
      "text/plain": [
       "<IPython.core.display.Markdown object>"
      ]
     },
     "metadata": {},
     "output_type": "display_data"
    },
    {
     "data": {
      "text/markdown": [
       "| name | desc | commonness |\n",
       "|---|---|---|\n",
       "| analysis | Kinds of analysis data journalists need to wrangle data to perform. | always |\n",
       "| wrangling purpose | Why does this data need to be wrangled? | frequently |\n",
       "| data acquisition | How the data was acquired by journalists | sometimes |\n",
       "| pain points | Areas where journalist seem/could be frustrated in the wrangling process. | sometimes |\n",
       "| workflow building | Codes pertaining to how the wrangling workflow is built. | sometimes |\n",
       "| strategies | General strategies journalists employ when wrangling data. | sometimes |"
      ],
      "text/plain": [
       "<IPython.core.display.Markdown object>"
      ]
     },
     "metadata": {},
     "output_type": "display_data"
    },
    {
     "data": {
      "text/markdown": [
       "### Level 2 Observation Codes"
      ],
      "text/plain": [
       "<IPython.core.display.Markdown object>"
      ]
     },
     "metadata": {},
     "output_type": "display_data"
    },
    {
     "data": {
      "text/markdown": [
       "| name | desc | commonness |\n",
       "|---|---|---|\n",
       "| input for downstream applications | Output from wrangling will be input into some other program | sometimes |\n",
       "| compare different groups along a common metric | The end analysis is just comparing different groups by a common metric. | sometimes |\n",
       "| repetitive code | Instances where code is repetitively copied and pasted. | seldom |\n",
       "| show trend over time | Analysis consists of showing how values change over time | seldom |\n",
       "| think computationally | Codes that demonstrate computational thinking on the part of the journalist. | seldom |\n",
       "| table splitting | Tables may be divided, partitioned, or otherwise split into multiple tables to accomplish a transformation goal. | seldom |\n",
       "| use open government data | Data publically available on open data portals, such as data.gov | seldom |\n",
       "| creating new datasets | nan | seldom |\n",
       "| answer a question | Analysis consists of using data to answer a specific question | seldom |\n",
       "| calculate a statistic | Calculate a single value for from a dataset, such as number of records. | seldom |\n",
       "| tables evolve | Data and objects are destroyed during the wrangling process. | seldom |\n",
       "| annotate workflow | Adding comments or notes in Markdown that explain what the journalists doing. | seldom |\n",
       "| collect raw data | Using first-hand observations or logs as data. | seldom |\n",
       "| interpret statistical/ml model | Analyze features from a model such as linear regression or classification trees | seldom |\n",
       "| outlier detection | Finding extreme cases or outliers in the data | seldom |\n",
       "| post-merge clean up | Pain points that come from the result of merging two datasets together | seldom |\n",
       "| tolerate dirty data | Analysis continues despite clear data quality issues. | seldom |\n",
       "| explore dynamic network flow | (Network analysis) explore the flow between different nodes in the graph, e.g. migration between cities. | seldom |\n",
       "| toggle step on and off | Some wrangling steps were not always run. Toggling off is often accomplished by commenting out code. | seldom |\n",
       "| aggregate the forest from the trees | Data of individual observations is aggregated in an attempt to find some meaningful structure or patterns | seldom |\n",
       "| data is precious | Data and objects are neverly actually lost in the programming environment. | seldom |\n",
       "| post-aggregation clean up | Pain points that come from the result of grouping a table. | seldom |\n",
       "| remove erroneous data | There are errors in the data that need to be removed | seldom |\n",
       "| use another news orgs data | A dataset previously published by another news organization | seldom |\n",
       "| use non-public, provided data | nan | seldom |\n",
       "| use public data | Includes open-source datasets, tables on Wikipedia, etc.. | seldom |\n",
       "| data too large for repo | Raw data cannot be included in SCM because files are too large | seldom |\n",
       "| encode redundant information | When data that already exists in the table is recoded into the table. | seldom |\n",
       "| explain variance | This can be done via PCA | seldom |\n",
       "| find nearest neighbours in the network | (Network analysis) Find the closest neighbours for all points | seldom |\n",
       "| fix incorrect calculation | Calculations in the data are incorrect and the journalist must recalculate them | seldom |\n",
       "| freedom of information data | Data that was obtained via FOI/FOIA requests. | seldom |\n",
       "| identify clusters or lack of clusters | nan | seldom |\n",
       "| identify extreme values | nan | seldom |\n",
       "| make an incorrect conclusion | Instances where the journalist has made an incorrect conclusion about the data. | seldom |\n",
       "| set data confidence threshold | Removes rows where a quantitative value is less than, greater than, or not equal to a numeric value. | seldom |\n",
       "| use academic data | nan | seldom |\n",
       "| use data from colleague | A dataset was provided by another journalist. | seldom |\n",
       "| use previously cleaned data | Data that originated from a colleague. | seldom |"
      ],
      "text/plain": [
       "<IPython.core.display.Markdown object>"
      ]
     },
     "metadata": {},
     "output_type": "display_data"
    },
    {
     "data": {
      "text/markdown": [
       "### Level 3 Observation Codes"
      ],
      "text/plain": [
       "<IPython.core.display.Markdown object>"
      ]
     },
     "metadata": {},
     "output_type": "display_data"
    },
    {
     "data": {
      "text/markdown": [
       "| name | desc | commonness |\n",
       "|---|---|---|\n",
       "| wrangle data for graphics | Data need to be formatted in order to be visualized in an article, including tables. | sometimes |\n",
       "| architect repeating process | Instances where journalists employed a loop. | seldom |\n",
       "| architect a subroutine | A set of instructions grouped together to be performed multiple times. | seldom |\n",
       "| split, compute, and merge | First, the journalist partitions a single data frame into multiple, separate data frames. Then, often identical computations are run on all the data frame. Finally, the multiple data frames are consolidated into one data frame again. | seldom |\n",
       "| refine table | Table refinement refers to when a table is subset *in place*, a new object is not created in the environment. | seldom |\n",
       "| combine drifting datasets | Reconcile difference in periodically published datasets that have superficially changed over time, such as schema differences or entity names, to consolidate more than one dataset. | seldom |\n",
       "| fill in na values after an outer join | As outer joins do not drop non-matching rows, those values have NA | seldom |\n",
       "| split and compute | One table is split into two or more and identical computations are applied to each table. | seldom |\n",
       "| combine data and geography | Pairing data with GIS info. | seldom |\n",
       "| combine seemingly disparate datasets | When a notebook largely constitutes combining seemingly unrelated datasets. | seldom |\n",
       "| preserve existing values | The output of any column calculation is assigned to a new column | seldom |\n",
       "| create child table | A child table is a subset of the parent table declared as a new object in the environment. | seldom |\n",
       "| data loss from aggregation | When table columns are lost because they were dropped form resulting table due to not being relevant in aggregation. | seldom |\n",
       "| resort after merge | When a sort has to be re-done because a merge ruining the pre-merged order. | seldom |\n",
       "| silently dropping values after groupby | Values other than thsoe being grouped and calculated upon are lost in a group by operation | seldom |\n",
       "| temporary joining column | When a key for joining two tables is created and destroyed immediately after the join. | seldom |\n",
       "| value replacement | The output of any column calculation is reassigned to an existing column. | seldom |\n",
       "| wrangle data for model | Data is being wrangled in order to create a model, whether the main point of the piece is for prediction or classification | seldom |"
      ],
      "text/plain": [
       "<IPython.core.display.Markdown object>"
      ]
     },
     "metadata": {},
     "output_type": "display_data"
    }
   ],
   "source": [
    "rollupTable(False)"
   ]
  }
 ],
 "metadata": {
  "kernelspec": {
   "display_name": "Python 3",
   "language": "python",
   "name": "python3"
  },
  "language_info": {
   "codemirror_mode": {
    "name": "ipython",
    "version": 3
   },
   "file_extension": ".py",
   "mimetype": "text/x-python",
   "name": "python",
   "nbconvert_exporter": "python",
   "pygments_lexer": "ipython3",
   "version": "3.7.3"
  },
  "toc": {
   "base_numbering": 1,
   "nav_menu": {},
   "number_sections": true,
   "sideBar": true,
   "skip_h1_title": false,
   "title_cell": "Table of Contents",
   "title_sidebar": "Contents",
   "toc_cell": false,
   "toc_position": {
    "height": "calc(100% - 180px)",
    "left": "10px",
    "top": "150px",
    "width": "384px"
   },
   "toc_section_display": true,
   "toc_window_display": true
  }
 },
 "nbformat": 4,
 "nbformat_minor": 2
}

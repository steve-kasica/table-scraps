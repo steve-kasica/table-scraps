{
 "cells": [
  {
   "cell_type": "markdown",
   "metadata": {},
   "source": [
    "# Codebook"
   ]
  },
  {
   "cell_type": "code",
   "execution_count": 1,
   "metadata": {},
   "outputs": [],
   "source": [
    "import os, glob, re, subprocess\n",
    "import pandas as pd\n",
    "import yaml\n",
    "import treelib\n",
    "\n",
    "pd.set_option(\"display.max_rows\", None)  # Don't truncate rows when printing a Pandas DataFrame instance"
   ]
  },
  {
   "cell_type": "markdown",
   "metadata": {},
   "source": [
    "# Extract codes from PDFs\n",
    "\n",
    "The cell below extracts the code from each PDF"
   ]
  },
  {
   "cell_type": "code",
   "execution_count": null,
   "metadata": {
    "scrolled": false
   },
   "outputs": [],
   "source": [
    "%%time\n",
    "rep = lambda s, n: [ s for i in range(n) ]\n",
    "\n",
    "data = pd.DataFrame(columns=['org', 'article', 'analysis', 'index', 'cell', 'code'])\n",
    "levels = {'ll': 'low', 'ml': 'medium', 'hl': 'high'}\n",
    "\n",
    "ptrn = os.path.join('.', 'notebooks', '**', '**', '*.html.pdf')\n",
    "for fn in glob.iglob(ptrn, recursive=True):\n",
    "    org, article, analysis = fn.split('/')[2:]\n",
    "    \n",
    "    proc = subprocess.Popen(['python', './pdfannots/pdfannots.py', fn], stdout=subprocess.PIPE)\n",
    "    annots = proc.communicate()[0].decode('utf-8')\n",
    "    codes = re.findall(r'--\\s\\[([^\\]]+)\\]\\s([^\\n]+)\\n', annots)\n",
    "    df = pd.DataFrame({\n",
    "        'org': rep(org, len(codes)),\n",
    "        'article': rep(article, len(codes)),\n",
    "        'analysis': rep(analysis[:-9], len(codes)),  # slice off file extension\n",
    "        'index': [ i for i in range(len(codes)) ],\n",
    "        'cell': [ c[0].strip() for c in codes ],\n",
    "        'code': [ c[1].strip().lower() for c in codes ]\n",
    "    })\n",
    "    data = data.append(df)    \n",
    "\n",
    "data.head()"
   ]
  },
  {
   "cell_type": "markdown",
   "metadata": {},
   "source": [
    "Give me a summary of coding progress so far"
   ]
  },
  {
   "cell_type": "code",
   "execution_count": null,
   "metadata": {},
   "outputs": [],
   "source": [
    "summary_stats = [\n",
    "    len(data['article'].unique()),\n",
    "    len(data['code'].unique())\n",
    "]\n",
    "\n",
    "print('Articles: {}\\nCodes: {}'.format(*summary_stats))"
   ]
  },
  {
   "cell_type": "markdown",
   "metadata": {},
   "source": [
    "# Axial Coding"
   ]
  },
  {
   "cell_type": "code",
   "execution_count": null,
   "metadata": {},
   "outputs": [],
   "source": [
    "def walkTheYaml(parent, children, func):\n",
    "    \"\"\" A recursive, pre-order traversal of the code groups YAML structure\"\"\"\n",
    "    for child in children:\n",
    "        if isinstance(child, str):\n",
    "            # Leaf nodes are strings.\n",
    "            func(parent, child, True)\n",
    "        elif isinstance(child, dict):\n",
    "            # Interior nodes are dictionaries.\n",
    "            key = list(child.keys())[0]\n",
    "            func(parent, key, False)\n",
    "            walkTheYaml(key, child[key], func)"
   ]
  },
  {
   "cell_type": "markdown",
   "metadata": {},
   "source": [
    "Double check that every code generated from open coding has been covered in the hierarchy"
   ]
  },
  {
   "cell_type": "code",
   "execution_count": null,
   "metadata": {},
   "outputs": [],
   "source": [
    "root = 'Wrangling'\n",
    "leaves = []\n",
    "gatherLeaves = lambda p, c, l: leaves.append(c.lower()) if l else None\n",
    "\n",
    "with open('axial.yaml', 'r') as f:\n",
    "    code_hierarchy = yaml.safe_load(f)\n",
    "\n",
    "walkTheYaml(root, code_hierarchy, gatherLeaves)\n",
    "pdf_codes = set(data['code'].unique())\n",
    "\n",
    "diff = set(pdf_codes) - set(leaves)\n",
    "if (len(diff) == 0):  # is null set\n",
    "    print(\"All codes have been grouped 😎\")\n",
    "else:\n",
    "    print(\"Not all codes accounted for! \")\n",
    "    print('\\n'.join([ '- ' + d for d in list(diff)]))"
   ]
  },
  {
   "cell_type": "markdown",
   "metadata": {},
   "source": [
    "## Display hierarchy\n",
    "\n",
    "### Notes on Codes\n",
    "\n",
    "* **Formulate performance metric**: specifying a calculation that is later used to compare different entities. A recurring theme between many of these notebooks is to compare different entities, such as political parties, by a common, quantitative metric, such as percentage of all newly registered voters.\n",
    "* **Figure a rate**: any operation that considers one group's relation to the whole. This code covers: simple rational numbers, percentages, and per-1000 rates.\n",
    "* **Merge metadata**: Joining an auxilary table to the primary table to provide context to the phenomenon currently being analyzed.\n",
    "* **Detrend data**: \"filter out the secular effect in order to see what is going on specifically with the phenomenon you are investigating,\" Philip Meyer in *Precision Journalism*. This includes adjusting for inflation, population growth, and season. \n",
    "* **Count in table** denotes looking up the total rows in a table as well as the number of unique values in a column.\n",
    "* **Intra-column arithmetic** refers to any arithmetic operation, including count, on all values within a column.\n",
    "* **Inter-column arithmetic** refers to any arithmetic operation on all vaues between columns. \n",
    "* **Extract data from non-tabular form** includes scraping data from the web, parsing structured ASCII data (such as .fec files)\n",
    "* **De-null data**: drop table rows where a column value is null.\n",
    "* **melt table** refers to ??\n",
    "\n",
    "* **Change dataset resolution** refers to decreasing, usually but not necessarily, the granularity of observations represents as rows in the table. Changes to dataset resolution often are caused by aggregation operations. For example, if every row in a table represents the date of an observation, then the dataset can be grouped by a coarser time interval, such as month, and aggregate quantitative values, such as sum or mean, can be computed.\n",
    "\n",
    "* **Consolidate data sources** refers to combining multiple tables into one table. This wrangling activity often occurs when data is located in separate, although not disparate, sources. For example, a government agency may publish data in a CSV file every year, but a data journalist wants to compare data across many years.\n",
    "\n",
    "* **Merge data sources** refers to combining fundamentally different tables into one table. For example, *The Oregonian* compared complaints provided from a government agency with complaints scraped from the web. The key distinction here is that *merge* denotes combining datasets for insights while *consolidate* denotes combining datasets for convenience"
   ]
  },
  {
   "cell_type": "code",
   "execution_count": null,
   "metadata": {},
   "outputs": [],
   "source": [
    "tree = treelib.Tree()\n",
    "addNode = lambda p, c, foo: tree.create_node(c.title(), c.lower(), parent=p.lower() if p != None else None)\n",
    "\n",
    "addNode(None, root, False)\n",
    "walkTheYaml(root, code_hierarchy, addNode)\n",
    "\n",
    "tree.show(line_type='ascii-em')"
   ]
  },
  {
   "cell_type": "markdown",
   "metadata": {},
   "source": [
    "## Display all codes\n",
    "\n",
    "Show all the unique codes generated so far, and link them to the articles in which they appear."
   ]
  },
  {
   "cell_type": "code",
   "execution_count": null,
   "metadata": {
    "scrolled": false
   },
   "outputs": [],
   "source": [
    "data['mark'] = '✔'\n",
    "\n",
    "(\n",
    "    data[['code', 'analysis', 'mark']]\n",
    "        .drop_duplicates(['code', 'analysis'])  # Drop duplicate codes within an article\n",
    "        .set_index(['code', 'analysis'])\n",
    "        .unstack(fill_value='')\n",
    ")"
   ]
  },
  {
   "cell_type": "code",
   "execution_count": null,
   "metadata": {},
   "outputs": [],
   "source": []
  }
 ],
 "metadata": {
  "kernelspec": {
   "display_name": "Python 3",
   "language": "python",
   "name": "python3"
  },
  "language_info": {
   "codemirror_mode": {
    "name": "ipython",
    "version": 3
   },
   "file_extension": ".py",
   "mimetype": "text/x-python",
   "name": "python",
   "nbconvert_exporter": "python",
   "pygments_lexer": "ipython3",
   "version": "3.7.3"
  }
 },
 "nbformat": 4,
 "nbformat_minor": 2
}
